{
 "cells": [
  {
   "cell_type": "code",
   "execution_count": 1,
   "id": "0e617b18-2268-4615-8d08-d2093b1deb75",
   "metadata": {},
   "outputs": [
    {
     "name": "stdout",
     "output_type": "stream",
     "text": [
      "c:\\Users\\olarinoyem\\Project\\Modern-Time-Series-Forecasting-with-Python-2E\n"
     ]
    }
   ],
   "source": [
    "#Changing the working directory to the root\n",
    "%cd ../..\n"
   ]
  },
  {
   "cell_type": "code",
   "execution_count": 2,
   "id": "1d98497a",
   "metadata": {},
   "outputs": [],
   "source": [
    "# Install TimeSynth if not installed already\n",
    "# !pip install git+https://github.com/TimeSynth/TimeSynth.git"
   ]
  },
  {
   "cell_type": "code",
   "execution_count": 3,
   "id": "bce03d17-9b58-44ba-8aed-eb016815bc85",
   "metadata": {},
   "outputs": [
    {
     "ename": "ModuleNotFoundError",
     "evalue": "No module named 'src.synthetic_ts'",
     "output_type": "error",
     "traceback": [
      "\u001b[1;31m---------------------------------------------------------------------------\u001b[0m",
      "\u001b[1;31mModuleNotFoundError\u001b[0m                       Traceback (most recent call last)",
      "Cell \u001b[1;32mIn[3], line 11\u001b[0m\n\u001b[0;32m      8\u001b[0m \u001b[38;5;28;01mimport\u001b[39;00m \u001b[38;5;21;01mpandas\u001b[39;00m \u001b[38;5;28;01mas\u001b[39;00m \u001b[38;5;21;01mpd\u001b[39;00m\n\u001b[0;32m      9\u001b[0m np\u001b[38;5;241m.\u001b[39mrandom\u001b[38;5;241m.\u001b[39mseed()\n\u001b[1;32m---> 11\u001b[0m \u001b[38;5;28;01mfrom\u001b[39;00m \u001b[38;5;21;01msrc\u001b[39;00m\u001b[38;5;21;01m.\u001b[39;00m\u001b[38;5;21;01msynthetic_ts\u001b[39;00m\u001b[38;5;21;01m.\u001b[39;00m\u001b[38;5;21;01mautoregressive\u001b[39;00m \u001b[38;5;28;01mimport\u001b[39;00m AutoRegressive\n",
      "\u001b[1;31mModuleNotFoundError\u001b[0m: No module named 'src.synthetic_ts'"
     ]
    }
   ],
   "source": [
    "import numpy as np\n",
    "import matplotlib.pyplot as plt\n",
    "import os\n",
    "import plotly.express as px\n",
    "import plotly.io as pio\n",
    "pio.templates.default = \"plotly_white\"\n",
    "import timesynth as ts\n",
    "import pandas as pd\n",
    "np.random.seed()\n",
    "\n",
    "from src.synthetic_ts.autoregressive import AutoRegressive"
   ]
  },
  {
   "cell_type": "markdown",
   "id": "653b083b-fe4b-4ae1-b1c7-07e44e6e7529",
   "metadata": {
    "tags": []
   },
   "source": [
    "# Data Generating Process and Synthetic Time Series"
   ]
  },
  {
   "cell_type": "code",
   "execution_count": null,
   "id": "45f0e74e-2959-4e49-ae11-f58d133bd9f5",
   "metadata": {},
   "outputs": [],
   "source": [
    "def plot_time_series(time, values, label, legends=None):\n",
    "    if legends is not None:\n",
    "        assert len(legends)==len(values)\n",
    "    if isinstance(values, list):\n",
    "        series_dict = {\"Time\": time}\n",
    "        for v, l in zip(values, legends):\n",
    "            series_dict[l] = v\n",
    "        plot_df = pd.DataFrame(series_dict)\n",
    "        plot_df = pd.melt(plot_df,id_vars=\"Time\",var_name=\"ts\", value_name=\"Value\")\n",
    "    else:\n",
    "        series_dict = {\"Time\": time, \"Value\": values, \"ts\":\"\"}\n",
    "        plot_df = pd.DataFrame(series_dict)\n",
    "    \n",
    "    if isinstance(values, list):\n",
    "        fig = px.line(plot_df, x=\"Time\", y=\"Value\", line_dash=\"ts\")\n",
    "    else:\n",
    "        fig = px.line(plot_df, x=\"Time\", y=\"Value\")\n",
    "    fig.update_layout(\n",
    "        autosize=False,\n",
    "        width=900,\n",
    "        height=500,\n",
    "        title={\n",
    "        'text': label,\n",
    "#         'y':0.9,\n",
    "        'x':0.5,\n",
    "        'xanchor': 'center',\n",
    "        'yanchor': 'top'},\n",
    "        titlefont={\n",
    "            \"size\": 25\n",
    "        },\n",
    "        yaxis=dict(\n",
    "            title_text=\"Value\",\n",
    "            titlefont=dict(size=12),\n",
    "        ),\n",
    "        xaxis=dict(\n",
    "            title_text=\"Time\",\n",
    "            titlefont=dict(size=12),\n",
    "        )\n",
    "    )\n",
    "    return fig\n",
    "    \n",
    "def generate_timeseries(signal, noise=None):\n",
    "    time_sampler = ts.TimeSampler(stop_time=20)\n",
    "    regular_time_samples = time_sampler.sample_regular_time(num_points=100)\n",
    "    timeseries = ts.TimeSeries(signal_generator=signal, noise_generator=noise)\n",
    "    samples, signals, errors = timeseries.sample(regular_time_samples)\n",
    "    return samples, regular_time_samples, signals, errors\n",
    "\n",
    "os.makedirs(\"imgs/chapter_1\", exist_ok=True)"
   ]
  },
  {
   "cell_type": "markdown",
   "id": "5d062d6c-8bdd-466a-b207-18e3fc17a040",
   "metadata": {
    "tags": []
   },
   "source": [
    "## White Noise"
   ]
  },
  {
   "cell_type": "code",
   "execution_count": null,
   "id": "fe7a0d45-6de2-4481-8330-a7471ff5c688",
   "metadata": {},
   "outputs": [
    {
     "data": {
      "application/vnd.plotly.v1+json": {
       "config": {
        "plotlyServerURL": "https://plot.ly"
       },
       "data": [
        {
         "hovertemplate": "Time=%{x}<br>Value=%{y}<extra></extra>",
         "legendgroup": "",
         "line": {
          "color": "#636efa",
          "dash": "solid"
         },
         "marker": {
          "symbol": "circle"
         },
         "mode": "lines",
         "name": "",
         "orientation": "v",
         "showlegend": false,
         "type": "scatter",
         "x": [
          0,
          1,
          2,
          3,
          4,
          5,
          6,
          7,
          8,
          9,
          10,
          11,
          12,
          13,
          14,
          15,
          16,
          17,
          18,
          19,
          20,
          21,
          22,
          23,
          24,
          25,
          26,
          27,
          28,
          29,
          30,
          31,
          32,
          33,
          34,
          35,
          36,
          37,
          38,
          39,
          40,
          41,
          42,
          43,
          44,
          45,
          46,
          47,
          48,
          49,
          50,
          51,
          52,
          53,
          54,
          55,
          56,
          57,
          58,
          59,
          60,
          61,
          62,
          63,
          64,
          65,
          66,
          67,
          68,
          69,
          70,
          71,
          72,
          73,
          74,
          75,
          76,
          77,
          78,
          79,
          80,
          81,
          82,
          83,
          84,
          85,
          86,
          87,
          88,
          89,
          90,
          91,
          92,
          93,
          94,
          95,
          96,
          97,
          98,
          99,
          100,
          101,
          102,
          103,
          104,
          105,
          106,
          107,
          108,
          109,
          110,
          111,
          112,
          113,
          114,
          115,
          116,
          117,
          118,
          119,
          120,
          121,
          122,
          123,
          124,
          125,
          126,
          127,
          128,
          129,
          130,
          131,
          132,
          133,
          134,
          135,
          136,
          137,
          138,
          139,
          140,
          141,
          142,
          143,
          144,
          145,
          146,
          147,
          148,
          149,
          150,
          151,
          152,
          153,
          154,
          155,
          156,
          157,
          158,
          159,
          160,
          161,
          162,
          163,
          164,
          165,
          166,
          167,
          168,
          169,
          170,
          171,
          172,
          173,
          174,
          175,
          176,
          177,
          178,
          179,
          180,
          181,
          182,
          183,
          184,
          185,
          186,
          187,
          188,
          189,
          190,
          191,
          192,
          193,
          194,
          195,
          196,
          197,
          198,
          199
         ],
         "xaxis": "x",
         "y": [
          -0.42027270393697436,
          85.07012941748633,
          86.14439454092874,
          32.347197988281884,
          -107.90089661977544,
          180.58512855144525,
          44.85590436718977,
          -57.83972531476675,
          81.89810796638054,
          61.796283550515106,
          62.21704833257721,
          74.23955886742836,
          -71.36941054122431,
          11.155401344643426,
          125.21286715957328,
          72.00813866606308,
          -4.8790303864541205,
          146.88052101878102,
          -146.97784845910866,
          88.82474872967306,
          -131.22199054077583,
          -14.01798138458471,
          -58.674316780990054,
          108.0306252047104,
          -6.123178752140089,
          96.3576173558463,
          51.02175058467148,
          -67.96822345942033,
          5.426645571736929,
          52.11991056750005,
          -89.19076299111694,
          12.534326292344886,
          250.62186134580534,
          65.7459167689042,
          -57.98899369127008,
          96.12014765496893,
          24.089116955640623,
          -72.64478383800996,
          62.36941664046244,
          21.728175684911925,
          -116.95466893887428,
          -127.84061853818652,
          88.92457719362805,
          -72.60585488496132,
          -157.07106503889446,
          184.00383435551834,
          20.68577255968765,
          -2.0585715272583776,
          136.11102025286078,
          -55.51801234765674,
          -98.92642394852307,
          -170.35223293085488,
          -78.05230955003621,
          116.13369605997488,
          133.67096648974234,
          7.836437878344799,
          171.37451714647557,
          -222.17223122912503,
          125.36524812969657,
          -6.287263430995154,
          46.76261100434873,
          125.9024029583788,
          -73.07933567683706,
          20.883885509307216,
          -68.9386332259799,
          -1.0061307410798905,
          -104.08580125835122,
          138.80170497101867,
          -109.39664751359663,
          107.50413274196437,
          -10.060227864484393,
          107.27245759145929,
          32.81753536687462,
          -64.74608397314725,
          -110.28105825654708,
          11.29824356160534,
          -22.769976751623215,
          -23.798911468081148,
          -271.17498215510005,
          -79.05386651773927,
          87.98209529742714,
          -58.81707956195852,
          85.85661192235563,
          71.43427962154327,
          84.52996741096929,
          -108.91302508160179,
          -77.26543925932103,
          -131.87552348460122,
          128.76250105550193,
          139.34266112886533,
          -162.04005559314237,
          80.29995028321717,
          14.551445731504419,
          -52.4075818866049,
          1.1953602808771981,
          -19.59062265287449,
          97.69165350632345,
          53.520903016999576,
          13.576291206603624,
          44.89726500425616,
          97.30273682453081,
          34.61150512771161,
          -173.1481986773938,
          -76.51047091117528,
          10.74472802303359,
          68.6856008442143,
          -202.65860876143603,
          -31.28138187530475,
          215.78547657980533,
          -88.5241049912009,
          -232.3211691181107,
          -73.04328351213579,
          112.09588277978155,
          98.70826308620249,
          -207.03964750179682,
          43.34738020583283,
          22.261392542284973,
          90.40953342225583,
          68.0383486768219,
          -213.96026885619395,
          -51.56881738270369,
          -9.670762332800646,
          -135.7045650762431,
          23.116711461256596,
          0.28350509575229166,
          40.04218736633964,
          139.5428889896174,
          -117.28102053495404,
          -71.56205882252384,
          -92.13486239119216,
          67.35062868056025,
          7.948863557247936,
          -169.60780753475728,
          36.65585434594782,
          -60.851677444319066,
          10.288429960249358,
          -76.50355098610024,
          60.886655642948725,
          -80.65259805625762,
          55.85151373640195,
          -54.397228695204745,
          77.90641632396913,
          34.21727282998831,
          -22.750077389667666,
          14.912953051398539,
          102.67703609328105,
          -18.673014639031788,
          65.11973366841298,
          -90.61171988037792,
          55.94181652877695,
          -62.66233511799003,
          -187.03127063915176,
          4.274684115436465,
          -68.82756443142878,
          78.81234737326609,
          3.6392442473002697,
          156.9893533742341,
          261.6311786168761,
          -148.90661371413645,
          13.038260488928774,
          -81.13661294170012,
          -67.25541648808367,
          -136.32973496503865,
          34.78696705603628,
          -3.128606089008433,
          -10.431152896967138,
          -80.31561457272724,
          -0.6759432349708588,
          84.67635153843808,
          -162.89514911570043,
          74.03709870639817,
          25.43427462014945,
          162.8100877427022,
          134.74543654587833,
          72.62044383525455,
          129.16760475757775,
          178.34063974737842,
          -142.18224066798808,
          -63.34453991685521,
          -93.82197261084919,
          13.063998850402431,
          -48.05349755019541,
          -65.22315030995888,
          115.11583138341047,
          -37.05872974052081,
          9.143581495585607,
          -153.14385915570156,
          270.21735527623434,
          94.00445472500026,
          -15.805722585500531,
          -23.55203571959441,
          -11.396631337654558,
          -119.70140720615414,
          165.9430079662313,
          15.033059897463206,
          -42.583946998303155,
          -197.94459437760125,
          -132.63038904471824,
          31.699281648617717,
          127.76865972105809
         ],
         "yaxis": "y"
        }
       ],
       "layout": {
        "autosize": false,
        "height": 500,
        "legend": {
         "tracegroupgap": 0
        },
        "margin": {
         "t": 60
        },
        "template": {
         "data": {
          "bar": [
           {
            "error_x": {
             "color": "#2a3f5f"
            },
            "error_y": {
             "color": "#2a3f5f"
            },
            "marker": {
             "line": {
              "color": "white",
              "width": 0.5
             },
             "pattern": {
              "fillmode": "overlay",
              "size": 10,
              "solidity": 0.2
             }
            },
            "type": "bar"
           }
          ],
          "barpolar": [
           {
            "marker": {
             "line": {
              "color": "white",
              "width": 0.5
             },
             "pattern": {
              "fillmode": "overlay",
              "size": 10,
              "solidity": 0.2
             }
            },
            "type": "barpolar"
           }
          ],
          "carpet": [
           {
            "aaxis": {
             "endlinecolor": "#2a3f5f",
             "gridcolor": "#C8D4E3",
             "linecolor": "#C8D4E3",
             "minorgridcolor": "#C8D4E3",
             "startlinecolor": "#2a3f5f"
            },
            "baxis": {
             "endlinecolor": "#2a3f5f",
             "gridcolor": "#C8D4E3",
             "linecolor": "#C8D4E3",
             "minorgridcolor": "#C8D4E3",
             "startlinecolor": "#2a3f5f"
            },
            "type": "carpet"
           }
          ],
          "choropleth": [
           {
            "colorbar": {
             "outlinewidth": 0,
             "ticks": ""
            },
            "type": "choropleth"
           }
          ],
          "contour": [
           {
            "colorbar": {
             "outlinewidth": 0,
             "ticks": ""
            },
            "colorscale": [
             [
              0,
              "#0d0887"
             ],
             [
              0.1111111111111111,
              "#46039f"
             ],
             [
              0.2222222222222222,
              "#7201a8"
             ],
             [
              0.3333333333333333,
              "#9c179e"
             ],
             [
              0.4444444444444444,
              "#bd3786"
             ],
             [
              0.5555555555555556,
              "#d8576b"
             ],
             [
              0.6666666666666666,
              "#ed7953"
             ],
             [
              0.7777777777777778,
              "#fb9f3a"
             ],
             [
              0.8888888888888888,
              "#fdca26"
             ],
             [
              1,
              "#f0f921"
             ]
            ],
            "type": "contour"
           }
          ],
          "contourcarpet": [
           {
            "colorbar": {
             "outlinewidth": 0,
             "ticks": ""
            },
            "type": "contourcarpet"
           }
          ],
          "heatmap": [
           {
            "colorbar": {
             "outlinewidth": 0,
             "ticks": ""
            },
            "colorscale": [
             [
              0,
              "#0d0887"
             ],
             [
              0.1111111111111111,
              "#46039f"
             ],
             [
              0.2222222222222222,
              "#7201a8"
             ],
             [
              0.3333333333333333,
              "#9c179e"
             ],
             [
              0.4444444444444444,
              "#bd3786"
             ],
             [
              0.5555555555555556,
              "#d8576b"
             ],
             [
              0.6666666666666666,
              "#ed7953"
             ],
             [
              0.7777777777777778,
              "#fb9f3a"
             ],
             [
              0.8888888888888888,
              "#fdca26"
             ],
             [
              1,
              "#f0f921"
             ]
            ],
            "type": "heatmap"
           }
          ],
          "heatmapgl": [
           {
            "colorbar": {
             "outlinewidth": 0,
             "ticks": ""
            },
            "colorscale": [
             [
              0,
              "#0d0887"
             ],
             [
              0.1111111111111111,
              "#46039f"
             ],
             [
              0.2222222222222222,
              "#7201a8"
             ],
             [
              0.3333333333333333,
              "#9c179e"
             ],
             [
              0.4444444444444444,
              "#bd3786"
             ],
             [
              0.5555555555555556,
              "#d8576b"
             ],
             [
              0.6666666666666666,
              "#ed7953"
             ],
             [
              0.7777777777777778,
              "#fb9f3a"
             ],
             [
              0.8888888888888888,
              "#fdca26"
             ],
             [
              1,
              "#f0f921"
             ]
            ],
            "type": "heatmapgl"
           }
          ],
          "histogram": [
           {
            "marker": {
             "pattern": {
              "fillmode": "overlay",
              "size": 10,
              "solidity": 0.2
             }
            },
            "type": "histogram"
           }
          ],
          "histogram2d": [
           {
            "colorbar": {
             "outlinewidth": 0,
             "ticks": ""
            },
            "colorscale": [
             [
              0,
              "#0d0887"
             ],
             [
              0.1111111111111111,
              "#46039f"
             ],
             [
              0.2222222222222222,
              "#7201a8"
             ],
             [
              0.3333333333333333,
              "#9c179e"
             ],
             [
              0.4444444444444444,
              "#bd3786"
             ],
             [
              0.5555555555555556,
              "#d8576b"
             ],
             [
              0.6666666666666666,
              "#ed7953"
             ],
             [
              0.7777777777777778,
              "#fb9f3a"
             ],
             [
              0.8888888888888888,
              "#fdca26"
             ],
             [
              1,
              "#f0f921"
             ]
            ],
            "type": "histogram2d"
           }
          ],
          "histogram2dcontour": [
           {
            "colorbar": {
             "outlinewidth": 0,
             "ticks": ""
            },
            "colorscale": [
             [
              0,
              "#0d0887"
             ],
             [
              0.1111111111111111,
              "#46039f"
             ],
             [
              0.2222222222222222,
              "#7201a8"
             ],
             [
              0.3333333333333333,
              "#9c179e"
             ],
             [
              0.4444444444444444,
              "#bd3786"
             ],
             [
              0.5555555555555556,
              "#d8576b"
             ],
             [
              0.6666666666666666,
              "#ed7953"
             ],
             [
              0.7777777777777778,
              "#fb9f3a"
             ],
             [
              0.8888888888888888,
              "#fdca26"
             ],
             [
              1,
              "#f0f921"
             ]
            ],
            "type": "histogram2dcontour"
           }
          ],
          "mesh3d": [
           {
            "colorbar": {
             "outlinewidth": 0,
             "ticks": ""
            },
            "type": "mesh3d"
           }
          ],
          "parcoords": [
           {
            "line": {
             "colorbar": {
              "outlinewidth": 0,
              "ticks": ""
             }
            },
            "type": "parcoords"
           }
          ],
          "pie": [
           {
            "automargin": true,
            "type": "pie"
           }
          ],
          "scatter": [
           {
            "fillpattern": {
             "fillmode": "overlay",
             "size": 10,
             "solidity": 0.2
            },
            "type": "scatter"
           }
          ],
          "scatter3d": [
           {
            "line": {
             "colorbar": {
              "outlinewidth": 0,
              "ticks": ""
             }
            },
            "marker": {
             "colorbar": {
              "outlinewidth": 0,
              "ticks": ""
             }
            },
            "type": "scatter3d"
           }
          ],
          "scattercarpet": [
           {
            "marker": {
             "colorbar": {
              "outlinewidth": 0,
              "ticks": ""
             }
            },
            "type": "scattercarpet"
           }
          ],
          "scattergeo": [
           {
            "marker": {
             "colorbar": {
              "outlinewidth": 0,
              "ticks": ""
             }
            },
            "type": "scattergeo"
           }
          ],
          "scattergl": [
           {
            "marker": {
             "colorbar": {
              "outlinewidth": 0,
              "ticks": ""
             }
            },
            "type": "scattergl"
           }
          ],
          "scattermapbox": [
           {
            "marker": {
             "colorbar": {
              "outlinewidth": 0,
              "ticks": ""
             }
            },
            "type": "scattermapbox"
           }
          ],
          "scatterpolar": [
           {
            "marker": {
             "colorbar": {
              "outlinewidth": 0,
              "ticks": ""
             }
            },
            "type": "scatterpolar"
           }
          ],
          "scatterpolargl": [
           {
            "marker": {
             "colorbar": {
              "outlinewidth": 0,
              "ticks": ""
             }
            },
            "type": "scatterpolargl"
           }
          ],
          "scatterternary": [
           {
            "marker": {
             "colorbar": {
              "outlinewidth": 0,
              "ticks": ""
             }
            },
            "type": "scatterternary"
           }
          ],
          "surface": [
           {
            "colorbar": {
             "outlinewidth": 0,
             "ticks": ""
            },
            "colorscale": [
             [
              0,
              "#0d0887"
             ],
             [
              0.1111111111111111,
              "#46039f"
             ],
             [
              0.2222222222222222,
              "#7201a8"
             ],
             [
              0.3333333333333333,
              "#9c179e"
             ],
             [
              0.4444444444444444,
              "#bd3786"
             ],
             [
              0.5555555555555556,
              "#d8576b"
             ],
             [
              0.6666666666666666,
              "#ed7953"
             ],
             [
              0.7777777777777778,
              "#fb9f3a"
             ],
             [
              0.8888888888888888,
              "#fdca26"
             ],
             [
              1,
              "#f0f921"
             ]
            ],
            "type": "surface"
           }
          ],
          "table": [
           {
            "cells": {
             "fill": {
              "color": "#EBF0F8"
             },
             "line": {
              "color": "white"
             }
            },
            "header": {
             "fill": {
              "color": "#C8D4E3"
             },
             "line": {
              "color": "white"
             }
            },
            "type": "table"
           }
          ]
         },
         "layout": {
          "annotationdefaults": {
           "arrowcolor": "#2a3f5f",
           "arrowhead": 0,
           "arrowwidth": 1
          },
          "autotypenumbers": "strict",
          "coloraxis": {
           "colorbar": {
            "outlinewidth": 0,
            "ticks": ""
           }
          },
          "colorscale": {
           "diverging": [
            [
             0,
             "#8e0152"
            ],
            [
             0.1,
             "#c51b7d"
            ],
            [
             0.2,
             "#de77ae"
            ],
            [
             0.3,
             "#f1b6da"
            ],
            [
             0.4,
             "#fde0ef"
            ],
            [
             0.5,
             "#f7f7f7"
            ],
            [
             0.6,
             "#e6f5d0"
            ],
            [
             0.7,
             "#b8e186"
            ],
            [
             0.8,
             "#7fbc41"
            ],
            [
             0.9,
             "#4d9221"
            ],
            [
             1,
             "#276419"
            ]
           ],
           "sequential": [
            [
             0,
             "#0d0887"
            ],
            [
             0.1111111111111111,
             "#46039f"
            ],
            [
             0.2222222222222222,
             "#7201a8"
            ],
            [
             0.3333333333333333,
             "#9c179e"
            ],
            [
             0.4444444444444444,
             "#bd3786"
            ],
            [
             0.5555555555555556,
             "#d8576b"
            ],
            [
             0.6666666666666666,
             "#ed7953"
            ],
            [
             0.7777777777777778,
             "#fb9f3a"
            ],
            [
             0.8888888888888888,
             "#fdca26"
            ],
            [
             1,
             "#f0f921"
            ]
           ],
           "sequentialminus": [
            [
             0,
             "#0d0887"
            ],
            [
             0.1111111111111111,
             "#46039f"
            ],
            [
             0.2222222222222222,
             "#7201a8"
            ],
            [
             0.3333333333333333,
             "#9c179e"
            ],
            [
             0.4444444444444444,
             "#bd3786"
            ],
            [
             0.5555555555555556,
             "#d8576b"
            ],
            [
             0.6666666666666666,
             "#ed7953"
            ],
            [
             0.7777777777777778,
             "#fb9f3a"
            ],
            [
             0.8888888888888888,
             "#fdca26"
            ],
            [
             1,
             "#f0f921"
            ]
           ]
          },
          "colorway": [
           "#636efa",
           "#EF553B",
           "#00cc96",
           "#ab63fa",
           "#FFA15A",
           "#19d3f3",
           "#FF6692",
           "#B6E880",
           "#FF97FF",
           "#FECB52"
          ],
          "font": {
           "color": "#2a3f5f"
          },
          "geo": {
           "bgcolor": "white",
           "lakecolor": "white",
           "landcolor": "white",
           "showlakes": true,
           "showland": true,
           "subunitcolor": "#C8D4E3"
          },
          "hoverlabel": {
           "align": "left"
          },
          "hovermode": "closest",
          "mapbox": {
           "style": "light"
          },
          "paper_bgcolor": "white",
          "plot_bgcolor": "white",
          "polar": {
           "angularaxis": {
            "gridcolor": "#EBF0F8",
            "linecolor": "#EBF0F8",
            "ticks": ""
           },
           "bgcolor": "white",
           "radialaxis": {
            "gridcolor": "#EBF0F8",
            "linecolor": "#EBF0F8",
            "ticks": ""
           }
          },
          "scene": {
           "xaxis": {
            "backgroundcolor": "white",
            "gridcolor": "#DFE8F3",
            "gridwidth": 2,
            "linecolor": "#EBF0F8",
            "showbackground": true,
            "ticks": "",
            "zerolinecolor": "#EBF0F8"
           },
           "yaxis": {
            "backgroundcolor": "white",
            "gridcolor": "#DFE8F3",
            "gridwidth": 2,
            "linecolor": "#EBF0F8",
            "showbackground": true,
            "ticks": "",
            "zerolinecolor": "#EBF0F8"
           },
           "zaxis": {
            "backgroundcolor": "white",
            "gridcolor": "#DFE8F3",
            "gridwidth": 2,
            "linecolor": "#EBF0F8",
            "showbackground": true,
            "ticks": "",
            "zerolinecolor": "#EBF0F8"
           }
          },
          "shapedefaults": {
           "line": {
            "color": "#2a3f5f"
           }
          },
          "ternary": {
           "aaxis": {
            "gridcolor": "#DFE8F3",
            "linecolor": "#A2B1C6",
            "ticks": ""
           },
           "baxis": {
            "gridcolor": "#DFE8F3",
            "linecolor": "#A2B1C6",
            "ticks": ""
           },
           "bgcolor": "white",
           "caxis": {
            "gridcolor": "#DFE8F3",
            "linecolor": "#A2B1C6",
            "ticks": ""
           }
          },
          "title": {
           "x": 0.05
          },
          "xaxis": {
           "automargin": true,
           "gridcolor": "#EBF0F8",
           "linecolor": "#EBF0F8",
           "ticks": "",
           "title": {
            "standoff": 15
           },
           "zerolinecolor": "#EBF0F8",
           "zerolinewidth": 2
          },
          "yaxis": {
           "automargin": true,
           "gridcolor": "#EBF0F8",
           "linecolor": "#EBF0F8",
           "ticks": "",
           "title": {
            "standoff": 15
           },
           "zerolinecolor": "#EBF0F8",
           "zerolinewidth": 2
          }
         }
        },
        "title": {
         "font": {
          "size": 25
         },
         "text": "",
         "x": 0.5,
         "xanchor": "center",
         "yanchor": "top"
        },
        "width": 900,
        "xaxis": {
         "anchor": "y",
         "domain": [
          0,
          1
         ],
         "title": {
          "font": {
           "size": 12
          },
          "text": "Time"
         }
        },
        "yaxis": {
         "anchor": "x",
         "domain": [
          0,
          1
         ],
         "title": {
          "font": {
           "size": 12
          },
          "text": "Value"
         }
        }
       }
      }
     },
     "metadata": {},
     "output_type": "display_data"
    }
   ],
   "source": [
    "# Generate the time axis with sequential numbers upto 200\n",
    "time = np.arange(200)\n",
    "# Sample 200 hundred random values\n",
    "values = np.random.randn(200)*100\n",
    "fig = plot_time_series(time, values, \"\")\n",
    "fig.write_image(\"imgs/chapter_1/white_noise_process.png\")\n",
    "fig.show()"
   ]
  },
  {
   "cell_type": "markdown",
   "id": "c607b035-6fb3-4eea-b816-0f2cebfc9b7c",
   "metadata": {
    "tags": []
   },
   "source": [
    "## Red Noise"
   ]
  },
  {
   "cell_type": "code",
   "execution_count": null,
   "id": "5a51fd6c-0ef9-4f73-8d7b-41420028527c",
   "metadata": {},
   "outputs": [
    {
     "data": {
      "application/vnd.plotly.v1+json": {
       "config": {
        "plotlyServerURL": "https://plot.ly"
       },
       "data": [
        {
         "hovertemplate": "Time=%{x}<br>Value=%{y}<extra></extra>",
         "legendgroup": "",
         "line": {
          "color": "#636efa",
          "dash": "solid"
         },
         "marker": {
          "symbol": "circle"
         },
         "mode": "lines",
         "name": "",
         "orientation": "v",
         "showlegend": false,
         "type": "scatter",
         "x": [
          0,
          1,
          2,
          3,
          4,
          5,
          6,
          7,
          8,
          9,
          10,
          11,
          12,
          13,
          14,
          15,
          16,
          17,
          18,
          19,
          20,
          21,
          22,
          23,
          24,
          25,
          26,
          27,
          28,
          29,
          30,
          31,
          32,
          33,
          34,
          35,
          36,
          37,
          38,
          39,
          40,
          41,
          42,
          43,
          44,
          45,
          46,
          47,
          48,
          49,
          50,
          51,
          52,
          53,
          54,
          55,
          56,
          57,
          58,
          59,
          60,
          61,
          62,
          63,
          64,
          65,
          66,
          67,
          68,
          69,
          70,
          71,
          72,
          73,
          74,
          75,
          76,
          77,
          78,
          79,
          80,
          81,
          82,
          83,
          84,
          85,
          86,
          87,
          88,
          89,
          90,
          91,
          92,
          93,
          94,
          95,
          96,
          97,
          98,
          99,
          100,
          101,
          102,
          103,
          104,
          105,
          106,
          107,
          108,
          109,
          110,
          111,
          112,
          113,
          114,
          115,
          116,
          117,
          118,
          119,
          120,
          121,
          122,
          123,
          124,
          125,
          126,
          127,
          128,
          129,
          130,
          131,
          132,
          133,
          134,
          135,
          136,
          137,
          138,
          139,
          140,
          141,
          142,
          143,
          144,
          145,
          146,
          147,
          148,
          149,
          150,
          151,
          152,
          153,
          154,
          155,
          156,
          157,
          158,
          159,
          160,
          161,
          162,
          163,
          164,
          165,
          166,
          167,
          168,
          169,
          170,
          171,
          172,
          173,
          174,
          175,
          176,
          177,
          178,
          179,
          180,
          181,
          182,
          183,
          184,
          185,
          186,
          187,
          188,
          189,
          190,
          191,
          192,
          193,
          194,
          195,
          196,
          197,
          198,
          199
         ],
         "xaxis": "x",
         "y": [
          -159.7244453665105,
          -10.732628097055986,
          28.37600163999541,
          51.046983179790175,
          -23.63370030005693,
          -13.088052977779574,
          150.39699565554184,
          312.37279769356036,
          36.389985499587866,
          -13.815738118288905,
          138.38141764096363,
          -9.198901949352475,
          -37.48620257251609,
          -27.410912708981623,
          72.38920271867417,
          -115.12278732445593,
          -110.10764345814204,
          -68.47966951908205,
          -39.79627943628473,
          -112.80199377021262,
          41.86475292738655,
          -57.56643125497081,
          -103.40905661088058,
          1.6008861629481643,
          59.552614684770106,
          174.95607835187826,
          -60.389686250090165,
          -115.76833860769432,
          -38.66650961245049,
          180.05088196712634,
          67.36597719689493,
          -2.4328576865981866,
          -13.388029318801602,
          -7.618556782319478,
          -83.48916375939487,
          -124.9666013503043,
          209.0549575775349,
          92.57148216040774,
          -172.9540225999844,
          -166.97353776726783,
          28.624840068480253,
          29.98264306817688,
          85.22457646392982,
          -17.719671785165147,
          76.35375658767667,
          82.77962160919805,
          218.06467636164518,
          23.81096862093598,
          20.070636333870798,
          62.69519101255039,
          -118.56313754130814,
          -20.879773228240456,
          183.0170626918088,
          60.51912836338081,
          -4.9592029198180185,
          143.91106726922055,
          -17.122319013559427,
          -74.90923330979993,
          20.902651775939635,
          -116.90402712645313,
          -205.0320626525034,
          -44.26272437884202,
          -116.76665168229184,
          31.127577517995775,
          -35.61873814319106,
          39.3619825343594,
          55.99481695306786,
          18.64165650951473,
          156.46295643653366,
          -34.48199172347762,
          -44.92033733014475,
          -99.44464951305747,
          -170.76710968051302,
          -71.09849693109473,
          3.8649715157784748,
          -10.77378698206253,
          -14.53846741165621,
          -130.33350734091377,
          51.52929945813814,
          155.96088153143944,
          -83.10539485054449,
          52.89263182461126,
          25.119144682388505,
          -103.03314841749025,
          55.75237234080395,
          28.649756089436792,
          -76.13389698088793,
          9.3009935922659,
          148.09503705584288,
          -39.81032824184755,
          28.306391629659494,
          103.35854310607195,
          71.70636996366433,
          -102.92277886811382,
          -53.593674744610254,
          -83.54027193981378,
          -37.29482926931514,
          -164.04720028991113,
          -18.548871506115297,
          -69.97039370955007,
          81.05889647606341,
          130.1238887616719,
          259.8441493666613,
          134.7323115618682,
          126.66484221898745,
          47.04306073945271,
          71.94606036747912,
          4.914946334019273,
          107.2255253526555,
          44.12313117230115,
          24.85611803512974,
          -66.53719664530868,
          -86.79723613554305,
          -18.2199064934065,
          -55.86697122703588,
          19.169620380629155,
          -38.36898707052812,
          -69.19361016202282,
          -34.438964707671865,
          -91.2759131754287,
          38.13280472163333,
          -144.31710460323347,
          39.18213642578074,
          -10.948392171125295,
          -31.989627277591794,
          20.190301113673094,
          -2.527585457076535,
          73.10851328881652,
          82.44421007042344,
          98.65808733833703,
          -40.19108168925057,
          -31.706787104976264,
          24.355352885737627,
          -200.454745001862,
          76.51459913519449,
          135.88777210237222,
          -75.54419010947854,
          57.55978235322088,
          135.01140246820034,
          7.599800068241166,
          -12.803235424131323,
          -2.8154868809075877,
          27.646069378789072,
          67.89868407214948,
          217.8244514202559,
          179.71276947417192,
          45.45107967750496,
          17.448444917796117,
          13.73507971643707,
          19.066219404658284,
          13.934000600697797,
          89.11406423500726,
          36.19147735400399,
          -146.80650976557823,
          14.238544279710489,
          149.66167439532975,
          107.53907515204833,
          182.58808745291924,
          234.9687424516569,
          -164.6691432608553,
          -81.5037157543799,
          10.285593801623058,
          98.50505623297596,
          109.06102513427686,
          -114.38290182516052,
          -83.70542764207212,
          -130.57833063124423,
          -66.35469977010953,
          26.217261338067818,
          71.06275169578907,
          10.948442624375161,
          57.85288315650433,
          -20.337714787464748,
          39.9860372436335,
          113.92908264309204,
          92.75172922005757,
          56.280068741872526,
          142.33256268952874,
          -195.7570772421962,
          -36.23312312078507,
          -7.85662674179949,
          -53.5865102963975,
          30.068690535527494,
          27.231198022283746,
          -47.28015475294744,
          -90.7747160193841,
          195.6376782518032,
          17.509103066541094,
          -25.63261579086938,
          182.05182507048963,
          80.89662666781162,
          12.10530374999469,
          -106.53866478814696,
          186.44006661160822,
          114.13905134682601,
          -88.99205753460097,
          -52.00386035374953,
          -74.63030229123441,
          66.7863882745157,
          162.15630775220114
         ],
         "yaxis": "y"
        }
       ],
       "layout": {
        "autosize": false,
        "height": 500,
        "legend": {
         "tracegroupgap": 0
        },
        "margin": {
         "t": 60
        },
        "template": {
         "data": {
          "bar": [
           {
            "error_x": {
             "color": "#2a3f5f"
            },
            "error_y": {
             "color": "#2a3f5f"
            },
            "marker": {
             "line": {
              "color": "white",
              "width": 0.5
             },
             "pattern": {
              "fillmode": "overlay",
              "size": 10,
              "solidity": 0.2
             }
            },
            "type": "bar"
           }
          ],
          "barpolar": [
           {
            "marker": {
             "line": {
              "color": "white",
              "width": 0.5
             },
             "pattern": {
              "fillmode": "overlay",
              "size": 10,
              "solidity": 0.2
             }
            },
            "type": "barpolar"
           }
          ],
          "carpet": [
           {
            "aaxis": {
             "endlinecolor": "#2a3f5f",
             "gridcolor": "#C8D4E3",
             "linecolor": "#C8D4E3",
             "minorgridcolor": "#C8D4E3",
             "startlinecolor": "#2a3f5f"
            },
            "baxis": {
             "endlinecolor": "#2a3f5f",
             "gridcolor": "#C8D4E3",
             "linecolor": "#C8D4E3",
             "minorgridcolor": "#C8D4E3",
             "startlinecolor": "#2a3f5f"
            },
            "type": "carpet"
           }
          ],
          "choropleth": [
           {
            "colorbar": {
             "outlinewidth": 0,
             "ticks": ""
            },
            "type": "choropleth"
           }
          ],
          "contour": [
           {
            "colorbar": {
             "outlinewidth": 0,
             "ticks": ""
            },
            "colorscale": [
             [
              0,
              "#0d0887"
             ],
             [
              0.1111111111111111,
              "#46039f"
             ],
             [
              0.2222222222222222,
              "#7201a8"
             ],
             [
              0.3333333333333333,
              "#9c179e"
             ],
             [
              0.4444444444444444,
              "#bd3786"
             ],
             [
              0.5555555555555556,
              "#d8576b"
             ],
             [
              0.6666666666666666,
              "#ed7953"
             ],
             [
              0.7777777777777778,
              "#fb9f3a"
             ],
             [
              0.8888888888888888,
              "#fdca26"
             ],
             [
              1,
              "#f0f921"
             ]
            ],
            "type": "contour"
           }
          ],
          "contourcarpet": [
           {
            "colorbar": {
             "outlinewidth": 0,
             "ticks": ""
            },
            "type": "contourcarpet"
           }
          ],
          "heatmap": [
           {
            "colorbar": {
             "outlinewidth": 0,
             "ticks": ""
            },
            "colorscale": [
             [
              0,
              "#0d0887"
             ],
             [
              0.1111111111111111,
              "#46039f"
             ],
             [
              0.2222222222222222,
              "#7201a8"
             ],
             [
              0.3333333333333333,
              "#9c179e"
             ],
             [
              0.4444444444444444,
              "#bd3786"
             ],
             [
              0.5555555555555556,
              "#d8576b"
             ],
             [
              0.6666666666666666,
              "#ed7953"
             ],
             [
              0.7777777777777778,
              "#fb9f3a"
             ],
             [
              0.8888888888888888,
              "#fdca26"
             ],
             [
              1,
              "#f0f921"
             ]
            ],
            "type": "heatmap"
           }
          ],
          "heatmapgl": [
           {
            "colorbar": {
             "outlinewidth": 0,
             "ticks": ""
            },
            "colorscale": [
             [
              0,
              "#0d0887"
             ],
             [
              0.1111111111111111,
              "#46039f"
             ],
             [
              0.2222222222222222,
              "#7201a8"
             ],
             [
              0.3333333333333333,
              "#9c179e"
             ],
             [
              0.4444444444444444,
              "#bd3786"
             ],
             [
              0.5555555555555556,
              "#d8576b"
             ],
             [
              0.6666666666666666,
              "#ed7953"
             ],
             [
              0.7777777777777778,
              "#fb9f3a"
             ],
             [
              0.8888888888888888,
              "#fdca26"
             ],
             [
              1,
              "#f0f921"
             ]
            ],
            "type": "heatmapgl"
           }
          ],
          "histogram": [
           {
            "marker": {
             "pattern": {
              "fillmode": "overlay",
              "size": 10,
              "solidity": 0.2
             }
            },
            "type": "histogram"
           }
          ],
          "histogram2d": [
           {
            "colorbar": {
             "outlinewidth": 0,
             "ticks": ""
            },
            "colorscale": [
             [
              0,
              "#0d0887"
             ],
             [
              0.1111111111111111,
              "#46039f"
             ],
             [
              0.2222222222222222,
              "#7201a8"
             ],
             [
              0.3333333333333333,
              "#9c179e"
             ],
             [
              0.4444444444444444,
              "#bd3786"
             ],
             [
              0.5555555555555556,
              "#d8576b"
             ],
             [
              0.6666666666666666,
              "#ed7953"
             ],
             [
              0.7777777777777778,
              "#fb9f3a"
             ],
             [
              0.8888888888888888,
              "#fdca26"
             ],
             [
              1,
              "#f0f921"
             ]
            ],
            "type": "histogram2d"
           }
          ],
          "histogram2dcontour": [
           {
            "colorbar": {
             "outlinewidth": 0,
             "ticks": ""
            },
            "colorscale": [
             [
              0,
              "#0d0887"
             ],
             [
              0.1111111111111111,
              "#46039f"
             ],
             [
              0.2222222222222222,
              "#7201a8"
             ],
             [
              0.3333333333333333,
              "#9c179e"
             ],
             [
              0.4444444444444444,
              "#bd3786"
             ],
             [
              0.5555555555555556,
              "#d8576b"
             ],
             [
              0.6666666666666666,
              "#ed7953"
             ],
             [
              0.7777777777777778,
              "#fb9f3a"
             ],
             [
              0.8888888888888888,
              "#fdca26"
             ],
             [
              1,
              "#f0f921"
             ]
            ],
            "type": "histogram2dcontour"
           }
          ],
          "mesh3d": [
           {
            "colorbar": {
             "outlinewidth": 0,
             "ticks": ""
            },
            "type": "mesh3d"
           }
          ],
          "parcoords": [
           {
            "line": {
             "colorbar": {
              "outlinewidth": 0,
              "ticks": ""
             }
            },
            "type": "parcoords"
           }
          ],
          "pie": [
           {
            "automargin": true,
            "type": "pie"
           }
          ],
          "scatter": [
           {
            "fillpattern": {
             "fillmode": "overlay",
             "size": 10,
             "solidity": 0.2
            },
            "type": "scatter"
           }
          ],
          "scatter3d": [
           {
            "line": {
             "colorbar": {
              "outlinewidth": 0,
              "ticks": ""
             }
            },
            "marker": {
             "colorbar": {
              "outlinewidth": 0,
              "ticks": ""
             }
            },
            "type": "scatter3d"
           }
          ],
          "scattercarpet": [
           {
            "marker": {
             "colorbar": {
              "outlinewidth": 0,
              "ticks": ""
             }
            },
            "type": "scattercarpet"
           }
          ],
          "scattergeo": [
           {
            "marker": {
             "colorbar": {
              "outlinewidth": 0,
              "ticks": ""
             }
            },
            "type": "scattergeo"
           }
          ],
          "scattergl": [
           {
            "marker": {
             "colorbar": {
              "outlinewidth": 0,
              "ticks": ""
             }
            },
            "type": "scattergl"
           }
          ],
          "scattermapbox": [
           {
            "marker": {
             "colorbar": {
              "outlinewidth": 0,
              "ticks": ""
             }
            },
            "type": "scattermapbox"
           }
          ],
          "scatterpolar": [
           {
            "marker": {
             "colorbar": {
              "outlinewidth": 0,
              "ticks": ""
             }
            },
            "type": "scatterpolar"
           }
          ],
          "scatterpolargl": [
           {
            "marker": {
             "colorbar": {
              "outlinewidth": 0,
              "ticks": ""
             }
            },
            "type": "scatterpolargl"
           }
          ],
          "scatterternary": [
           {
            "marker": {
             "colorbar": {
              "outlinewidth": 0,
              "ticks": ""
             }
            },
            "type": "scatterternary"
           }
          ],
          "surface": [
           {
            "colorbar": {
             "outlinewidth": 0,
             "ticks": ""
            },
            "colorscale": [
             [
              0,
              "#0d0887"
             ],
             [
              0.1111111111111111,
              "#46039f"
             ],
             [
              0.2222222222222222,
              "#7201a8"
             ],
             [
              0.3333333333333333,
              "#9c179e"
             ],
             [
              0.4444444444444444,
              "#bd3786"
             ],
             [
              0.5555555555555556,
              "#d8576b"
             ],
             [
              0.6666666666666666,
              "#ed7953"
             ],
             [
              0.7777777777777778,
              "#fb9f3a"
             ],
             [
              0.8888888888888888,
              "#fdca26"
             ],
             [
              1,
              "#f0f921"
             ]
            ],
            "type": "surface"
           }
          ],
          "table": [
           {
            "cells": {
             "fill": {
              "color": "#EBF0F8"
             },
             "line": {
              "color": "white"
             }
            },
            "header": {
             "fill": {
              "color": "#C8D4E3"
             },
             "line": {
              "color": "white"
             }
            },
            "type": "table"
           }
          ]
         },
         "layout": {
          "annotationdefaults": {
           "arrowcolor": "#2a3f5f",
           "arrowhead": 0,
           "arrowwidth": 1
          },
          "autotypenumbers": "strict",
          "coloraxis": {
           "colorbar": {
            "outlinewidth": 0,
            "ticks": ""
           }
          },
          "colorscale": {
           "diverging": [
            [
             0,
             "#8e0152"
            ],
            [
             0.1,
             "#c51b7d"
            ],
            [
             0.2,
             "#de77ae"
            ],
            [
             0.3,
             "#f1b6da"
            ],
            [
             0.4,
             "#fde0ef"
            ],
            [
             0.5,
             "#f7f7f7"
            ],
            [
             0.6,
             "#e6f5d0"
            ],
            [
             0.7,
             "#b8e186"
            ],
            [
             0.8,
             "#7fbc41"
            ],
            [
             0.9,
             "#4d9221"
            ],
            [
             1,
             "#276419"
            ]
           ],
           "sequential": [
            [
             0,
             "#0d0887"
            ],
            [
             0.1111111111111111,
             "#46039f"
            ],
            [
             0.2222222222222222,
             "#7201a8"
            ],
            [
             0.3333333333333333,
             "#9c179e"
            ],
            [
             0.4444444444444444,
             "#bd3786"
            ],
            [
             0.5555555555555556,
             "#d8576b"
            ],
            [
             0.6666666666666666,
             "#ed7953"
            ],
            [
             0.7777777777777778,
             "#fb9f3a"
            ],
            [
             0.8888888888888888,
             "#fdca26"
            ],
            [
             1,
             "#f0f921"
            ]
           ],
           "sequentialminus": [
            [
             0,
             "#0d0887"
            ],
            [
             0.1111111111111111,
             "#46039f"
            ],
            [
             0.2222222222222222,
             "#7201a8"
            ],
            [
             0.3333333333333333,
             "#9c179e"
            ],
            [
             0.4444444444444444,
             "#bd3786"
            ],
            [
             0.5555555555555556,
             "#d8576b"
            ],
            [
             0.6666666666666666,
             "#ed7953"
            ],
            [
             0.7777777777777778,
             "#fb9f3a"
            ],
            [
             0.8888888888888888,
             "#fdca26"
            ],
            [
             1,
             "#f0f921"
            ]
           ]
          },
          "colorway": [
           "#636efa",
           "#EF553B",
           "#00cc96",
           "#ab63fa",
           "#FFA15A",
           "#19d3f3",
           "#FF6692",
           "#B6E880",
           "#FF97FF",
           "#FECB52"
          ],
          "font": {
           "color": "#2a3f5f"
          },
          "geo": {
           "bgcolor": "white",
           "lakecolor": "white",
           "landcolor": "white",
           "showlakes": true,
           "showland": true,
           "subunitcolor": "#C8D4E3"
          },
          "hoverlabel": {
           "align": "left"
          },
          "hovermode": "closest",
          "mapbox": {
           "style": "light"
          },
          "paper_bgcolor": "white",
          "plot_bgcolor": "white",
          "polar": {
           "angularaxis": {
            "gridcolor": "#EBF0F8",
            "linecolor": "#EBF0F8",
            "ticks": ""
           },
           "bgcolor": "white",
           "radialaxis": {
            "gridcolor": "#EBF0F8",
            "linecolor": "#EBF0F8",
            "ticks": ""
           }
          },
          "scene": {
           "xaxis": {
            "backgroundcolor": "white",
            "gridcolor": "#DFE8F3",
            "gridwidth": 2,
            "linecolor": "#EBF0F8",
            "showbackground": true,
            "ticks": "",
            "zerolinecolor": "#EBF0F8"
           },
           "yaxis": {
            "backgroundcolor": "white",
            "gridcolor": "#DFE8F3",
            "gridwidth": 2,
            "linecolor": "#EBF0F8",
            "showbackground": true,
            "ticks": "",
            "zerolinecolor": "#EBF0F8"
           },
           "zaxis": {
            "backgroundcolor": "white",
            "gridcolor": "#DFE8F3",
            "gridwidth": 2,
            "linecolor": "#EBF0F8",
            "showbackground": true,
            "ticks": "",
            "zerolinecolor": "#EBF0F8"
           }
          },
          "shapedefaults": {
           "line": {
            "color": "#2a3f5f"
           }
          },
          "ternary": {
           "aaxis": {
            "gridcolor": "#DFE8F3",
            "linecolor": "#A2B1C6",
            "ticks": ""
           },
           "baxis": {
            "gridcolor": "#DFE8F3",
            "linecolor": "#A2B1C6",
            "ticks": ""
           },
           "bgcolor": "white",
           "caxis": {
            "gridcolor": "#DFE8F3",
            "linecolor": "#A2B1C6",
            "ticks": ""
           }
          },
          "title": {
           "x": 0.05
          },
          "xaxis": {
           "automargin": true,
           "gridcolor": "#EBF0F8",
           "linecolor": "#EBF0F8",
           "ticks": "",
           "title": {
            "standoff": 15
           },
           "zerolinecolor": "#EBF0F8",
           "zerolinewidth": 2
          },
          "yaxis": {
           "automargin": true,
           "gridcolor": "#EBF0F8",
           "linecolor": "#EBF0F8",
           "ticks": "",
           "title": {
            "standoff": 15
           },
           "zerolinecolor": "#EBF0F8",
           "zerolinewidth": 2
          }
         }
        },
        "title": {
         "font": {
          "size": 25
         },
         "text": "",
         "x": 0.5,
         "xanchor": "center",
         "yanchor": "top"
        },
        "width": 900,
        "xaxis": {
         "anchor": "y",
         "domain": [
          0,
          1
         ],
         "title": {
          "font": {
           "size": 12
          },
          "text": "Time"
         }
        },
        "yaxis": {
         "anchor": "x",
         "domain": [
          0,
          1
         ],
         "title": {
          "font": {
           "size": 12
          },
          "text": "Value"
         }
        }
       }
      }
     },
     "metadata": {},
     "output_type": "display_data"
    }
   ],
   "source": [
    "# Setting the correlation coefficient\n",
    "r = 0.4\n",
    "# Generate the time axis\n",
    "time = np.arange(200)\n",
    "# Generate white noise\n",
    "white_noise = np.random.randn(200)*100\n",
    "# Create Red Noise by introducing correlation between subsequent values in the white noise\n",
    "values = np.zeros(200)\n",
    "for i, v in enumerate(white_noise):\n",
    "    if i==0:\n",
    "        values[i] = v\n",
    "    else:\n",
    "        values[i] = r*values[i-1]+ np.sqrt((1-np.power(r,2))) *v\n",
    "        \n",
    "\n",
    "fig = plot_time_series(time, values, \"\")\n",
    "fig.write_image(\"imgs/chapter_1/red_noise_process.png\")\n",
    "fig.show()"
   ]
  },
  {
   "cell_type": "markdown",
   "id": "044a0b15-5792-4dcc-b3b0-50c004802c33",
   "metadata": {},
   "source": [
    "## Sinusoidal"
   ]
  },
  {
   "cell_type": "code",
   "execution_count": null,
   "id": "98cb9164-0c70-4ec8-b0fc-932df1f3808e",
   "metadata": {},
   "outputs": [],
   "source": [
    "#Sinusoidal Signal with Amplitude=1.5 & Frequency=0.25\n",
    "signal_1 =ts.signals.Sinusoidal(amplitude=1.5, frequency=0.25)\n",
    "#Sinusoidal Signal with Amplitude=1 & Frequency=0. 5\n",
    "signal_2 = ts.signals.Sinusoidal(amplitude=1, frequency=0.5)\n",
    "#Generating the time series\n",
    "samples_1, regular_time_samples, signals_1, errors_1 = generate_timeseries(signal=signal_1)\n",
    "samples_2, regular_time_samples, signals_2, errors_2 = generate_timeseries(signal=signal_2)"
   ]
  },
  {
   "cell_type": "code",
   "execution_count": null,
   "id": "67135ae7-edc5-4b20-8ab4-a5f565e15ec1",
   "metadata": {},
   "outputs": [
    {
     "data": {
      "application/vnd.plotly.v1+json": {
       "config": {
        "plotlyServerURL": "https://plot.ly"
       },
       "data": [
        {
         "hovertemplate": "ts=Amplitude = 1.5 | Frequency = 0.25<br>Time=%{x}<br>Value=%{y}<extra></extra>",
         "legendgroup": "Amplitude = 1.5 | Frequency = 0.25",
         "line": {
          "color": "#636efa",
          "dash": "solid"
         },
         "marker": {
          "symbol": "circle"
         },
         "mode": "lines",
         "name": "Amplitude = 1.5 | Frequency = 0.25",
         "orientation": "v",
         "showlegend": true,
         "type": "scatter",
         "x": [
          0,
          0.20202020202020202,
          0.40404040404040403,
          0.6060606060606061,
          0.8080808080808081,
          1.0101010101010102,
          1.2121212121212122,
          1.4141414141414141,
          1.6161616161616161,
          1.8181818181818181,
          2.0202020202020203,
          2.2222222222222223,
          2.4242424242424243,
          2.6262626262626263,
          2.8282828282828283,
          3.0303030303030303,
          3.2323232323232323,
          3.4343434343434343,
          3.6363636363636362,
          3.8383838383838382,
          4.040404040404041,
          4.242424242424242,
          4.444444444444445,
          4.646464646464646,
          4.848484848484849,
          5.05050505050505,
          5.252525252525253,
          5.454545454545454,
          5.656565656565657,
          5.858585858585858,
          6.0606060606060606,
          6.262626262626262,
          6.4646464646464645,
          6.666666666666667,
          6.8686868686868685,
          7.070707070707071,
          7.2727272727272725,
          7.474747474747475,
          7.6767676767676765,
          7.878787878787879,
          8.080808080808081,
          8.282828282828282,
          8.484848484848484,
          8.686868686868687,
          8.88888888888889,
          9.09090909090909,
          9.292929292929292,
          9.494949494949495,
          9.696969696969697,
          9.8989898989899,
          10.1010101010101,
          10.303030303030303,
          10.505050505050505,
          10.707070707070708,
          10.909090909090908,
          11.11111111111111,
          11.313131313131313,
          11.515151515151516,
          11.717171717171716,
          11.919191919191919,
          12.121212121212121,
          12.323232323232324,
          12.525252525252524,
          12.727272727272727,
          12.929292929292929,
          13.131313131313131,
          13.333333333333334,
          13.535353535353535,
          13.737373737373737,
          13.93939393939394,
          14.141414141414142,
          14.343434343434343,
          14.545454545454545,
          14.747474747474747,
          14.94949494949495,
          15.15151515151515,
          15.353535353535353,
          15.555555555555555,
          15.757575757575758,
          15.959595959595958,
          16.161616161616163,
          16.363636363636363,
          16.565656565656564,
          16.767676767676768,
          16.96969696969697,
          17.171717171717173,
          17.373737373737374,
          17.575757575757574,
          17.77777777777778,
          17.97979797979798,
          18.18181818181818,
          18.383838383838384,
          18.585858585858585,
          18.78787878787879,
          18.98989898989899,
          19.19191919191919,
          19.393939393939394,
          19.595959595959595,
          19.7979797979798,
          20
         ],
         "xaxis": "x",
         "y": [
          0,
          0.4680501685477307,
          0.8893618935819606,
          1.2218639280755035,
          1.4323533621661109,
          1.4998111915108125,
          1.4175012280720027,
          1.1936427607962485,
          0.8505897957941563,
          0.4225988352621451,
          -0.04759190024710179,
          -0.513030214988503,
          -0.9272384793309079,
          -1.248854781952157,
          -1.445763237839913,
          -1.4983010087745119,
          -1.4012217903976603,
          -1.1642196964376357,
          -0.8109612261833974,
          -0.3767219807716191,
          0.09513587948484739,
          0.5574936834904902,
          0.9641814145298089,
          1.2745881449242713,
          1.4577173524853126,
          1.4952821639279135,
          1.3835314411568724,
          1.133624361531389,
          0.7705160873601108,
          0.33046579917981156,
          -0.14258406495627424,
          -0.6013958031099191,
          -1.0001535007744369,
          -1.299038105676658,
          -1.4682036693221678,
          -1.4907576966918814,
          -1.3644479930317785,
          -1.1018875629863008,
          -0.7292951041507034,
          -0.283876866540615,
          0.18988868036062512,
          0.6446923681337545,
          1.0351185172231663,
          1.3221800451713723,
          1.477211629518312,
          1.4847321628213994,
          1.3439906614370045,
          1.0690412570682948,
          0.6873397825911153,
          0.23700209396002359,
          -0.23700209396002175,
          -0.6873397825911136,
          -1.0690412570682934,
          -1.3439906614370036,
          -1.4847321628213983,
          -1.4772116295183126,
          -1.3221800451713746,
          -1.0351185172231696,
          -0.6446923681337585,
          -0.1898886803606243,
          0.2838768665406158,
          0.7292951041507042,
          1.1018875629862979,
          1.3644479930317766,
          1.490757696691881,
          1.468203669322168,
          1.2990381056766578,
          1.0001535007744402,
          0.6013958031099232,
          0.14258406495627607,
          -0.3304657991798098,
          -0.7705160873601047,
          -1.1336243615313841,
          -1.3835314411568707,
          -1.4952821639279132,
          -1.457717352485313,
          -1.2745881449242722,
          -0.9641814145298092,
          -0.5574936834904907,
          -0.09513587948485053,
          0.37672198077162117,
          0.8109612261833947,
          1.1642196964376312,
          1.40122179039766,
          1.4983010087745119,
          1.4457632378399128,
          1.2488547819521587,
          0.9272384793309136,
          0.5130302149885041,
          0.04759190024710695,
          -0.42259883526214015,
          -0.8505897957941531,
          -1.1936427607962465,
          -1.4175012280720038,
          -1.4998111915108125,
          -1.4323533621661124,
          -1.221863928075503,
          -0.8893618935819636,
          -0.4680501685477282,
          -1.83697019872103e-15
         ],
         "yaxis": "y"
        },
        {
         "hovertemplate": "ts=Amplitude = 1 | Frequency = 0.5<br>Time=%{x}<br>Value=%{y}<extra></extra>",
         "legendgroup": "Amplitude = 1 | Frequency = 0.5",
         "line": {
          "color": "#636efa",
          "dash": "dot"
         },
         "marker": {
          "symbol": "circle"
         },
         "mode": "lines",
         "name": "Amplitude = 1 | Frequency = 0.5",
         "orientation": "v",
         "showlegend": true,
         "type": "scatter",
         "x": [
          0,
          0.20202020202020202,
          0.40404040404040403,
          0.6060606060606061,
          0.8080808080808081,
          1.0101010101010102,
          1.2121212121212122,
          1.4141414141414141,
          1.6161616161616161,
          1.8181818181818181,
          2.0202020202020203,
          2.2222222222222223,
          2.4242424242424243,
          2.6262626262626263,
          2.8282828282828283,
          3.0303030303030303,
          3.2323232323232323,
          3.4343434343434343,
          3.6363636363636362,
          3.8383838383838382,
          4.040404040404041,
          4.242424242424242,
          4.444444444444445,
          4.646464646464646,
          4.848484848484849,
          5.05050505050505,
          5.252525252525253,
          5.454545454545454,
          5.656565656565657,
          5.858585858585858,
          6.0606060606060606,
          6.262626262626262,
          6.4646464646464645,
          6.666666666666667,
          6.8686868686868685,
          7.070707070707071,
          7.2727272727272725,
          7.474747474747475,
          7.6767676767676765,
          7.878787878787879,
          8.080808080808081,
          8.282828282828282,
          8.484848484848484,
          8.686868686868687,
          8.88888888888889,
          9.09090909090909,
          9.292929292929292,
          9.494949494949495,
          9.696969696969697,
          9.8989898989899,
          10.1010101010101,
          10.303030303030303,
          10.505050505050505,
          10.707070707070708,
          10.909090909090908,
          11.11111111111111,
          11.313131313131313,
          11.515151515151516,
          11.717171717171716,
          11.919191919191919,
          12.121212121212121,
          12.323232323232324,
          12.525252525252524,
          12.727272727272727,
          12.929292929292929,
          13.131313131313131,
          13.333333333333334,
          13.535353535353535,
          13.737373737373737,
          13.93939393939394,
          14.141414141414142,
          14.343434343434343,
          14.545454545454545,
          14.747474747474747,
          14.94949494949495,
          15.15151515151515,
          15.353535353535353,
          15.555555555555555,
          15.757575757575758,
          15.959595959595958,
          16.161616161616163,
          16.363636363636363,
          16.565656565656564,
          16.767676767676768,
          16.96969696969697,
          17.171717171717173,
          17.373737373737374,
          17.575757575757574,
          17.77777777777778,
          17.97979797979798,
          18.18181818181818,
          18.383838383838384,
          18.585858585858585,
          18.78787878787879,
          18.98989898989899,
          19.19191919191919,
          19.393939393939394,
          19.595959595959595,
          19.7979797979798,
          20
         ],
         "xaxis": "x",
         "y": [
          0,
          0.5929079290546404,
          0.9549022414440739,
          0.9450008187146685,
          0.5670598638627709,
          -0.03172793349806786,
          -0.6181589862206053,
          -0.9638421585599419,
          -0.9341478602651068,
          -0.5406408174555982,
          0.06342391965656492,
          0.6427876096865393,
          0.9718115683235418,
          0.9223542941045816,
          0.5136773915734072,
          -0.09505604330418282,
          -0.6667690005162913,
          -0.9788024462147785,
          -0.909631995354519,
          -0.486196736100469,
          0.12659245357375007,
          0.6900790114821109,
          0.984807753012208,
          0.8959937742913363,
          0.4582265217274102,
          -0.15800139597334784,
          -0.7126941713788623,
          -0.9898214418809322,
          -0.881453363447583,
          -0.42979491208917237,
          0.18925124436041052,
          0.7345917086575319,
          0.993838464461254,
          0.8660254037844385,
          0.4009305354066155,
          -0.22031053278653986,
          -0.7557495743542562,
          -0.9968547759519422,
          -0.8497254299495147,
          -0.37166245566032713,
          0.2511479871810808,
          0.7761464642917542,
          0.9988673391830079,
          0.8325698546347724,
          0.3420201433256694,
          -0.2817325568414268,
          -0.795761840530831,
          -0.9998741276738751,
          -0.8145759520503354,
          -0.31203344569848546,
          0.3120334456984831,
          0.814575952050334,
          0.9998741276738751,
          0.7957618405308324,
          0.28173255684143594,
          -0.3420201433256638,
          -0.8325698546347691,
          -0.9988673391830081,
          -0.7761464642917579,
          -0.2511479871810797,
          0.37166245566032813,
          0.8497254299495154,
          0.9968547759519427,
          0.7557495743542602,
          0.22031053278654225,
          -0.4009305354066133,
          -0.866025403784439,
          -0.9938384644612547,
          -0.734591708657536,
          -0.18925124436041293,
          0.4297949120891702,
          0.8814533634475785,
          0.9898214418809337,
          0.7126941713788665,
          0.15800139597335378,
          -0.45822652172740796,
          -0.8959937742913352,
          -0.9848077530122081,
          -0.6900790114821114,
          -0.12659245357375426,
          0.48619673610047154,
          0.9096319953545172,
          0.9788024462147805,
          0.6667690005162918,
          0.0950560433041888,
          -0.5136773915734082,
          -0.9223542941045799,
          -0.971811568323544,
          -0.6427876096865404,
          -0.06342391965657179,
          0.5406408174555924,
          0.934147860265105,
          0.963842158559943,
          0.6181589862206016,
          0.031727933498068975,
          -0.5670598638627647,
          -0.9450008187146688,
          -0.9549022414440753,
          -0.5929079290546376,
          -2.4492935982947065e-15
         ],
         "yaxis": "y"
        }
       ],
       "layout": {
        "autosize": false,
        "height": 500,
        "legend": {
         "title": {
          "text": "ts"
         },
         "tracegroupgap": 0
        },
        "margin": {
         "t": 60
        },
        "template": {
         "data": {
          "bar": [
           {
            "error_x": {
             "color": "#2a3f5f"
            },
            "error_y": {
             "color": "#2a3f5f"
            },
            "marker": {
             "line": {
              "color": "white",
              "width": 0.5
             },
             "pattern": {
              "fillmode": "overlay",
              "size": 10,
              "solidity": 0.2
             }
            },
            "type": "bar"
           }
          ],
          "barpolar": [
           {
            "marker": {
             "line": {
              "color": "white",
              "width": 0.5
             },
             "pattern": {
              "fillmode": "overlay",
              "size": 10,
              "solidity": 0.2
             }
            },
            "type": "barpolar"
           }
          ],
          "carpet": [
           {
            "aaxis": {
             "endlinecolor": "#2a3f5f",
             "gridcolor": "#C8D4E3",
             "linecolor": "#C8D4E3",
             "minorgridcolor": "#C8D4E3",
             "startlinecolor": "#2a3f5f"
            },
            "baxis": {
             "endlinecolor": "#2a3f5f",
             "gridcolor": "#C8D4E3",
             "linecolor": "#C8D4E3",
             "minorgridcolor": "#C8D4E3",
             "startlinecolor": "#2a3f5f"
            },
            "type": "carpet"
           }
          ],
          "choropleth": [
           {
            "colorbar": {
             "outlinewidth": 0,
             "ticks": ""
            },
            "type": "choropleth"
           }
          ],
          "contour": [
           {
            "colorbar": {
             "outlinewidth": 0,
             "ticks": ""
            },
            "colorscale": [
             [
              0,
              "#0d0887"
             ],
             [
              0.1111111111111111,
              "#46039f"
             ],
             [
              0.2222222222222222,
              "#7201a8"
             ],
             [
              0.3333333333333333,
              "#9c179e"
             ],
             [
              0.4444444444444444,
              "#bd3786"
             ],
             [
              0.5555555555555556,
              "#d8576b"
             ],
             [
              0.6666666666666666,
              "#ed7953"
             ],
             [
              0.7777777777777778,
              "#fb9f3a"
             ],
             [
              0.8888888888888888,
              "#fdca26"
             ],
             [
              1,
              "#f0f921"
             ]
            ],
            "type": "contour"
           }
          ],
          "contourcarpet": [
           {
            "colorbar": {
             "outlinewidth": 0,
             "ticks": ""
            },
            "type": "contourcarpet"
           }
          ],
          "heatmap": [
           {
            "colorbar": {
             "outlinewidth": 0,
             "ticks": ""
            },
            "colorscale": [
             [
              0,
              "#0d0887"
             ],
             [
              0.1111111111111111,
              "#46039f"
             ],
             [
              0.2222222222222222,
              "#7201a8"
             ],
             [
              0.3333333333333333,
              "#9c179e"
             ],
             [
              0.4444444444444444,
              "#bd3786"
             ],
             [
              0.5555555555555556,
              "#d8576b"
             ],
             [
              0.6666666666666666,
              "#ed7953"
             ],
             [
              0.7777777777777778,
              "#fb9f3a"
             ],
             [
              0.8888888888888888,
              "#fdca26"
             ],
             [
              1,
              "#f0f921"
             ]
            ],
            "type": "heatmap"
           }
          ],
          "heatmapgl": [
           {
            "colorbar": {
             "outlinewidth": 0,
             "ticks": ""
            },
            "colorscale": [
             [
              0,
              "#0d0887"
             ],
             [
              0.1111111111111111,
              "#46039f"
             ],
             [
              0.2222222222222222,
              "#7201a8"
             ],
             [
              0.3333333333333333,
              "#9c179e"
             ],
             [
              0.4444444444444444,
              "#bd3786"
             ],
             [
              0.5555555555555556,
              "#d8576b"
             ],
             [
              0.6666666666666666,
              "#ed7953"
             ],
             [
              0.7777777777777778,
              "#fb9f3a"
             ],
             [
              0.8888888888888888,
              "#fdca26"
             ],
             [
              1,
              "#f0f921"
             ]
            ],
            "type": "heatmapgl"
           }
          ],
          "histogram": [
           {
            "marker": {
             "pattern": {
              "fillmode": "overlay",
              "size": 10,
              "solidity": 0.2
             }
            },
            "type": "histogram"
           }
          ],
          "histogram2d": [
           {
            "colorbar": {
             "outlinewidth": 0,
             "ticks": ""
            },
            "colorscale": [
             [
              0,
              "#0d0887"
             ],
             [
              0.1111111111111111,
              "#46039f"
             ],
             [
              0.2222222222222222,
              "#7201a8"
             ],
             [
              0.3333333333333333,
              "#9c179e"
             ],
             [
              0.4444444444444444,
              "#bd3786"
             ],
             [
              0.5555555555555556,
              "#d8576b"
             ],
             [
              0.6666666666666666,
              "#ed7953"
             ],
             [
              0.7777777777777778,
              "#fb9f3a"
             ],
             [
              0.8888888888888888,
              "#fdca26"
             ],
             [
              1,
              "#f0f921"
             ]
            ],
            "type": "histogram2d"
           }
          ],
          "histogram2dcontour": [
           {
            "colorbar": {
             "outlinewidth": 0,
             "ticks": ""
            },
            "colorscale": [
             [
              0,
              "#0d0887"
             ],
             [
              0.1111111111111111,
              "#46039f"
             ],
             [
              0.2222222222222222,
              "#7201a8"
             ],
             [
              0.3333333333333333,
              "#9c179e"
             ],
             [
              0.4444444444444444,
              "#bd3786"
             ],
             [
              0.5555555555555556,
              "#d8576b"
             ],
             [
              0.6666666666666666,
              "#ed7953"
             ],
             [
              0.7777777777777778,
              "#fb9f3a"
             ],
             [
              0.8888888888888888,
              "#fdca26"
             ],
             [
              1,
              "#f0f921"
             ]
            ],
            "type": "histogram2dcontour"
           }
          ],
          "mesh3d": [
           {
            "colorbar": {
             "outlinewidth": 0,
             "ticks": ""
            },
            "type": "mesh3d"
           }
          ],
          "parcoords": [
           {
            "line": {
             "colorbar": {
              "outlinewidth": 0,
              "ticks": ""
             }
            },
            "type": "parcoords"
           }
          ],
          "pie": [
           {
            "automargin": true,
            "type": "pie"
           }
          ],
          "scatter": [
           {
            "fillpattern": {
             "fillmode": "overlay",
             "size": 10,
             "solidity": 0.2
            },
            "type": "scatter"
           }
          ],
          "scatter3d": [
           {
            "line": {
             "colorbar": {
              "outlinewidth": 0,
              "ticks": ""
             }
            },
            "marker": {
             "colorbar": {
              "outlinewidth": 0,
              "ticks": ""
             }
            },
            "type": "scatter3d"
           }
          ],
          "scattercarpet": [
           {
            "marker": {
             "colorbar": {
              "outlinewidth": 0,
              "ticks": ""
             }
            },
            "type": "scattercarpet"
           }
          ],
          "scattergeo": [
           {
            "marker": {
             "colorbar": {
              "outlinewidth": 0,
              "ticks": ""
             }
            },
            "type": "scattergeo"
           }
          ],
          "scattergl": [
           {
            "marker": {
             "colorbar": {
              "outlinewidth": 0,
              "ticks": ""
             }
            },
            "type": "scattergl"
           }
          ],
          "scattermapbox": [
           {
            "marker": {
             "colorbar": {
              "outlinewidth": 0,
              "ticks": ""
             }
            },
            "type": "scattermapbox"
           }
          ],
          "scatterpolar": [
           {
            "marker": {
             "colorbar": {
              "outlinewidth": 0,
              "ticks": ""
             }
            },
            "type": "scatterpolar"
           }
          ],
          "scatterpolargl": [
           {
            "marker": {
             "colorbar": {
              "outlinewidth": 0,
              "ticks": ""
             }
            },
            "type": "scatterpolargl"
           }
          ],
          "scatterternary": [
           {
            "marker": {
             "colorbar": {
              "outlinewidth": 0,
              "ticks": ""
             }
            },
            "type": "scatterternary"
           }
          ],
          "surface": [
           {
            "colorbar": {
             "outlinewidth": 0,
             "ticks": ""
            },
            "colorscale": [
             [
              0,
              "#0d0887"
             ],
             [
              0.1111111111111111,
              "#46039f"
             ],
             [
              0.2222222222222222,
              "#7201a8"
             ],
             [
              0.3333333333333333,
              "#9c179e"
             ],
             [
              0.4444444444444444,
              "#bd3786"
             ],
             [
              0.5555555555555556,
              "#d8576b"
             ],
             [
              0.6666666666666666,
              "#ed7953"
             ],
             [
              0.7777777777777778,
              "#fb9f3a"
             ],
             [
              0.8888888888888888,
              "#fdca26"
             ],
             [
              1,
              "#f0f921"
             ]
            ],
            "type": "surface"
           }
          ],
          "table": [
           {
            "cells": {
             "fill": {
              "color": "#EBF0F8"
             },
             "line": {
              "color": "white"
             }
            },
            "header": {
             "fill": {
              "color": "#C8D4E3"
             },
             "line": {
              "color": "white"
             }
            },
            "type": "table"
           }
          ]
         },
         "layout": {
          "annotationdefaults": {
           "arrowcolor": "#2a3f5f",
           "arrowhead": 0,
           "arrowwidth": 1
          },
          "autotypenumbers": "strict",
          "coloraxis": {
           "colorbar": {
            "outlinewidth": 0,
            "ticks": ""
           }
          },
          "colorscale": {
           "diverging": [
            [
             0,
             "#8e0152"
            ],
            [
             0.1,
             "#c51b7d"
            ],
            [
             0.2,
             "#de77ae"
            ],
            [
             0.3,
             "#f1b6da"
            ],
            [
             0.4,
             "#fde0ef"
            ],
            [
             0.5,
             "#f7f7f7"
            ],
            [
             0.6,
             "#e6f5d0"
            ],
            [
             0.7,
             "#b8e186"
            ],
            [
             0.8,
             "#7fbc41"
            ],
            [
             0.9,
             "#4d9221"
            ],
            [
             1,
             "#276419"
            ]
           ],
           "sequential": [
            [
             0,
             "#0d0887"
            ],
            [
             0.1111111111111111,
             "#46039f"
            ],
            [
             0.2222222222222222,
             "#7201a8"
            ],
            [
             0.3333333333333333,
             "#9c179e"
            ],
            [
             0.4444444444444444,
             "#bd3786"
            ],
            [
             0.5555555555555556,
             "#d8576b"
            ],
            [
             0.6666666666666666,
             "#ed7953"
            ],
            [
             0.7777777777777778,
             "#fb9f3a"
            ],
            [
             0.8888888888888888,
             "#fdca26"
            ],
            [
             1,
             "#f0f921"
            ]
           ],
           "sequentialminus": [
            [
             0,
             "#0d0887"
            ],
            [
             0.1111111111111111,
             "#46039f"
            ],
            [
             0.2222222222222222,
             "#7201a8"
            ],
            [
             0.3333333333333333,
             "#9c179e"
            ],
            [
             0.4444444444444444,
             "#bd3786"
            ],
            [
             0.5555555555555556,
             "#d8576b"
            ],
            [
             0.6666666666666666,
             "#ed7953"
            ],
            [
             0.7777777777777778,
             "#fb9f3a"
            ],
            [
             0.8888888888888888,
             "#fdca26"
            ],
            [
             1,
             "#f0f921"
            ]
           ]
          },
          "colorway": [
           "#636efa",
           "#EF553B",
           "#00cc96",
           "#ab63fa",
           "#FFA15A",
           "#19d3f3",
           "#FF6692",
           "#B6E880",
           "#FF97FF",
           "#FECB52"
          ],
          "font": {
           "color": "#2a3f5f"
          },
          "geo": {
           "bgcolor": "white",
           "lakecolor": "white",
           "landcolor": "white",
           "showlakes": true,
           "showland": true,
           "subunitcolor": "#C8D4E3"
          },
          "hoverlabel": {
           "align": "left"
          },
          "hovermode": "closest",
          "mapbox": {
           "style": "light"
          },
          "paper_bgcolor": "white",
          "plot_bgcolor": "white",
          "polar": {
           "angularaxis": {
            "gridcolor": "#EBF0F8",
            "linecolor": "#EBF0F8",
            "ticks": ""
           },
           "bgcolor": "white",
           "radialaxis": {
            "gridcolor": "#EBF0F8",
            "linecolor": "#EBF0F8",
            "ticks": ""
           }
          },
          "scene": {
           "xaxis": {
            "backgroundcolor": "white",
            "gridcolor": "#DFE8F3",
            "gridwidth": 2,
            "linecolor": "#EBF0F8",
            "showbackground": true,
            "ticks": "",
            "zerolinecolor": "#EBF0F8"
           },
           "yaxis": {
            "backgroundcolor": "white",
            "gridcolor": "#DFE8F3",
            "gridwidth": 2,
            "linecolor": "#EBF0F8",
            "showbackground": true,
            "ticks": "",
            "zerolinecolor": "#EBF0F8"
           },
           "zaxis": {
            "backgroundcolor": "white",
            "gridcolor": "#DFE8F3",
            "gridwidth": 2,
            "linecolor": "#EBF0F8",
            "showbackground": true,
            "ticks": "",
            "zerolinecolor": "#EBF0F8"
           }
          },
          "shapedefaults": {
           "line": {
            "color": "#2a3f5f"
           }
          },
          "ternary": {
           "aaxis": {
            "gridcolor": "#DFE8F3",
            "linecolor": "#A2B1C6",
            "ticks": ""
           },
           "baxis": {
            "gridcolor": "#DFE8F3",
            "linecolor": "#A2B1C6",
            "ticks": ""
           },
           "bgcolor": "white",
           "caxis": {
            "gridcolor": "#DFE8F3",
            "linecolor": "#A2B1C6",
            "ticks": ""
           }
          },
          "title": {
           "x": 0.05
          },
          "xaxis": {
           "automargin": true,
           "gridcolor": "#EBF0F8",
           "linecolor": "#EBF0F8",
           "ticks": "",
           "title": {
            "standoff": 15
           },
           "zerolinecolor": "#EBF0F8",
           "zerolinewidth": 2
          },
          "yaxis": {
           "automargin": true,
           "gridcolor": "#EBF0F8",
           "linecolor": "#EBF0F8",
           "ticks": "",
           "title": {
            "standoff": 15
           },
           "zerolinecolor": "#EBF0F8",
           "zerolinewidth": 2
          }
         }
        },
        "title": {
         "font": {
          "size": 25
         },
         "text": "",
         "x": 0.5,
         "xanchor": "center",
         "yanchor": "top"
        },
        "width": 900,
        "xaxis": {
         "anchor": "y",
         "domain": [
          0,
          1
         ],
         "title": {
          "font": {
           "size": 12
          },
          "text": "Time"
         }
        },
        "yaxis": {
         "anchor": "x",
         "domain": [
          0,
          1
         ],
         "title": {
          "font": {
           "size": 12
          },
          "text": "Value"
         }
        }
       }
      }
     },
     "metadata": {},
     "output_type": "display_data"
    }
   ],
   "source": [
    "fig = plot_time_series(regular_time_samples, \n",
    "                 [samples_1, samples_2], \n",
    "                 \"\", \n",
    "                 legends=[\"Amplitude = 1.5 | Frequency = 0.25\", \"Amplitude = 1 | Frequency = 0.5\"])\n",
    "fig.write_image(\"imgs/chapter_1/sinusoidal_waves.png\")\n",
    "fig.show()"
   ]
  },
  {
   "cell_type": "markdown",
   "id": "84f7709e-7223-4dfb-b5fd-a17fa99e85c7",
   "metadata": {},
   "source": [
    "## Pseudo Periodic"
   ]
  },
  {
   "cell_type": "code",
   "execution_count": null,
   "id": "849b7c4d-7a5b-4dc4-a07f-aadc220f3516",
   "metadata": {},
   "outputs": [],
   "source": [
    "# PseudoPeriodic signal with Amplitude=1 & Frequency=0.25\n",
    "signal = ts.signals.PseudoPeriodic(amplitude=1, frequency=0.25)\n",
    "#Generating Timeseries\n",
    "samples, regular_time_samples, signals, errors = generate_timeseries(signal=signal)\n",
    "\n"
   ]
  },
  {
   "cell_type": "code",
   "execution_count": null,
   "id": "e87753a5-6ef1-4fc5-8070-5a269da43276",
   "metadata": {},
   "outputs": [
    {
     "data": {
      "application/vnd.plotly.v1+json": {
       "config": {
        "plotlyServerURL": "https://plot.ly"
       },
       "data": [
        {
         "hovertemplate": "Time=%{x}<br>Value=%{y}<extra></extra>",
         "legendgroup": "",
         "line": {
          "color": "#636efa",
          "dash": "solid"
         },
         "marker": {
          "symbol": "circle"
         },
         "mode": "lines",
         "name": "",
         "orientation": "v",
         "showlegend": false,
         "type": "scatter",
         "x": [
          0,
          0.20202020202020202,
          0.40404040404040403,
          0.6060606060606061,
          0.8080808080808081,
          1.0101010101010102,
          1.2121212121212122,
          1.4141414141414141,
          1.6161616161616161,
          1.8181818181818181,
          2.0202020202020203,
          2.2222222222222223,
          2.4242424242424243,
          2.6262626262626263,
          2.8282828282828283,
          3.0303030303030303,
          3.2323232323232323,
          3.4343434343434343,
          3.6363636363636362,
          3.8383838383838382,
          4.040404040404041,
          4.242424242424242,
          4.444444444444445,
          4.646464646464646,
          4.848484848484849,
          5.05050505050505,
          5.252525252525253,
          5.454545454545454,
          5.656565656565657,
          5.858585858585858,
          6.0606060606060606,
          6.262626262626262,
          6.4646464646464645,
          6.666666666666667,
          6.8686868686868685,
          7.070707070707071,
          7.2727272727272725,
          7.474747474747475,
          7.6767676767676765,
          7.878787878787879,
          8.080808080808081,
          8.282828282828282,
          8.484848484848484,
          8.686868686868687,
          8.88888888888889,
          9.09090909090909,
          9.292929292929292,
          9.494949494949495,
          9.696969696969697,
          9.8989898989899,
          10.1010101010101,
          10.303030303030303,
          10.505050505050505,
          10.707070707070708,
          10.909090909090908,
          11.11111111111111,
          11.313131313131313,
          11.515151515151516,
          11.717171717171716,
          11.919191919191919,
          12.121212121212121,
          12.323232323232324,
          12.525252525252524,
          12.727272727272727,
          12.929292929292929,
          13.131313131313131,
          13.333333333333334,
          13.535353535353535,
          13.737373737373737,
          13.93939393939394,
          14.141414141414142,
          14.343434343434343,
          14.545454545454545,
          14.747474747474747,
          14.94949494949495,
          15.15151515151515,
          15.353535353535353,
          15.555555555555555,
          15.757575757575758,
          15.959595959595958,
          16.161616161616163,
          16.363636363636363,
          16.565656565656564,
          16.767676767676768,
          16.96969696969697,
          17.171717171717173,
          17.373737373737374,
          17.575757575757574,
          17.77777777777778,
          17.97979797979798,
          18.18181818181818,
          18.383838383838384,
          18.585858585858585,
          18.78787878787879,
          18.98989898989899,
          19.19191919191919,
          19.393939393939394,
          19.595959595959595,
          19.7979797979798,
          20
         ],
         "xaxis": "x",
         "y": [
          0,
          0.0036571400049257986,
          0.26343727991039323,
          0.21434985198700648,
          0.0807816444243668,
          0.22921450121572753,
          0.1905933821627686,
          0.21923379409821084,
          0.5238336971618262,
          0.6840778396230974,
          0.4375389058567712,
          -0.6295242395049131,
          0.7393889337917418,
          0.8157738660273821,
          0.6271334893194437,
          0.8229570146245868,
          0.9321400451385988,
          0.4345130306840687,
          -0.884563550444735,
          0.4311802963356252,
          0.7626667569534265,
          1.0252603369384772,
          0.06238947791798395,
          -0.8536021193570734,
          0.9623490374220075,
          1.1659826213038524,
          0.3064582767509815,
          0.20690489666732953,
          -0.6221480030231129,
          -0.4974424831218455,
          0.9074553211232821,
          0.2160973957888937,
          -0.075515716930424,
          1.0574518176335312,
          0.6542010401428188,
          -0.5565787688576745,
          -0.9394305987210027,
          0.7568261440040703,
          0.9186405687544037,
          -0.4086534638121147,
          0.571428311651098,
          -0.9040238847767808,
          -0.20318175901780652,
          -0.8626880406716704,
          -0.21799439014545088,
          0.46444753492494995,
          0.3388489190118662,
          -0.2384076377517991,
          -0.6871290572664935,
          0.25558110878168305,
          -1.0170579646435014,
          -0.17949835184164453,
          0.19525922410698768,
          0.8573437753960645,
          -1.0460197173253136,
          0.2668202028119225,
          -0.29334260807735824,
          -0.35889273409341454,
          -1.0332279345547477,
          -0.4514650122186501,
          0.7665753684741174,
          1.028477444968792,
          -1.1544533377921236,
          -1.0952590838248109,
          -0.947253582324669,
          0.32511533415438343,
          -0.35269919189641563,
          -0.6790326652679354,
          -0.9303784369145637,
          0.6147752333751929,
          -1.038422523505589,
          -0.20882024795984658,
          -0.3082859626738355,
          -0.5125477450215736,
          -1.0260255764389092,
          -0.20049668590330127,
          -0.8961148664928521,
          -0.6285860889524958,
          0.5523087470881191,
          0.5158447104202771,
          0.9126767454983756,
          -0.24935181517531452,
          -0.5784723296324277,
          -0.7411369461480223,
          0.3126392336002557,
          0.9837004024094991,
          -0.07371822939516225,
          0.19983315567655946,
          -1.0499970641926437,
          0.30840733553148625,
          0.03418563345147136,
          0.9607553136425008,
          0.9400333197790386,
          0.5323794890516891,
          -0.30252644364705605,
          0.7033196113343915,
          -0.7515945863410904,
          -1.0075226209478483,
          -0.3565138430035098,
          -0.9966487131703148
         ],
         "yaxis": "y"
        }
       ],
       "layout": {
        "autosize": false,
        "height": 500,
        "legend": {
         "tracegroupgap": 0
        },
        "margin": {
         "t": 60
        },
        "template": {
         "data": {
          "bar": [
           {
            "error_x": {
             "color": "#2a3f5f"
            },
            "error_y": {
             "color": "#2a3f5f"
            },
            "marker": {
             "line": {
              "color": "white",
              "width": 0.5
             },
             "pattern": {
              "fillmode": "overlay",
              "size": 10,
              "solidity": 0.2
             }
            },
            "type": "bar"
           }
          ],
          "barpolar": [
           {
            "marker": {
             "line": {
              "color": "white",
              "width": 0.5
             },
             "pattern": {
              "fillmode": "overlay",
              "size": 10,
              "solidity": 0.2
             }
            },
            "type": "barpolar"
           }
          ],
          "carpet": [
           {
            "aaxis": {
             "endlinecolor": "#2a3f5f",
             "gridcolor": "#C8D4E3",
             "linecolor": "#C8D4E3",
             "minorgridcolor": "#C8D4E3",
             "startlinecolor": "#2a3f5f"
            },
            "baxis": {
             "endlinecolor": "#2a3f5f",
             "gridcolor": "#C8D4E3",
             "linecolor": "#C8D4E3",
             "minorgridcolor": "#C8D4E3",
             "startlinecolor": "#2a3f5f"
            },
            "type": "carpet"
           }
          ],
          "choropleth": [
           {
            "colorbar": {
             "outlinewidth": 0,
             "ticks": ""
            },
            "type": "choropleth"
           }
          ],
          "contour": [
           {
            "colorbar": {
             "outlinewidth": 0,
             "ticks": ""
            },
            "colorscale": [
             [
              0,
              "#0d0887"
             ],
             [
              0.1111111111111111,
              "#46039f"
             ],
             [
              0.2222222222222222,
              "#7201a8"
             ],
             [
              0.3333333333333333,
              "#9c179e"
             ],
             [
              0.4444444444444444,
              "#bd3786"
             ],
             [
              0.5555555555555556,
              "#d8576b"
             ],
             [
              0.6666666666666666,
              "#ed7953"
             ],
             [
              0.7777777777777778,
              "#fb9f3a"
             ],
             [
              0.8888888888888888,
              "#fdca26"
             ],
             [
              1,
              "#f0f921"
             ]
            ],
            "type": "contour"
           }
          ],
          "contourcarpet": [
           {
            "colorbar": {
             "outlinewidth": 0,
             "ticks": ""
            },
            "type": "contourcarpet"
           }
          ],
          "heatmap": [
           {
            "colorbar": {
             "outlinewidth": 0,
             "ticks": ""
            },
            "colorscale": [
             [
              0,
              "#0d0887"
             ],
             [
              0.1111111111111111,
              "#46039f"
             ],
             [
              0.2222222222222222,
              "#7201a8"
             ],
             [
              0.3333333333333333,
              "#9c179e"
             ],
             [
              0.4444444444444444,
              "#bd3786"
             ],
             [
              0.5555555555555556,
              "#d8576b"
             ],
             [
              0.6666666666666666,
              "#ed7953"
             ],
             [
              0.7777777777777778,
              "#fb9f3a"
             ],
             [
              0.8888888888888888,
              "#fdca26"
             ],
             [
              1,
              "#f0f921"
             ]
            ],
            "type": "heatmap"
           }
          ],
          "heatmapgl": [
           {
            "colorbar": {
             "outlinewidth": 0,
             "ticks": ""
            },
            "colorscale": [
             [
              0,
              "#0d0887"
             ],
             [
              0.1111111111111111,
              "#46039f"
             ],
             [
              0.2222222222222222,
              "#7201a8"
             ],
             [
              0.3333333333333333,
              "#9c179e"
             ],
             [
              0.4444444444444444,
              "#bd3786"
             ],
             [
              0.5555555555555556,
              "#d8576b"
             ],
             [
              0.6666666666666666,
              "#ed7953"
             ],
             [
              0.7777777777777778,
              "#fb9f3a"
             ],
             [
              0.8888888888888888,
              "#fdca26"
             ],
             [
              1,
              "#f0f921"
             ]
            ],
            "type": "heatmapgl"
           }
          ],
          "histogram": [
           {
            "marker": {
             "pattern": {
              "fillmode": "overlay",
              "size": 10,
              "solidity": 0.2
             }
            },
            "type": "histogram"
           }
          ],
          "histogram2d": [
           {
            "colorbar": {
             "outlinewidth": 0,
             "ticks": ""
            },
            "colorscale": [
             [
              0,
              "#0d0887"
             ],
             [
              0.1111111111111111,
              "#46039f"
             ],
             [
              0.2222222222222222,
              "#7201a8"
             ],
             [
              0.3333333333333333,
              "#9c179e"
             ],
             [
              0.4444444444444444,
              "#bd3786"
             ],
             [
              0.5555555555555556,
              "#d8576b"
             ],
             [
              0.6666666666666666,
              "#ed7953"
             ],
             [
              0.7777777777777778,
              "#fb9f3a"
             ],
             [
              0.8888888888888888,
              "#fdca26"
             ],
             [
              1,
              "#f0f921"
             ]
            ],
            "type": "histogram2d"
           }
          ],
          "histogram2dcontour": [
           {
            "colorbar": {
             "outlinewidth": 0,
             "ticks": ""
            },
            "colorscale": [
             [
              0,
              "#0d0887"
             ],
             [
              0.1111111111111111,
              "#46039f"
             ],
             [
              0.2222222222222222,
              "#7201a8"
             ],
             [
              0.3333333333333333,
              "#9c179e"
             ],
             [
              0.4444444444444444,
              "#bd3786"
             ],
             [
              0.5555555555555556,
              "#d8576b"
             ],
             [
              0.6666666666666666,
              "#ed7953"
             ],
             [
              0.7777777777777778,
              "#fb9f3a"
             ],
             [
              0.8888888888888888,
              "#fdca26"
             ],
             [
              1,
              "#f0f921"
             ]
            ],
            "type": "histogram2dcontour"
           }
          ],
          "mesh3d": [
           {
            "colorbar": {
             "outlinewidth": 0,
             "ticks": ""
            },
            "type": "mesh3d"
           }
          ],
          "parcoords": [
           {
            "line": {
             "colorbar": {
              "outlinewidth": 0,
              "ticks": ""
             }
            },
            "type": "parcoords"
           }
          ],
          "pie": [
           {
            "automargin": true,
            "type": "pie"
           }
          ],
          "scatter": [
           {
            "fillpattern": {
             "fillmode": "overlay",
             "size": 10,
             "solidity": 0.2
            },
            "type": "scatter"
           }
          ],
          "scatter3d": [
           {
            "line": {
             "colorbar": {
              "outlinewidth": 0,
              "ticks": ""
             }
            },
            "marker": {
             "colorbar": {
              "outlinewidth": 0,
              "ticks": ""
             }
            },
            "type": "scatter3d"
           }
          ],
          "scattercarpet": [
           {
            "marker": {
             "colorbar": {
              "outlinewidth": 0,
              "ticks": ""
             }
            },
            "type": "scattercarpet"
           }
          ],
          "scattergeo": [
           {
            "marker": {
             "colorbar": {
              "outlinewidth": 0,
              "ticks": ""
             }
            },
            "type": "scattergeo"
           }
          ],
          "scattergl": [
           {
            "marker": {
             "colorbar": {
              "outlinewidth": 0,
              "ticks": ""
             }
            },
            "type": "scattergl"
           }
          ],
          "scattermapbox": [
           {
            "marker": {
             "colorbar": {
              "outlinewidth": 0,
              "ticks": ""
             }
            },
            "type": "scattermapbox"
           }
          ],
          "scatterpolar": [
           {
            "marker": {
             "colorbar": {
              "outlinewidth": 0,
              "ticks": ""
             }
            },
            "type": "scatterpolar"
           }
          ],
          "scatterpolargl": [
           {
            "marker": {
             "colorbar": {
              "outlinewidth": 0,
              "ticks": ""
             }
            },
            "type": "scatterpolargl"
           }
          ],
          "scatterternary": [
           {
            "marker": {
             "colorbar": {
              "outlinewidth": 0,
              "ticks": ""
             }
            },
            "type": "scatterternary"
           }
          ],
          "surface": [
           {
            "colorbar": {
             "outlinewidth": 0,
             "ticks": ""
            },
            "colorscale": [
             [
              0,
              "#0d0887"
             ],
             [
              0.1111111111111111,
              "#46039f"
             ],
             [
              0.2222222222222222,
              "#7201a8"
             ],
             [
              0.3333333333333333,
              "#9c179e"
             ],
             [
              0.4444444444444444,
              "#bd3786"
             ],
             [
              0.5555555555555556,
              "#d8576b"
             ],
             [
              0.6666666666666666,
              "#ed7953"
             ],
             [
              0.7777777777777778,
              "#fb9f3a"
             ],
             [
              0.8888888888888888,
              "#fdca26"
             ],
             [
              1,
              "#f0f921"
             ]
            ],
            "type": "surface"
           }
          ],
          "table": [
           {
            "cells": {
             "fill": {
              "color": "#EBF0F8"
             },
             "line": {
              "color": "white"
             }
            },
            "header": {
             "fill": {
              "color": "#C8D4E3"
             },
             "line": {
              "color": "white"
             }
            },
            "type": "table"
           }
          ]
         },
         "layout": {
          "annotationdefaults": {
           "arrowcolor": "#2a3f5f",
           "arrowhead": 0,
           "arrowwidth": 1
          },
          "autotypenumbers": "strict",
          "coloraxis": {
           "colorbar": {
            "outlinewidth": 0,
            "ticks": ""
           }
          },
          "colorscale": {
           "diverging": [
            [
             0,
             "#8e0152"
            ],
            [
             0.1,
             "#c51b7d"
            ],
            [
             0.2,
             "#de77ae"
            ],
            [
             0.3,
             "#f1b6da"
            ],
            [
             0.4,
             "#fde0ef"
            ],
            [
             0.5,
             "#f7f7f7"
            ],
            [
             0.6,
             "#e6f5d0"
            ],
            [
             0.7,
             "#b8e186"
            ],
            [
             0.8,
             "#7fbc41"
            ],
            [
             0.9,
             "#4d9221"
            ],
            [
             1,
             "#276419"
            ]
           ],
           "sequential": [
            [
             0,
             "#0d0887"
            ],
            [
             0.1111111111111111,
             "#46039f"
            ],
            [
             0.2222222222222222,
             "#7201a8"
            ],
            [
             0.3333333333333333,
             "#9c179e"
            ],
            [
             0.4444444444444444,
             "#bd3786"
            ],
            [
             0.5555555555555556,
             "#d8576b"
            ],
            [
             0.6666666666666666,
             "#ed7953"
            ],
            [
             0.7777777777777778,
             "#fb9f3a"
            ],
            [
             0.8888888888888888,
             "#fdca26"
            ],
            [
             1,
             "#f0f921"
            ]
           ],
           "sequentialminus": [
            [
             0,
             "#0d0887"
            ],
            [
             0.1111111111111111,
             "#46039f"
            ],
            [
             0.2222222222222222,
             "#7201a8"
            ],
            [
             0.3333333333333333,
             "#9c179e"
            ],
            [
             0.4444444444444444,
             "#bd3786"
            ],
            [
             0.5555555555555556,
             "#d8576b"
            ],
            [
             0.6666666666666666,
             "#ed7953"
            ],
            [
             0.7777777777777778,
             "#fb9f3a"
            ],
            [
             0.8888888888888888,
             "#fdca26"
            ],
            [
             1,
             "#f0f921"
            ]
           ]
          },
          "colorway": [
           "#636efa",
           "#EF553B",
           "#00cc96",
           "#ab63fa",
           "#FFA15A",
           "#19d3f3",
           "#FF6692",
           "#B6E880",
           "#FF97FF",
           "#FECB52"
          ],
          "font": {
           "color": "#2a3f5f"
          },
          "geo": {
           "bgcolor": "white",
           "lakecolor": "white",
           "landcolor": "white",
           "showlakes": true,
           "showland": true,
           "subunitcolor": "#C8D4E3"
          },
          "hoverlabel": {
           "align": "left"
          },
          "hovermode": "closest",
          "mapbox": {
           "style": "light"
          },
          "paper_bgcolor": "white",
          "plot_bgcolor": "white",
          "polar": {
           "angularaxis": {
            "gridcolor": "#EBF0F8",
            "linecolor": "#EBF0F8",
            "ticks": ""
           },
           "bgcolor": "white",
           "radialaxis": {
            "gridcolor": "#EBF0F8",
            "linecolor": "#EBF0F8",
            "ticks": ""
           }
          },
          "scene": {
           "xaxis": {
            "backgroundcolor": "white",
            "gridcolor": "#DFE8F3",
            "gridwidth": 2,
            "linecolor": "#EBF0F8",
            "showbackground": true,
            "ticks": "",
            "zerolinecolor": "#EBF0F8"
           },
           "yaxis": {
            "backgroundcolor": "white",
            "gridcolor": "#DFE8F3",
            "gridwidth": 2,
            "linecolor": "#EBF0F8",
            "showbackground": true,
            "ticks": "",
            "zerolinecolor": "#EBF0F8"
           },
           "zaxis": {
            "backgroundcolor": "white",
            "gridcolor": "#DFE8F3",
            "gridwidth": 2,
            "linecolor": "#EBF0F8",
            "showbackground": true,
            "ticks": "",
            "zerolinecolor": "#EBF0F8"
           }
          },
          "shapedefaults": {
           "line": {
            "color": "#2a3f5f"
           }
          },
          "ternary": {
           "aaxis": {
            "gridcolor": "#DFE8F3",
            "linecolor": "#A2B1C6",
            "ticks": ""
           },
           "baxis": {
            "gridcolor": "#DFE8F3",
            "linecolor": "#A2B1C6",
            "ticks": ""
           },
           "bgcolor": "white",
           "caxis": {
            "gridcolor": "#DFE8F3",
            "linecolor": "#A2B1C6",
            "ticks": ""
           }
          },
          "title": {
           "x": 0.05
          },
          "xaxis": {
           "automargin": true,
           "gridcolor": "#EBF0F8",
           "linecolor": "#EBF0F8",
           "ticks": "",
           "title": {
            "standoff": 15
           },
           "zerolinecolor": "#EBF0F8",
           "zerolinewidth": 2
          },
          "yaxis": {
           "automargin": true,
           "gridcolor": "#EBF0F8",
           "linecolor": "#EBF0F8",
           "ticks": "",
           "title": {
            "standoff": 15
           },
           "zerolinecolor": "#EBF0F8",
           "zerolinewidth": 2
          }
         }
        },
        "title": {
         "font": {
          "size": 25
         },
         "text": "",
         "x": 0.5,
         "xanchor": "center",
         "yanchor": "top"
        },
        "width": 900,
        "xaxis": {
         "anchor": "y",
         "domain": [
          0,
          1
         ],
         "title": {
          "font": {
           "size": 12
          },
          "text": "Time"
         }
        },
        "yaxis": {
         "anchor": "x",
         "domain": [
          0,
          1
         ],
         "title": {
          "font": {
           "size": 12
          },
          "text": "Value"
         }
        }
       }
      }
     },
     "metadata": {},
     "output_type": "display_data"
    }
   ],
   "source": [
    "fig = plot_time_series(regular_time_samples, \n",
    "                 samples, \n",
    "                 \"\")\n",
    "fig.write_image(\"imgs/chapter_1/pseudo_process.png\")\n",
    "fig.show()"
   ]
  },
  {
   "cell_type": "markdown",
   "id": "0c7202dd-c007-41d4-b67d-436dd46e4a9b",
   "metadata": {},
   "source": [
    "## Auto Regressive"
   ]
  },
  {
   "cell_type": "code",
   "execution_count": null,
   "id": "fe132539-0dd9-45c9-b450-c1293e0aa258",
   "metadata": {},
   "outputs": [],
   "source": [
    "# THIS DOESNT WORK DUE TO A BUG IN TIMESYNTH package.  As of 3/16/24 the issue is still open.\n",
    "# Autoregressive signal with parameters 1.5 and -0.75\n",
    "# Link to issue https://github.com/TimeSynth/TimeSynth/issues/23\n",
    "\n",
    "# y(t) = 1.5*y(t-1) - 0.75*y(t-2)\n",
    "signal=AutoRegressive(ar_param=[1.5, -0.75])\n",
    "#Generate Timeseries\n",
    "samples, regular_time_samples, signals, errors = generate_timeseries(signal=signal)\n",
    "\n"
   ]
  },
  {
   "cell_type": "code",
   "execution_count": null,
   "id": "647375f6-b0d5-4d34-98ac-2e881f80d4f8",
   "metadata": {},
   "outputs": [
    {
     "data": {
      "application/vnd.plotly.v1+json": {
       "config": {
        "plotlyServerURL": "https://plot.ly"
       },
       "data": [
        {
         "hovertemplate": "Time=%{x}<br>Value=%{y}<extra></extra>",
         "legendgroup": "",
         "line": {
          "color": "#636efa",
          "dash": "solid"
         },
         "marker": {
          "symbol": "circle"
         },
         "mode": "lines",
         "name": "",
         "orientation": "v",
         "showlegend": false,
         "type": "scatter",
         "x": [
          0,
          0.20202020202020202,
          0.40404040404040403,
          0.6060606060606061,
          0.8080808080808081,
          1.0101010101010102,
          1.2121212121212122,
          1.4141414141414141,
          1.6161616161616161,
          1.8181818181818181,
          2.0202020202020203,
          2.2222222222222223,
          2.4242424242424243,
          2.6262626262626263,
          2.8282828282828283,
          3.0303030303030303,
          3.2323232323232323,
          3.4343434343434343,
          3.6363636363636362,
          3.8383838383838382,
          4.040404040404041,
          4.242424242424242,
          4.444444444444445,
          4.646464646464646,
          4.848484848484849,
          5.05050505050505,
          5.252525252525253,
          5.454545454545454,
          5.656565656565657,
          5.858585858585858,
          6.0606060606060606,
          6.262626262626262,
          6.4646464646464645,
          6.666666666666667,
          6.8686868686868685,
          7.070707070707071,
          7.2727272727272725,
          7.474747474747475,
          7.6767676767676765,
          7.878787878787879,
          8.080808080808081,
          8.282828282828282,
          8.484848484848484,
          8.686868686868687,
          8.88888888888889,
          9.09090909090909,
          9.292929292929292,
          9.494949494949495,
          9.696969696969697,
          9.8989898989899,
          10.1010101010101,
          10.303030303030303,
          10.505050505050505,
          10.707070707070708,
          10.909090909090908,
          11.11111111111111,
          11.313131313131313,
          11.515151515151516,
          11.717171717171716,
          11.919191919191919,
          12.121212121212121,
          12.323232323232324,
          12.525252525252524,
          12.727272727272727,
          12.929292929292929,
          13.131313131313131,
          13.333333333333334,
          13.535353535353535,
          13.737373737373737,
          13.93939393939394,
          14.141414141414142,
          14.343434343434343,
          14.545454545454545,
          14.747474747474747,
          14.94949494949495,
          15.15151515151515,
          15.353535353535353,
          15.555555555555555,
          15.757575757575758,
          15.959595959595958,
          16.161616161616163,
          16.363636363636363,
          16.565656565656564,
          16.767676767676768,
          16.96969696969697,
          17.171717171717173,
          17.373737373737374,
          17.575757575757574,
          17.77777777777778,
          17.97979797979798,
          18.18181818181818,
          18.383838383838384,
          18.585858585858585,
          18.78787878787879,
          18.98989898989899,
          19.19191919191919,
          19.393939393939394,
          19.595959595959595,
          19.7979797979798,
          20
         ],
         "xaxis": "x",
         "y": [
          0.22794771095389194,
          0.743706769946011,
          0.9431419037689555,
          1.3832022593791202,
          1.5920197069820692,
          1.4846101791737847,
          1.0765622777052655,
          0.9543853856488282,
          1.3714140315679384,
          1.6000412648233397,
          1.129426556995977,
          1.188488186434396,
          1.1243652352203448,
          1.2804500726413808,
          0.9657505228764823,
          0.6245918834062711,
          0.42034442765499147,
          0.6530991358088306,
          0.7209476788372291,
          0.9473181413581108,
          0.48250453534818805,
          0.7206931729802719,
          0.42353072949091375,
          0.754397988025447,
          0.35739000358802225,
          0.459599106119929,
          0.28226328119104327,
          -0.47857043522529286,
          -1.269709343111661,
          -1.764529935228497,
          -1.9021583726500788,
          -1.989322156587143,
          -2.1797234016403895,
          -1.6129473606587124,
          -0.9255850369642926,
          -1.0146281354841498,
          -0.5099053857859882,
          0.2959502931806579,
          0.6826847309137214,
          1.4746366747462658,
          1.5631341012289357,
          1.8476173471279949,
          1.9772280074811697,
          1.035171349764975,
          -0.326887079488387,
          -0.8305010539464888,
          -0.38848027129938156,
          0.9189065036104151,
          1.9232382729351005,
          1.248142286272091,
          0.8341837770038829,
          0.3978298910357372,
          0.6020562672541302,
          0.3400375472334101,
          -0.6670527688914234,
          -1.7641381497923883,
          -2.428341438289513,
          -1.6035007321023673,
          -1.2623387250562876,
          -0.9084265813765238,
          -0.6935024444452187,
          -0.48043567547348365,
          -0.18416744252177625,
          -0.5128861112274382,
          -1.3505418259680835,
          -1.2739145796904427,
          -1.3642801000158162,
          -0.8869474222786711,
          0.4204286016636175,
          1.7629936704041076,
          2.7379554576887157,
          3.0136234791391474,
          3.4320180912223583,
          3.9405874587374727,
          3.37285467525906,
          2.7094196058533893,
          1.2762988179565995,
          -0.7541777700843304,
          -1.6707457639378958,
          -0.6277334975859832,
          0.0190763297158551,
          0.16929899502537904,
          -0.5399118556342397,
          -0.9003243932149362,
          -1.8708328781189612,
          -1.4277544331753171,
          -0.5919413812893386,
          -0.13347250458843263,
          -0.6265528389308587,
          0.16743972188039202,
          0.9372258246141565,
          2.0981062919845055,
          1.575901425568118,
          0.8016436326072534,
          0.2912674573356534,
          0.7980695481278441,
          1.3843165243857591,
          1.7013240634922122,
          1.4387543076918092,
          0.40030227901062093
         ],
         "yaxis": "y"
        }
       ],
       "layout": {
        "autosize": false,
        "height": 500,
        "legend": {
         "tracegroupgap": 0
        },
        "margin": {
         "t": 60
        },
        "template": {
         "data": {
          "bar": [
           {
            "error_x": {
             "color": "#2a3f5f"
            },
            "error_y": {
             "color": "#2a3f5f"
            },
            "marker": {
             "line": {
              "color": "white",
              "width": 0.5
             },
             "pattern": {
              "fillmode": "overlay",
              "size": 10,
              "solidity": 0.2
             }
            },
            "type": "bar"
           }
          ],
          "barpolar": [
           {
            "marker": {
             "line": {
              "color": "white",
              "width": 0.5
             },
             "pattern": {
              "fillmode": "overlay",
              "size": 10,
              "solidity": 0.2
             }
            },
            "type": "barpolar"
           }
          ],
          "carpet": [
           {
            "aaxis": {
             "endlinecolor": "#2a3f5f",
             "gridcolor": "#C8D4E3",
             "linecolor": "#C8D4E3",
             "minorgridcolor": "#C8D4E3",
             "startlinecolor": "#2a3f5f"
            },
            "baxis": {
             "endlinecolor": "#2a3f5f",
             "gridcolor": "#C8D4E3",
             "linecolor": "#C8D4E3",
             "minorgridcolor": "#C8D4E3",
             "startlinecolor": "#2a3f5f"
            },
            "type": "carpet"
           }
          ],
          "choropleth": [
           {
            "colorbar": {
             "outlinewidth": 0,
             "ticks": ""
            },
            "type": "choropleth"
           }
          ],
          "contour": [
           {
            "colorbar": {
             "outlinewidth": 0,
             "ticks": ""
            },
            "colorscale": [
             [
              0,
              "#0d0887"
             ],
             [
              0.1111111111111111,
              "#46039f"
             ],
             [
              0.2222222222222222,
              "#7201a8"
             ],
             [
              0.3333333333333333,
              "#9c179e"
             ],
             [
              0.4444444444444444,
              "#bd3786"
             ],
             [
              0.5555555555555556,
              "#d8576b"
             ],
             [
              0.6666666666666666,
              "#ed7953"
             ],
             [
              0.7777777777777778,
              "#fb9f3a"
             ],
             [
              0.8888888888888888,
              "#fdca26"
             ],
             [
              1,
              "#f0f921"
             ]
            ],
            "type": "contour"
           }
          ],
          "contourcarpet": [
           {
            "colorbar": {
             "outlinewidth": 0,
             "ticks": ""
            },
            "type": "contourcarpet"
           }
          ],
          "heatmap": [
           {
            "colorbar": {
             "outlinewidth": 0,
             "ticks": ""
            },
            "colorscale": [
             [
              0,
              "#0d0887"
             ],
             [
              0.1111111111111111,
              "#46039f"
             ],
             [
              0.2222222222222222,
              "#7201a8"
             ],
             [
              0.3333333333333333,
              "#9c179e"
             ],
             [
              0.4444444444444444,
              "#bd3786"
             ],
             [
              0.5555555555555556,
              "#d8576b"
             ],
             [
              0.6666666666666666,
              "#ed7953"
             ],
             [
              0.7777777777777778,
              "#fb9f3a"
             ],
             [
              0.8888888888888888,
              "#fdca26"
             ],
             [
              1,
              "#f0f921"
             ]
            ],
            "type": "heatmap"
           }
          ],
          "heatmapgl": [
           {
            "colorbar": {
             "outlinewidth": 0,
             "ticks": ""
            },
            "colorscale": [
             [
              0,
              "#0d0887"
             ],
             [
              0.1111111111111111,
              "#46039f"
             ],
             [
              0.2222222222222222,
              "#7201a8"
             ],
             [
              0.3333333333333333,
              "#9c179e"
             ],
             [
              0.4444444444444444,
              "#bd3786"
             ],
             [
              0.5555555555555556,
              "#d8576b"
             ],
             [
              0.6666666666666666,
              "#ed7953"
             ],
             [
              0.7777777777777778,
              "#fb9f3a"
             ],
             [
              0.8888888888888888,
              "#fdca26"
             ],
             [
              1,
              "#f0f921"
             ]
            ],
            "type": "heatmapgl"
           }
          ],
          "histogram": [
           {
            "marker": {
             "pattern": {
              "fillmode": "overlay",
              "size": 10,
              "solidity": 0.2
             }
            },
            "type": "histogram"
           }
          ],
          "histogram2d": [
           {
            "colorbar": {
             "outlinewidth": 0,
             "ticks": ""
            },
            "colorscale": [
             [
              0,
              "#0d0887"
             ],
             [
              0.1111111111111111,
              "#46039f"
             ],
             [
              0.2222222222222222,
              "#7201a8"
             ],
             [
              0.3333333333333333,
              "#9c179e"
             ],
             [
              0.4444444444444444,
              "#bd3786"
             ],
             [
              0.5555555555555556,
              "#d8576b"
             ],
             [
              0.6666666666666666,
              "#ed7953"
             ],
             [
              0.7777777777777778,
              "#fb9f3a"
             ],
             [
              0.8888888888888888,
              "#fdca26"
             ],
             [
              1,
              "#f0f921"
             ]
            ],
            "type": "histogram2d"
           }
          ],
          "histogram2dcontour": [
           {
            "colorbar": {
             "outlinewidth": 0,
             "ticks": ""
            },
            "colorscale": [
             [
              0,
              "#0d0887"
             ],
             [
              0.1111111111111111,
              "#46039f"
             ],
             [
              0.2222222222222222,
              "#7201a8"
             ],
             [
              0.3333333333333333,
              "#9c179e"
             ],
             [
              0.4444444444444444,
              "#bd3786"
             ],
             [
              0.5555555555555556,
              "#d8576b"
             ],
             [
              0.6666666666666666,
              "#ed7953"
             ],
             [
              0.7777777777777778,
              "#fb9f3a"
             ],
             [
              0.8888888888888888,
              "#fdca26"
             ],
             [
              1,
              "#f0f921"
             ]
            ],
            "type": "histogram2dcontour"
           }
          ],
          "mesh3d": [
           {
            "colorbar": {
             "outlinewidth": 0,
             "ticks": ""
            },
            "type": "mesh3d"
           }
          ],
          "parcoords": [
           {
            "line": {
             "colorbar": {
              "outlinewidth": 0,
              "ticks": ""
             }
            },
            "type": "parcoords"
           }
          ],
          "pie": [
           {
            "automargin": true,
            "type": "pie"
           }
          ],
          "scatter": [
           {
            "fillpattern": {
             "fillmode": "overlay",
             "size": 10,
             "solidity": 0.2
            },
            "type": "scatter"
           }
          ],
          "scatter3d": [
           {
            "line": {
             "colorbar": {
              "outlinewidth": 0,
              "ticks": ""
             }
            },
            "marker": {
             "colorbar": {
              "outlinewidth": 0,
              "ticks": ""
             }
            },
            "type": "scatter3d"
           }
          ],
          "scattercarpet": [
           {
            "marker": {
             "colorbar": {
              "outlinewidth": 0,
              "ticks": ""
             }
            },
            "type": "scattercarpet"
           }
          ],
          "scattergeo": [
           {
            "marker": {
             "colorbar": {
              "outlinewidth": 0,
              "ticks": ""
             }
            },
            "type": "scattergeo"
           }
          ],
          "scattergl": [
           {
            "marker": {
             "colorbar": {
              "outlinewidth": 0,
              "ticks": ""
             }
            },
            "type": "scattergl"
           }
          ],
          "scattermapbox": [
           {
            "marker": {
             "colorbar": {
              "outlinewidth": 0,
              "ticks": ""
             }
            },
            "type": "scattermapbox"
           }
          ],
          "scatterpolar": [
           {
            "marker": {
             "colorbar": {
              "outlinewidth": 0,
              "ticks": ""
             }
            },
            "type": "scatterpolar"
           }
          ],
          "scatterpolargl": [
           {
            "marker": {
             "colorbar": {
              "outlinewidth": 0,
              "ticks": ""
             }
            },
            "type": "scatterpolargl"
           }
          ],
          "scatterternary": [
           {
            "marker": {
             "colorbar": {
              "outlinewidth": 0,
              "ticks": ""
             }
            },
            "type": "scatterternary"
           }
          ],
          "surface": [
           {
            "colorbar": {
             "outlinewidth": 0,
             "ticks": ""
            },
            "colorscale": [
             [
              0,
              "#0d0887"
             ],
             [
              0.1111111111111111,
              "#46039f"
             ],
             [
              0.2222222222222222,
              "#7201a8"
             ],
             [
              0.3333333333333333,
              "#9c179e"
             ],
             [
              0.4444444444444444,
              "#bd3786"
             ],
             [
              0.5555555555555556,
              "#d8576b"
             ],
             [
              0.6666666666666666,
              "#ed7953"
             ],
             [
              0.7777777777777778,
              "#fb9f3a"
             ],
             [
              0.8888888888888888,
              "#fdca26"
             ],
             [
              1,
              "#f0f921"
             ]
            ],
            "type": "surface"
           }
          ],
          "table": [
           {
            "cells": {
             "fill": {
              "color": "#EBF0F8"
             },
             "line": {
              "color": "white"
             }
            },
            "header": {
             "fill": {
              "color": "#C8D4E3"
             },
             "line": {
              "color": "white"
             }
            },
            "type": "table"
           }
          ]
         },
         "layout": {
          "annotationdefaults": {
           "arrowcolor": "#2a3f5f",
           "arrowhead": 0,
           "arrowwidth": 1
          },
          "autotypenumbers": "strict",
          "coloraxis": {
           "colorbar": {
            "outlinewidth": 0,
            "ticks": ""
           }
          },
          "colorscale": {
           "diverging": [
            [
             0,
             "#8e0152"
            ],
            [
             0.1,
             "#c51b7d"
            ],
            [
             0.2,
             "#de77ae"
            ],
            [
             0.3,
             "#f1b6da"
            ],
            [
             0.4,
             "#fde0ef"
            ],
            [
             0.5,
             "#f7f7f7"
            ],
            [
             0.6,
             "#e6f5d0"
            ],
            [
             0.7,
             "#b8e186"
            ],
            [
             0.8,
             "#7fbc41"
            ],
            [
             0.9,
             "#4d9221"
            ],
            [
             1,
             "#276419"
            ]
           ],
           "sequential": [
            [
             0,
             "#0d0887"
            ],
            [
             0.1111111111111111,
             "#46039f"
            ],
            [
             0.2222222222222222,
             "#7201a8"
            ],
            [
             0.3333333333333333,
             "#9c179e"
            ],
            [
             0.4444444444444444,
             "#bd3786"
            ],
            [
             0.5555555555555556,
             "#d8576b"
            ],
            [
             0.6666666666666666,
             "#ed7953"
            ],
            [
             0.7777777777777778,
             "#fb9f3a"
            ],
            [
             0.8888888888888888,
             "#fdca26"
            ],
            [
             1,
             "#f0f921"
            ]
           ],
           "sequentialminus": [
            [
             0,
             "#0d0887"
            ],
            [
             0.1111111111111111,
             "#46039f"
            ],
            [
             0.2222222222222222,
             "#7201a8"
            ],
            [
             0.3333333333333333,
             "#9c179e"
            ],
            [
             0.4444444444444444,
             "#bd3786"
            ],
            [
             0.5555555555555556,
             "#d8576b"
            ],
            [
             0.6666666666666666,
             "#ed7953"
            ],
            [
             0.7777777777777778,
             "#fb9f3a"
            ],
            [
             0.8888888888888888,
             "#fdca26"
            ],
            [
             1,
             "#f0f921"
            ]
           ]
          },
          "colorway": [
           "#636efa",
           "#EF553B",
           "#00cc96",
           "#ab63fa",
           "#FFA15A",
           "#19d3f3",
           "#FF6692",
           "#B6E880",
           "#FF97FF",
           "#FECB52"
          ],
          "font": {
           "color": "#2a3f5f"
          },
          "geo": {
           "bgcolor": "white",
           "lakecolor": "white",
           "landcolor": "white",
           "showlakes": true,
           "showland": true,
           "subunitcolor": "#C8D4E3"
          },
          "hoverlabel": {
           "align": "left"
          },
          "hovermode": "closest",
          "mapbox": {
           "style": "light"
          },
          "paper_bgcolor": "white",
          "plot_bgcolor": "white",
          "polar": {
           "angularaxis": {
            "gridcolor": "#EBF0F8",
            "linecolor": "#EBF0F8",
            "ticks": ""
           },
           "bgcolor": "white",
           "radialaxis": {
            "gridcolor": "#EBF0F8",
            "linecolor": "#EBF0F8",
            "ticks": ""
           }
          },
          "scene": {
           "xaxis": {
            "backgroundcolor": "white",
            "gridcolor": "#DFE8F3",
            "gridwidth": 2,
            "linecolor": "#EBF0F8",
            "showbackground": true,
            "ticks": "",
            "zerolinecolor": "#EBF0F8"
           },
           "yaxis": {
            "backgroundcolor": "white",
            "gridcolor": "#DFE8F3",
            "gridwidth": 2,
            "linecolor": "#EBF0F8",
            "showbackground": true,
            "ticks": "",
            "zerolinecolor": "#EBF0F8"
           },
           "zaxis": {
            "backgroundcolor": "white",
            "gridcolor": "#DFE8F3",
            "gridwidth": 2,
            "linecolor": "#EBF0F8",
            "showbackground": true,
            "ticks": "",
            "zerolinecolor": "#EBF0F8"
           }
          },
          "shapedefaults": {
           "line": {
            "color": "#2a3f5f"
           }
          },
          "ternary": {
           "aaxis": {
            "gridcolor": "#DFE8F3",
            "linecolor": "#A2B1C6",
            "ticks": ""
           },
           "baxis": {
            "gridcolor": "#DFE8F3",
            "linecolor": "#A2B1C6",
            "ticks": ""
           },
           "bgcolor": "white",
           "caxis": {
            "gridcolor": "#DFE8F3",
            "linecolor": "#A2B1C6",
            "ticks": ""
           }
          },
          "title": {
           "x": 0.05
          },
          "xaxis": {
           "automargin": true,
           "gridcolor": "#EBF0F8",
           "linecolor": "#EBF0F8",
           "ticks": "",
           "title": {
            "standoff": 15
           },
           "zerolinecolor": "#EBF0F8",
           "zerolinewidth": 2
          },
          "yaxis": {
           "automargin": true,
           "gridcolor": "#EBF0F8",
           "linecolor": "#EBF0F8",
           "ticks": "",
           "title": {
            "standoff": 15
           },
           "zerolinecolor": "#EBF0F8",
           "zerolinewidth": 2
          }
         }
        },
        "title": {
         "font": {
          "size": 25
         },
         "text": "",
         "x": 0.5,
         "xanchor": "center",
         "yanchor": "top"
        },
        "width": 900,
        "xaxis": {
         "anchor": "y",
         "domain": [
          0,
          1
         ],
         "title": {
          "font": {
           "size": 12
          },
          "text": "Time"
         }
        },
        "yaxis": {
         "anchor": "x",
         "domain": [
          0,
          1
         ],
         "title": {
          "font": {
           "size": 12
          },
          "text": "Value"
         }
        }
       }
      }
     },
     "metadata": {},
     "output_type": "display_data"
    }
   ],
   "source": [
    "fig = plot_time_series(regular_time_samples, \n",
    "                 samples, \n",
    "                 \"\")\n",
    "fig.write_image(\"imgs/chapter_1/auto_regressive.png\")\n",
    "fig.show()"
   ]
  },
  {
   "cell_type": "markdown",
   "id": "40e03252-655a-4a9a-8e36-9fc324dfcbe5",
   "metadata": {
    "tags": []
   },
   "source": [
    "## Mix and Match"
   ]
  },
  {
   "cell_type": "code",
   "execution_count": null,
   "id": "90ce13a1-b6e8-4e04-ae75-1c3a4ff9175d",
   "metadata": {},
   "outputs": [],
   "source": [
    "#Generating Pseudo Periodic Signal\n",
    "pseudo_samples, regular_time_samples, _, _ = generate_timeseries(signal=ts.signals.PseudoPeriodic(amplitude=1, frequency=0.25), noise=ts.noise.GaussianNoise(std=0.3))\n",
    "# Generating an Autoregressive Signal\n",
    "ar_samples, regular_time_samples, _, _ = generate_timeseries(signal=AutoRegressive(ar_param=[1.5, -0.75]))\n",
    "# Combining the two signals using a mathematical equation\n",
    "timeseries_ = pseudo_samples*2+ar_samples"
   ]
  },
  {
   "cell_type": "code",
   "execution_count": null,
   "id": "6c802544-e418-43b0-bcbf-ca1514507998",
   "metadata": {},
   "outputs": [
    {
     "data": {
      "application/vnd.plotly.v1+json": {
       "config": {
        "plotlyServerURL": "https://plot.ly"
       },
       "data": [
        {
         "hovertemplate": "Time=%{x}<br>Value=%{y}<extra></extra>",
         "legendgroup": "",
         "line": {
          "color": "#636efa",
          "dash": "solid"
         },
         "marker": {
          "symbol": "circle"
         },
         "mode": "lines",
         "name": "",
         "orientation": "v",
         "showlegend": false,
         "type": "scatter",
         "x": [
          0,
          0.20202020202020202,
          0.40404040404040403,
          0.6060606060606061,
          0.8080808080808081,
          1.0101010101010102,
          1.2121212121212122,
          1.4141414141414141,
          1.6161616161616161,
          1.8181818181818181,
          2.0202020202020203,
          2.2222222222222223,
          2.4242424242424243,
          2.6262626262626263,
          2.8282828282828283,
          3.0303030303030303,
          3.2323232323232323,
          3.4343434343434343,
          3.6363636363636362,
          3.8383838383838382,
          4.040404040404041,
          4.242424242424242,
          4.444444444444445,
          4.646464646464646,
          4.848484848484849,
          5.05050505050505,
          5.252525252525253,
          5.454545454545454,
          5.656565656565657,
          5.858585858585858,
          6.0606060606060606,
          6.262626262626262,
          6.4646464646464645,
          6.666666666666667,
          6.8686868686868685,
          7.070707070707071,
          7.2727272727272725,
          7.474747474747475,
          7.6767676767676765,
          7.878787878787879,
          8.080808080808081,
          8.282828282828282,
          8.484848484848484,
          8.686868686868687,
          8.88888888888889,
          9.09090909090909,
          9.292929292929292,
          9.494949494949495,
          9.696969696969697,
          9.8989898989899,
          10.1010101010101,
          10.303030303030303,
          10.505050505050505,
          10.707070707070708,
          10.909090909090908,
          11.11111111111111,
          11.313131313131313,
          11.515151515151516,
          11.717171717171716,
          11.919191919191919,
          12.121212121212121,
          12.323232323232324,
          12.525252525252524,
          12.727272727272727,
          12.929292929292929,
          13.131313131313131,
          13.333333333333334,
          13.535353535353535,
          13.737373737373737,
          13.93939393939394,
          14.141414141414142,
          14.343434343434343,
          14.545454545454545,
          14.747474747474747,
          14.94949494949495,
          15.15151515151515,
          15.353535353535353,
          15.555555555555555,
          15.757575757575758,
          15.959595959595958,
          16.161616161616163,
          16.363636363636363,
          16.565656565656564,
          16.767676767676768,
          16.96969696969697,
          17.171717171717173,
          17.373737373737374,
          17.575757575757574,
          17.77777777777778,
          17.97979797979798,
          18.18181818181818,
          18.383838383838384,
          18.585858585858585,
          18.78787878787879,
          18.98989898989899,
          19.19191919191919,
          19.393939393939394,
          19.595959595959595,
          19.7979797979798,
          20
         ],
         "xaxis": "x",
         "y": [
          -0.7442126984536934,
          -1.7944417200787095,
          -0.4052281161448951,
          -1.1761765945187028,
          -0.7029774061916494,
          -0.5183397439437476,
          -1.4442003189532135,
          3.7044756164328687,
          0.7128592603429041,
          -0.0850555035379933,
          2.7481366781181342,
          0.7857282076174545,
          -3.589354439225763,
          -1.4071481756377575,
          -5.490593479577795,
          -3.8352051844222252,
          -1.3270463029315183,
          1.8197098317763198,
          1.4447154429948483,
          4.738048029865569,
          5.1572152863242895,
          4.050245956792281,
          2.9153568779258725,
          0.8564770764496903,
          0.4652371607777037,
          -3.0641736443272585,
          -0.6193165422822291,
          3.1622415511971362,
          -0.687440845353672,
          2.4019666314692762,
          1.3047008526609436,
          -3.7755900610632667,
          -3.1783959883714816,
          -1.1302386329703824,
          -1.270496815755712,
          1.5008943382716486,
          3.712073143340141,
          2.577451442149565,
          1.6009198901500368,
          -0.908264659418752,
          -0.19921453222372154,
          -1.0504725807107698,
          1.8759115107466595,
          2.5508016716130166,
          -0.16417433621367583,
          -1.5597952179425847,
          0.9229645733922966,
          0.13559793323096692,
          -0.36351183059879444,
          1.4962226951109474,
          2.7332831969995346,
          0.3494997074224162,
          1.0125047047881077,
          0.5490792733288958,
          3.533596780275294,
          2.1791305411825794,
          1.6518091747695098,
          0.022139732622462382,
          0.2617292788131842,
          0.31798370376099494,
          -2.4011007308802967,
          -1.6201453903153054,
          0.4473013051255802,
          1.9049778715914794,
          2.7589224018851173,
          1.2820066995413022,
          -1.3688112732489843,
          0.4823707222442904,
          2.1598644892637964,
          -0.14404888496964363,
          -2.4546486456436964,
          1.8722900160082236,
          0.13297673793621112,
          -1.4221066246330138,
          0.3564621599523352,
          -1.6855546804345054,
          1.0965620540293037,
          -1.5449956895196952,
          -3.2181073593898213,
          -3.2338491580486304,
          -3.0216147924491357,
          -0.10640855778248381,
          -2.959100607621783,
          -2.6307777845401032,
          -0.181875812005578,
          -1.2575109962774738,
          1.8418070326182931,
          -1.3405436267896897,
          2.900709998633465,
          2.8822516727314986,
          2.479581061906871,
          0.6997940043836145,
          -1.7890943998087527,
          1.3922982990019566,
          -2.182367523784116,
          -2.038055045494746,
          -5.485847020852226,
          -2.2917761741596547,
          -0.30405795027689164,
          0.04265633840700689
         ],
         "yaxis": "y"
        }
       ],
       "layout": {
        "autosize": false,
        "height": 500,
        "legend": {
         "tracegroupgap": 0
        },
        "margin": {
         "t": 60
        },
        "template": {
         "data": {
          "bar": [
           {
            "error_x": {
             "color": "#2a3f5f"
            },
            "error_y": {
             "color": "#2a3f5f"
            },
            "marker": {
             "line": {
              "color": "white",
              "width": 0.5
             },
             "pattern": {
              "fillmode": "overlay",
              "size": 10,
              "solidity": 0.2
             }
            },
            "type": "bar"
           }
          ],
          "barpolar": [
           {
            "marker": {
             "line": {
              "color": "white",
              "width": 0.5
             },
             "pattern": {
              "fillmode": "overlay",
              "size": 10,
              "solidity": 0.2
             }
            },
            "type": "barpolar"
           }
          ],
          "carpet": [
           {
            "aaxis": {
             "endlinecolor": "#2a3f5f",
             "gridcolor": "#C8D4E3",
             "linecolor": "#C8D4E3",
             "minorgridcolor": "#C8D4E3",
             "startlinecolor": "#2a3f5f"
            },
            "baxis": {
             "endlinecolor": "#2a3f5f",
             "gridcolor": "#C8D4E3",
             "linecolor": "#C8D4E3",
             "minorgridcolor": "#C8D4E3",
             "startlinecolor": "#2a3f5f"
            },
            "type": "carpet"
           }
          ],
          "choropleth": [
           {
            "colorbar": {
             "outlinewidth": 0,
             "ticks": ""
            },
            "type": "choropleth"
           }
          ],
          "contour": [
           {
            "colorbar": {
             "outlinewidth": 0,
             "ticks": ""
            },
            "colorscale": [
             [
              0,
              "#0d0887"
             ],
             [
              0.1111111111111111,
              "#46039f"
             ],
             [
              0.2222222222222222,
              "#7201a8"
             ],
             [
              0.3333333333333333,
              "#9c179e"
             ],
             [
              0.4444444444444444,
              "#bd3786"
             ],
             [
              0.5555555555555556,
              "#d8576b"
             ],
             [
              0.6666666666666666,
              "#ed7953"
             ],
             [
              0.7777777777777778,
              "#fb9f3a"
             ],
             [
              0.8888888888888888,
              "#fdca26"
             ],
             [
              1,
              "#f0f921"
             ]
            ],
            "type": "contour"
           }
          ],
          "contourcarpet": [
           {
            "colorbar": {
             "outlinewidth": 0,
             "ticks": ""
            },
            "type": "contourcarpet"
           }
          ],
          "heatmap": [
           {
            "colorbar": {
             "outlinewidth": 0,
             "ticks": ""
            },
            "colorscale": [
             [
              0,
              "#0d0887"
             ],
             [
              0.1111111111111111,
              "#46039f"
             ],
             [
              0.2222222222222222,
              "#7201a8"
             ],
             [
              0.3333333333333333,
              "#9c179e"
             ],
             [
              0.4444444444444444,
              "#bd3786"
             ],
             [
              0.5555555555555556,
              "#d8576b"
             ],
             [
              0.6666666666666666,
              "#ed7953"
             ],
             [
              0.7777777777777778,
              "#fb9f3a"
             ],
             [
              0.8888888888888888,
              "#fdca26"
             ],
             [
              1,
              "#f0f921"
             ]
            ],
            "type": "heatmap"
           }
          ],
          "heatmapgl": [
           {
            "colorbar": {
             "outlinewidth": 0,
             "ticks": ""
            },
            "colorscale": [
             [
              0,
              "#0d0887"
             ],
             [
              0.1111111111111111,
              "#46039f"
             ],
             [
              0.2222222222222222,
              "#7201a8"
             ],
             [
              0.3333333333333333,
              "#9c179e"
             ],
             [
              0.4444444444444444,
              "#bd3786"
             ],
             [
              0.5555555555555556,
              "#d8576b"
             ],
             [
              0.6666666666666666,
              "#ed7953"
             ],
             [
              0.7777777777777778,
              "#fb9f3a"
             ],
             [
              0.8888888888888888,
              "#fdca26"
             ],
             [
              1,
              "#f0f921"
             ]
            ],
            "type": "heatmapgl"
           }
          ],
          "histogram": [
           {
            "marker": {
             "pattern": {
              "fillmode": "overlay",
              "size": 10,
              "solidity": 0.2
             }
            },
            "type": "histogram"
           }
          ],
          "histogram2d": [
           {
            "colorbar": {
             "outlinewidth": 0,
             "ticks": ""
            },
            "colorscale": [
             [
              0,
              "#0d0887"
             ],
             [
              0.1111111111111111,
              "#46039f"
             ],
             [
              0.2222222222222222,
              "#7201a8"
             ],
             [
              0.3333333333333333,
              "#9c179e"
             ],
             [
              0.4444444444444444,
              "#bd3786"
             ],
             [
              0.5555555555555556,
              "#d8576b"
             ],
             [
              0.6666666666666666,
              "#ed7953"
             ],
             [
              0.7777777777777778,
              "#fb9f3a"
             ],
             [
              0.8888888888888888,
              "#fdca26"
             ],
             [
              1,
              "#f0f921"
             ]
            ],
            "type": "histogram2d"
           }
          ],
          "histogram2dcontour": [
           {
            "colorbar": {
             "outlinewidth": 0,
             "ticks": ""
            },
            "colorscale": [
             [
              0,
              "#0d0887"
             ],
             [
              0.1111111111111111,
              "#46039f"
             ],
             [
              0.2222222222222222,
              "#7201a8"
             ],
             [
              0.3333333333333333,
              "#9c179e"
             ],
             [
              0.4444444444444444,
              "#bd3786"
             ],
             [
              0.5555555555555556,
              "#d8576b"
             ],
             [
              0.6666666666666666,
              "#ed7953"
             ],
             [
              0.7777777777777778,
              "#fb9f3a"
             ],
             [
              0.8888888888888888,
              "#fdca26"
             ],
             [
              1,
              "#f0f921"
             ]
            ],
            "type": "histogram2dcontour"
           }
          ],
          "mesh3d": [
           {
            "colorbar": {
             "outlinewidth": 0,
             "ticks": ""
            },
            "type": "mesh3d"
           }
          ],
          "parcoords": [
           {
            "line": {
             "colorbar": {
              "outlinewidth": 0,
              "ticks": ""
             }
            },
            "type": "parcoords"
           }
          ],
          "pie": [
           {
            "automargin": true,
            "type": "pie"
           }
          ],
          "scatter": [
           {
            "fillpattern": {
             "fillmode": "overlay",
             "size": 10,
             "solidity": 0.2
            },
            "type": "scatter"
           }
          ],
          "scatter3d": [
           {
            "line": {
             "colorbar": {
              "outlinewidth": 0,
              "ticks": ""
             }
            },
            "marker": {
             "colorbar": {
              "outlinewidth": 0,
              "ticks": ""
             }
            },
            "type": "scatter3d"
           }
          ],
          "scattercarpet": [
           {
            "marker": {
             "colorbar": {
              "outlinewidth": 0,
              "ticks": ""
             }
            },
            "type": "scattercarpet"
           }
          ],
          "scattergeo": [
           {
            "marker": {
             "colorbar": {
              "outlinewidth": 0,
              "ticks": ""
             }
            },
            "type": "scattergeo"
           }
          ],
          "scattergl": [
           {
            "marker": {
             "colorbar": {
              "outlinewidth": 0,
              "ticks": ""
             }
            },
            "type": "scattergl"
           }
          ],
          "scattermapbox": [
           {
            "marker": {
             "colorbar": {
              "outlinewidth": 0,
              "ticks": ""
             }
            },
            "type": "scattermapbox"
           }
          ],
          "scatterpolar": [
           {
            "marker": {
             "colorbar": {
              "outlinewidth": 0,
              "ticks": ""
             }
            },
            "type": "scatterpolar"
           }
          ],
          "scatterpolargl": [
           {
            "marker": {
             "colorbar": {
              "outlinewidth": 0,
              "ticks": ""
             }
            },
            "type": "scatterpolargl"
           }
          ],
          "scatterternary": [
           {
            "marker": {
             "colorbar": {
              "outlinewidth": 0,
              "ticks": ""
             }
            },
            "type": "scatterternary"
           }
          ],
          "surface": [
           {
            "colorbar": {
             "outlinewidth": 0,
             "ticks": ""
            },
            "colorscale": [
             [
              0,
              "#0d0887"
             ],
             [
              0.1111111111111111,
              "#46039f"
             ],
             [
              0.2222222222222222,
              "#7201a8"
             ],
             [
              0.3333333333333333,
              "#9c179e"
             ],
             [
              0.4444444444444444,
              "#bd3786"
             ],
             [
              0.5555555555555556,
              "#d8576b"
             ],
             [
              0.6666666666666666,
              "#ed7953"
             ],
             [
              0.7777777777777778,
              "#fb9f3a"
             ],
             [
              0.8888888888888888,
              "#fdca26"
             ],
             [
              1,
              "#f0f921"
             ]
            ],
            "type": "surface"
           }
          ],
          "table": [
           {
            "cells": {
             "fill": {
              "color": "#EBF0F8"
             },
             "line": {
              "color": "white"
             }
            },
            "header": {
             "fill": {
              "color": "#C8D4E3"
             },
             "line": {
              "color": "white"
             }
            },
            "type": "table"
           }
          ]
         },
         "layout": {
          "annotationdefaults": {
           "arrowcolor": "#2a3f5f",
           "arrowhead": 0,
           "arrowwidth": 1
          },
          "autotypenumbers": "strict",
          "coloraxis": {
           "colorbar": {
            "outlinewidth": 0,
            "ticks": ""
           }
          },
          "colorscale": {
           "diverging": [
            [
             0,
             "#8e0152"
            ],
            [
             0.1,
             "#c51b7d"
            ],
            [
             0.2,
             "#de77ae"
            ],
            [
             0.3,
             "#f1b6da"
            ],
            [
             0.4,
             "#fde0ef"
            ],
            [
             0.5,
             "#f7f7f7"
            ],
            [
             0.6,
             "#e6f5d0"
            ],
            [
             0.7,
             "#b8e186"
            ],
            [
             0.8,
             "#7fbc41"
            ],
            [
             0.9,
             "#4d9221"
            ],
            [
             1,
             "#276419"
            ]
           ],
           "sequential": [
            [
             0,
             "#0d0887"
            ],
            [
             0.1111111111111111,
             "#46039f"
            ],
            [
             0.2222222222222222,
             "#7201a8"
            ],
            [
             0.3333333333333333,
             "#9c179e"
            ],
            [
             0.4444444444444444,
             "#bd3786"
            ],
            [
             0.5555555555555556,
             "#d8576b"
            ],
            [
             0.6666666666666666,
             "#ed7953"
            ],
            [
             0.7777777777777778,
             "#fb9f3a"
            ],
            [
             0.8888888888888888,
             "#fdca26"
            ],
            [
             1,
             "#f0f921"
            ]
           ],
           "sequentialminus": [
            [
             0,
             "#0d0887"
            ],
            [
             0.1111111111111111,
             "#46039f"
            ],
            [
             0.2222222222222222,
             "#7201a8"
            ],
            [
             0.3333333333333333,
             "#9c179e"
            ],
            [
             0.4444444444444444,
             "#bd3786"
            ],
            [
             0.5555555555555556,
             "#d8576b"
            ],
            [
             0.6666666666666666,
             "#ed7953"
            ],
            [
             0.7777777777777778,
             "#fb9f3a"
            ],
            [
             0.8888888888888888,
             "#fdca26"
            ],
            [
             1,
             "#f0f921"
            ]
           ]
          },
          "colorway": [
           "#636efa",
           "#EF553B",
           "#00cc96",
           "#ab63fa",
           "#FFA15A",
           "#19d3f3",
           "#FF6692",
           "#B6E880",
           "#FF97FF",
           "#FECB52"
          ],
          "font": {
           "color": "#2a3f5f"
          },
          "geo": {
           "bgcolor": "white",
           "lakecolor": "white",
           "landcolor": "white",
           "showlakes": true,
           "showland": true,
           "subunitcolor": "#C8D4E3"
          },
          "hoverlabel": {
           "align": "left"
          },
          "hovermode": "closest",
          "mapbox": {
           "style": "light"
          },
          "paper_bgcolor": "white",
          "plot_bgcolor": "white",
          "polar": {
           "angularaxis": {
            "gridcolor": "#EBF0F8",
            "linecolor": "#EBF0F8",
            "ticks": ""
           },
           "bgcolor": "white",
           "radialaxis": {
            "gridcolor": "#EBF0F8",
            "linecolor": "#EBF0F8",
            "ticks": ""
           }
          },
          "scene": {
           "xaxis": {
            "backgroundcolor": "white",
            "gridcolor": "#DFE8F3",
            "gridwidth": 2,
            "linecolor": "#EBF0F8",
            "showbackground": true,
            "ticks": "",
            "zerolinecolor": "#EBF0F8"
           },
           "yaxis": {
            "backgroundcolor": "white",
            "gridcolor": "#DFE8F3",
            "gridwidth": 2,
            "linecolor": "#EBF0F8",
            "showbackground": true,
            "ticks": "",
            "zerolinecolor": "#EBF0F8"
           },
           "zaxis": {
            "backgroundcolor": "white",
            "gridcolor": "#DFE8F3",
            "gridwidth": 2,
            "linecolor": "#EBF0F8",
            "showbackground": true,
            "ticks": "",
            "zerolinecolor": "#EBF0F8"
           }
          },
          "shapedefaults": {
           "line": {
            "color": "#2a3f5f"
           }
          },
          "ternary": {
           "aaxis": {
            "gridcolor": "#DFE8F3",
            "linecolor": "#A2B1C6",
            "ticks": ""
           },
           "baxis": {
            "gridcolor": "#DFE8F3",
            "linecolor": "#A2B1C6",
            "ticks": ""
           },
           "bgcolor": "white",
           "caxis": {
            "gridcolor": "#DFE8F3",
            "linecolor": "#A2B1C6",
            "ticks": ""
           }
          },
          "title": {
           "x": 0.05
          },
          "xaxis": {
           "automargin": true,
           "gridcolor": "#EBF0F8",
           "linecolor": "#EBF0F8",
           "ticks": "",
           "title": {
            "standoff": 15
           },
           "zerolinecolor": "#EBF0F8",
           "zerolinewidth": 2
          },
          "yaxis": {
           "automargin": true,
           "gridcolor": "#EBF0F8",
           "linecolor": "#EBF0F8",
           "ticks": "",
           "title": {
            "standoff": 15
           },
           "zerolinecolor": "#EBF0F8",
           "zerolinewidth": 2
          }
         }
        },
        "title": {
         "font": {
          "size": 25
         },
         "text": "",
         "x": 0.5,
         "xanchor": "center",
         "yanchor": "top"
        },
        "width": 900,
        "xaxis": {
         "anchor": "y",
         "domain": [
          0,
          1
         ],
         "title": {
          "font": {
           "size": 12
          },
          "text": "Time"
         }
        },
        "yaxis": {
         "anchor": "x",
         "domain": [
          0,
          1
         ],
         "title": {
          "font": {
           "size": 12
          },
          "text": "Value"
         }
        }
       }
      }
     },
     "metadata": {},
     "output_type": "display_data"
    }
   ],
   "source": [
    "fig = plot_time_series(regular_time_samples, \n",
    "                 timeseries_, \n",
    "                 \"\")\n",
    "fig.write_image(\"imgs/chapter_1/mix_n_match.png\")\n",
    "fig.show()"
   ]
  },
  {
   "cell_type": "markdown",
   "id": "3befc02c-1618-46e8-b5de-8d1167c6e98a",
   "metadata": {},
   "source": [
    "## Non-Stationary: Sinusoidal with Trend and White Noise"
   ]
  },
  {
   "cell_type": "code",
   "execution_count": null,
   "id": "d158f3cb-84ee-4590-b58d-655767e5f510",
   "metadata": {},
   "outputs": [],
   "source": [
    "# Sinusoidal Signal with Amplitude=1 & Frequency=0.25\n",
    "signal=ts.signals.Sinusoidal(amplitude=1, frequency=0.25)\n",
    "# White Noise with standar deviation = 0.3\n",
    "noise=ts.noise.GaussianNoise(std=0.3)\n",
    "# Generate the time series\n",
    "sinusoidal_samples, regular_time_samples, _, _ = generate_timeseries(signal=signal, noise=noise)\n",
    "# Regular_time_samples is a linear incteasing time axis and can be used as a trend\n",
    "trend = regular_time_samples*0.4\n",
    "# Combining the signal and trend\n",
    "timeseries_ = sinusoidal_samples+trend"
   ]
  },
  {
   "cell_type": "code",
   "execution_count": null,
   "id": "fde1e825-a016-4287-af61-0bd5c756a1d5",
   "metadata": {},
   "outputs": [
    {
     "data": {
      "application/vnd.plotly.v1+json": {
       "config": {
        "plotlyServerURL": "https://plot.ly"
       },
       "data": [
        {
         "hovertemplate": "Time=%{x}<br>Value=%{y}<extra></extra>",
         "legendgroup": "",
         "line": {
          "color": "#636efa",
          "dash": "solid"
         },
         "marker": {
          "symbol": "circle"
         },
         "mode": "lines",
         "name": "",
         "orientation": "v",
         "showlegend": false,
         "type": "scatter",
         "x": [
          0,
          0.20202020202020202,
          0.40404040404040403,
          0.6060606060606061,
          0.8080808080808081,
          1.0101010101010102,
          1.2121212121212122,
          1.4141414141414141,
          1.6161616161616161,
          1.8181818181818181,
          2.0202020202020203,
          2.2222222222222223,
          2.4242424242424243,
          2.6262626262626263,
          2.8282828282828283,
          3.0303030303030303,
          3.2323232323232323,
          3.4343434343434343,
          3.6363636363636362,
          3.8383838383838382,
          4.040404040404041,
          4.242424242424242,
          4.444444444444445,
          4.646464646464646,
          4.848484848484849,
          5.05050505050505,
          5.252525252525253,
          5.454545454545454,
          5.656565656565657,
          5.858585858585858,
          6.0606060606060606,
          6.262626262626262,
          6.4646464646464645,
          6.666666666666667,
          6.8686868686868685,
          7.070707070707071,
          7.2727272727272725,
          7.474747474747475,
          7.6767676767676765,
          7.878787878787879,
          8.080808080808081,
          8.282828282828282,
          8.484848484848484,
          8.686868686868687,
          8.88888888888889,
          9.09090909090909,
          9.292929292929292,
          9.494949494949495,
          9.696969696969697,
          9.8989898989899,
          10.1010101010101,
          10.303030303030303,
          10.505050505050505,
          10.707070707070708,
          10.909090909090908,
          11.11111111111111,
          11.313131313131313,
          11.515151515151516,
          11.717171717171716,
          11.919191919191919,
          12.121212121212121,
          12.323232323232324,
          12.525252525252524,
          12.727272727272727,
          12.929292929292929,
          13.131313131313131,
          13.333333333333334,
          13.535353535353535,
          13.737373737373737,
          13.93939393939394,
          14.141414141414142,
          14.343434343434343,
          14.545454545454545,
          14.747474747474747,
          14.94949494949495,
          15.15151515151515,
          15.353535353535353,
          15.555555555555555,
          15.757575757575758,
          15.959595959595958,
          16.161616161616163,
          16.363636363636363,
          16.565656565656564,
          16.767676767676768,
          16.96969696969697,
          17.171717171717173,
          17.373737373737374,
          17.575757575757574,
          17.77777777777778,
          17.97979797979798,
          18.18181818181818,
          18.383838383838384,
          18.585858585858585,
          18.78787878787879,
          18.98989898989899,
          19.19191919191919,
          19.393939393939394,
          19.595959595959595,
          19.7979797979798,
          20
         ],
         "xaxis": "x",
         "y": [
          -0.12943263006335043,
          -0.10771531902539273,
          0.7034365078102107,
          0.6935825163387579,
          1.3389198280044028,
          1.597365004551559,
          1.4185120571082548,
          1.402664877372545,
          0.7897831001210895,
          0.9369723993018622,
          1.0963228050110216,
          0.8523494707464696,
          0.5866080878081303,
          0.32030204539175433,
          0.011152996560234607,
          0.28018998523930605,
          0.9914985728650427,
          0.49673574915152996,
          1.4835577101124993,
          1.1740692574362421,
          2.3038926552630037,
          1.9663749903456482,
          2.2440058148884328,
          2.9545744134630594,
          3.000747243565027,
          2.935181840729272,
          3.290831007818337,
          2.8625580069154966,
          2.5291497975438584,
          2.576730514488217,
          1.7031116706516056,
          2.0751768946671185,
          2.2355903036126406,
          1.7075802216453004,
          1.3028198385638778,
          1.716832119108928,
          1.4715670677092005,
          2.6254688748998314,
          2.3169477539652066,
          3.120497425186774,
          3.3557673918721918,
          4.077202618839777,
          4.10245192729094,
          4.181326837618915,
          4.3254039463568015,
          4.205049700046489,
          5.148818370754401,
          4.530232364004525,
          3.672113579633951,
          3.9977065013334827,
          3.8878149741559405,
          3.4252330254513725,
          3.5360131777142847,
          3.7731878725052,
          2.8568712550598443,
          4.215430354405187,
          3.9277714828604697,
          4.1027720177284355,
          4.530961434832934,
          4.865111986711731,
          5.186298737123821,
          5.432808535714786,
          5.2025048131265885,
          6.1094307109786,
          6.4017006412858715,
          6.540548524950003,
          6.072051689136322,
          5.994127321595818,
          5.784675651301094,
          5.142613471885079,
          5.855811059706335,
          5.493715278327781,
          5.0066183434683,
          4.696902569183791,
          5.138238797225552,
          5.446732486855838,
          5.242798605433186,
          5.54369885291276,
          6.262253328034945,
          5.9065398363542485,
          6.733868111683763,
          7.449522140440494,
          7.298090982171652,
          7.429813871627532,
          7.837811979606267,
          7.280299143426739,
          7.764786011666244,
          7.783883164389637,
          7.202251918572571,
          6.983326395039531,
          6.990187810352412,
          6.951110743761429,
          6.534075949242815,
          6.872813703020843,
          6.514446103363731,
          7.044611905605702,
          6.5672764448754695,
          7.545077216701036,
          7.404645082768331,
          7.961275329500896
         ],
         "yaxis": "y"
        }
       ],
       "layout": {
        "autosize": false,
        "height": 500,
        "legend": {
         "tracegroupgap": 0
        },
        "margin": {
         "t": 60
        },
        "template": {
         "data": {
          "bar": [
           {
            "error_x": {
             "color": "#2a3f5f"
            },
            "error_y": {
             "color": "#2a3f5f"
            },
            "marker": {
             "line": {
              "color": "white",
              "width": 0.5
             },
             "pattern": {
              "fillmode": "overlay",
              "size": 10,
              "solidity": 0.2
             }
            },
            "type": "bar"
           }
          ],
          "barpolar": [
           {
            "marker": {
             "line": {
              "color": "white",
              "width": 0.5
             },
             "pattern": {
              "fillmode": "overlay",
              "size": 10,
              "solidity": 0.2
             }
            },
            "type": "barpolar"
           }
          ],
          "carpet": [
           {
            "aaxis": {
             "endlinecolor": "#2a3f5f",
             "gridcolor": "#C8D4E3",
             "linecolor": "#C8D4E3",
             "minorgridcolor": "#C8D4E3",
             "startlinecolor": "#2a3f5f"
            },
            "baxis": {
             "endlinecolor": "#2a3f5f",
             "gridcolor": "#C8D4E3",
             "linecolor": "#C8D4E3",
             "minorgridcolor": "#C8D4E3",
             "startlinecolor": "#2a3f5f"
            },
            "type": "carpet"
           }
          ],
          "choropleth": [
           {
            "colorbar": {
             "outlinewidth": 0,
             "ticks": ""
            },
            "type": "choropleth"
           }
          ],
          "contour": [
           {
            "colorbar": {
             "outlinewidth": 0,
             "ticks": ""
            },
            "colorscale": [
             [
              0,
              "#0d0887"
             ],
             [
              0.1111111111111111,
              "#46039f"
             ],
             [
              0.2222222222222222,
              "#7201a8"
             ],
             [
              0.3333333333333333,
              "#9c179e"
             ],
             [
              0.4444444444444444,
              "#bd3786"
             ],
             [
              0.5555555555555556,
              "#d8576b"
             ],
             [
              0.6666666666666666,
              "#ed7953"
             ],
             [
              0.7777777777777778,
              "#fb9f3a"
             ],
             [
              0.8888888888888888,
              "#fdca26"
             ],
             [
              1,
              "#f0f921"
             ]
            ],
            "type": "contour"
           }
          ],
          "contourcarpet": [
           {
            "colorbar": {
             "outlinewidth": 0,
             "ticks": ""
            },
            "type": "contourcarpet"
           }
          ],
          "heatmap": [
           {
            "colorbar": {
             "outlinewidth": 0,
             "ticks": ""
            },
            "colorscale": [
             [
              0,
              "#0d0887"
             ],
             [
              0.1111111111111111,
              "#46039f"
             ],
             [
              0.2222222222222222,
              "#7201a8"
             ],
             [
              0.3333333333333333,
              "#9c179e"
             ],
             [
              0.4444444444444444,
              "#bd3786"
             ],
             [
              0.5555555555555556,
              "#d8576b"
             ],
             [
              0.6666666666666666,
              "#ed7953"
             ],
             [
              0.7777777777777778,
              "#fb9f3a"
             ],
             [
              0.8888888888888888,
              "#fdca26"
             ],
             [
              1,
              "#f0f921"
             ]
            ],
            "type": "heatmap"
           }
          ],
          "heatmapgl": [
           {
            "colorbar": {
             "outlinewidth": 0,
             "ticks": ""
            },
            "colorscale": [
             [
              0,
              "#0d0887"
             ],
             [
              0.1111111111111111,
              "#46039f"
             ],
             [
              0.2222222222222222,
              "#7201a8"
             ],
             [
              0.3333333333333333,
              "#9c179e"
             ],
             [
              0.4444444444444444,
              "#bd3786"
             ],
             [
              0.5555555555555556,
              "#d8576b"
             ],
             [
              0.6666666666666666,
              "#ed7953"
             ],
             [
              0.7777777777777778,
              "#fb9f3a"
             ],
             [
              0.8888888888888888,
              "#fdca26"
             ],
             [
              1,
              "#f0f921"
             ]
            ],
            "type": "heatmapgl"
           }
          ],
          "histogram": [
           {
            "marker": {
             "pattern": {
              "fillmode": "overlay",
              "size": 10,
              "solidity": 0.2
             }
            },
            "type": "histogram"
           }
          ],
          "histogram2d": [
           {
            "colorbar": {
             "outlinewidth": 0,
             "ticks": ""
            },
            "colorscale": [
             [
              0,
              "#0d0887"
             ],
             [
              0.1111111111111111,
              "#46039f"
             ],
             [
              0.2222222222222222,
              "#7201a8"
             ],
             [
              0.3333333333333333,
              "#9c179e"
             ],
             [
              0.4444444444444444,
              "#bd3786"
             ],
             [
              0.5555555555555556,
              "#d8576b"
             ],
             [
              0.6666666666666666,
              "#ed7953"
             ],
             [
              0.7777777777777778,
              "#fb9f3a"
             ],
             [
              0.8888888888888888,
              "#fdca26"
             ],
             [
              1,
              "#f0f921"
             ]
            ],
            "type": "histogram2d"
           }
          ],
          "histogram2dcontour": [
           {
            "colorbar": {
             "outlinewidth": 0,
             "ticks": ""
            },
            "colorscale": [
             [
              0,
              "#0d0887"
             ],
             [
              0.1111111111111111,
              "#46039f"
             ],
             [
              0.2222222222222222,
              "#7201a8"
             ],
             [
              0.3333333333333333,
              "#9c179e"
             ],
             [
              0.4444444444444444,
              "#bd3786"
             ],
             [
              0.5555555555555556,
              "#d8576b"
             ],
             [
              0.6666666666666666,
              "#ed7953"
             ],
             [
              0.7777777777777778,
              "#fb9f3a"
             ],
             [
              0.8888888888888888,
              "#fdca26"
             ],
             [
              1,
              "#f0f921"
             ]
            ],
            "type": "histogram2dcontour"
           }
          ],
          "mesh3d": [
           {
            "colorbar": {
             "outlinewidth": 0,
             "ticks": ""
            },
            "type": "mesh3d"
           }
          ],
          "parcoords": [
           {
            "line": {
             "colorbar": {
              "outlinewidth": 0,
              "ticks": ""
             }
            },
            "type": "parcoords"
           }
          ],
          "pie": [
           {
            "automargin": true,
            "type": "pie"
           }
          ],
          "scatter": [
           {
            "fillpattern": {
             "fillmode": "overlay",
             "size": 10,
             "solidity": 0.2
            },
            "type": "scatter"
           }
          ],
          "scatter3d": [
           {
            "line": {
             "colorbar": {
              "outlinewidth": 0,
              "ticks": ""
             }
            },
            "marker": {
             "colorbar": {
              "outlinewidth": 0,
              "ticks": ""
             }
            },
            "type": "scatter3d"
           }
          ],
          "scattercarpet": [
           {
            "marker": {
             "colorbar": {
              "outlinewidth": 0,
              "ticks": ""
             }
            },
            "type": "scattercarpet"
           }
          ],
          "scattergeo": [
           {
            "marker": {
             "colorbar": {
              "outlinewidth": 0,
              "ticks": ""
             }
            },
            "type": "scattergeo"
           }
          ],
          "scattergl": [
           {
            "marker": {
             "colorbar": {
              "outlinewidth": 0,
              "ticks": ""
             }
            },
            "type": "scattergl"
           }
          ],
          "scattermapbox": [
           {
            "marker": {
             "colorbar": {
              "outlinewidth": 0,
              "ticks": ""
             }
            },
            "type": "scattermapbox"
           }
          ],
          "scatterpolar": [
           {
            "marker": {
             "colorbar": {
              "outlinewidth": 0,
              "ticks": ""
             }
            },
            "type": "scatterpolar"
           }
          ],
          "scatterpolargl": [
           {
            "marker": {
             "colorbar": {
              "outlinewidth": 0,
              "ticks": ""
             }
            },
            "type": "scatterpolargl"
           }
          ],
          "scatterternary": [
           {
            "marker": {
             "colorbar": {
              "outlinewidth": 0,
              "ticks": ""
             }
            },
            "type": "scatterternary"
           }
          ],
          "surface": [
           {
            "colorbar": {
             "outlinewidth": 0,
             "ticks": ""
            },
            "colorscale": [
             [
              0,
              "#0d0887"
             ],
             [
              0.1111111111111111,
              "#46039f"
             ],
             [
              0.2222222222222222,
              "#7201a8"
             ],
             [
              0.3333333333333333,
              "#9c179e"
             ],
             [
              0.4444444444444444,
              "#bd3786"
             ],
             [
              0.5555555555555556,
              "#d8576b"
             ],
             [
              0.6666666666666666,
              "#ed7953"
             ],
             [
              0.7777777777777778,
              "#fb9f3a"
             ],
             [
              0.8888888888888888,
              "#fdca26"
             ],
             [
              1,
              "#f0f921"
             ]
            ],
            "type": "surface"
           }
          ],
          "table": [
           {
            "cells": {
             "fill": {
              "color": "#EBF0F8"
             },
             "line": {
              "color": "white"
             }
            },
            "header": {
             "fill": {
              "color": "#C8D4E3"
             },
             "line": {
              "color": "white"
             }
            },
            "type": "table"
           }
          ]
         },
         "layout": {
          "annotationdefaults": {
           "arrowcolor": "#2a3f5f",
           "arrowhead": 0,
           "arrowwidth": 1
          },
          "autotypenumbers": "strict",
          "coloraxis": {
           "colorbar": {
            "outlinewidth": 0,
            "ticks": ""
           }
          },
          "colorscale": {
           "diverging": [
            [
             0,
             "#8e0152"
            ],
            [
             0.1,
             "#c51b7d"
            ],
            [
             0.2,
             "#de77ae"
            ],
            [
             0.3,
             "#f1b6da"
            ],
            [
             0.4,
             "#fde0ef"
            ],
            [
             0.5,
             "#f7f7f7"
            ],
            [
             0.6,
             "#e6f5d0"
            ],
            [
             0.7,
             "#b8e186"
            ],
            [
             0.8,
             "#7fbc41"
            ],
            [
             0.9,
             "#4d9221"
            ],
            [
             1,
             "#276419"
            ]
           ],
           "sequential": [
            [
             0,
             "#0d0887"
            ],
            [
             0.1111111111111111,
             "#46039f"
            ],
            [
             0.2222222222222222,
             "#7201a8"
            ],
            [
             0.3333333333333333,
             "#9c179e"
            ],
            [
             0.4444444444444444,
             "#bd3786"
            ],
            [
             0.5555555555555556,
             "#d8576b"
            ],
            [
             0.6666666666666666,
             "#ed7953"
            ],
            [
             0.7777777777777778,
             "#fb9f3a"
            ],
            [
             0.8888888888888888,
             "#fdca26"
            ],
            [
             1,
             "#f0f921"
            ]
           ],
           "sequentialminus": [
            [
             0,
             "#0d0887"
            ],
            [
             0.1111111111111111,
             "#46039f"
            ],
            [
             0.2222222222222222,
             "#7201a8"
            ],
            [
             0.3333333333333333,
             "#9c179e"
            ],
            [
             0.4444444444444444,
             "#bd3786"
            ],
            [
             0.5555555555555556,
             "#d8576b"
            ],
            [
             0.6666666666666666,
             "#ed7953"
            ],
            [
             0.7777777777777778,
             "#fb9f3a"
            ],
            [
             0.8888888888888888,
             "#fdca26"
            ],
            [
             1,
             "#f0f921"
            ]
           ]
          },
          "colorway": [
           "#636efa",
           "#EF553B",
           "#00cc96",
           "#ab63fa",
           "#FFA15A",
           "#19d3f3",
           "#FF6692",
           "#B6E880",
           "#FF97FF",
           "#FECB52"
          ],
          "font": {
           "color": "#2a3f5f"
          },
          "geo": {
           "bgcolor": "white",
           "lakecolor": "white",
           "landcolor": "white",
           "showlakes": true,
           "showland": true,
           "subunitcolor": "#C8D4E3"
          },
          "hoverlabel": {
           "align": "left"
          },
          "hovermode": "closest",
          "mapbox": {
           "style": "light"
          },
          "paper_bgcolor": "white",
          "plot_bgcolor": "white",
          "polar": {
           "angularaxis": {
            "gridcolor": "#EBF0F8",
            "linecolor": "#EBF0F8",
            "ticks": ""
           },
           "bgcolor": "white",
           "radialaxis": {
            "gridcolor": "#EBF0F8",
            "linecolor": "#EBF0F8",
            "ticks": ""
           }
          },
          "scene": {
           "xaxis": {
            "backgroundcolor": "white",
            "gridcolor": "#DFE8F3",
            "gridwidth": 2,
            "linecolor": "#EBF0F8",
            "showbackground": true,
            "ticks": "",
            "zerolinecolor": "#EBF0F8"
           },
           "yaxis": {
            "backgroundcolor": "white",
            "gridcolor": "#DFE8F3",
            "gridwidth": 2,
            "linecolor": "#EBF0F8",
            "showbackground": true,
            "ticks": "",
            "zerolinecolor": "#EBF0F8"
           },
           "zaxis": {
            "backgroundcolor": "white",
            "gridcolor": "#DFE8F3",
            "gridwidth": 2,
            "linecolor": "#EBF0F8",
            "showbackground": true,
            "ticks": "",
            "zerolinecolor": "#EBF0F8"
           }
          },
          "shapedefaults": {
           "line": {
            "color": "#2a3f5f"
           }
          },
          "ternary": {
           "aaxis": {
            "gridcolor": "#DFE8F3",
            "linecolor": "#A2B1C6",
            "ticks": ""
           },
           "baxis": {
            "gridcolor": "#DFE8F3",
            "linecolor": "#A2B1C6",
            "ticks": ""
           },
           "bgcolor": "white",
           "caxis": {
            "gridcolor": "#DFE8F3",
            "linecolor": "#A2B1C6",
            "ticks": ""
           }
          },
          "title": {
           "x": 0.05
          },
          "xaxis": {
           "automargin": true,
           "gridcolor": "#EBF0F8",
           "linecolor": "#EBF0F8",
           "ticks": "",
           "title": {
            "standoff": 15
           },
           "zerolinecolor": "#EBF0F8",
           "zerolinewidth": 2
          },
          "yaxis": {
           "automargin": true,
           "gridcolor": "#EBF0F8",
           "linecolor": "#EBF0F8",
           "ticks": "",
           "title": {
            "standoff": 15
           },
           "zerolinecolor": "#EBF0F8",
           "zerolinewidth": 2
          }
         }
        },
        "title": {
         "font": {
          "size": 25
         },
         "text": "",
         "x": 0.5,
         "xanchor": "center",
         "yanchor": "top"
        },
        "width": 900,
        "xaxis": {
         "anchor": "y",
         "domain": [
          0,
          1
         ],
         "title": {
          "font": {
           "size": 12
          },
          "text": "Time"
         }
        },
        "yaxis": {
         "anchor": "x",
         "domain": [
          0,
          1
         ],
         "title": {
          "font": {
           "size": 12
          },
          "text": "Value"
         }
        }
       }
      }
     },
     "metadata": {},
     "output_type": "display_data"
    }
   ],
   "source": [
    "fig = plot_time_series(regular_time_samples, \n",
    "                 timeseries_, \n",
    "                 \"\")\n",
    "fig.write_image(\"imgs/chapter_1/non_stationary.png\")\n",
    "fig.show()"
   ]
  },
  {
   "cell_type": "markdown",
   "id": "fa01d432-29f6-4fb1-87e9-23d6f048df10",
   "metadata": {},
   "source": [
    "## Non-Stationary: Sinusoidal and Time Varying Noise"
   ]
  },
  {
   "cell_type": "code",
   "execution_count": null,
   "id": "3239ce16-7cda-4262-badd-fd2f45d6619d",
   "metadata": {},
   "outputs": [],
   "source": [
    "sinusoidal_samples, regular_time_samples, _, _ = generate_timeseries(signal=ts.signals.Sinusoidal(amplitude=1, frequency=0.25))"
   ]
  },
  {
   "cell_type": "code",
   "execution_count": null,
   "id": "31d3597f-1dfc-451e-a46d-fdabccb68439",
   "metadata": {},
   "outputs": [],
   "source": [
    "noise = [np.random.randn()*np.sqrt(i) for i, v in enumerate(regular_time_samples)]"
   ]
  },
  {
   "cell_type": "code",
   "execution_count": null,
   "id": "54d6fe38-f3fb-4afb-b3ae-b8e7b3569de1",
   "metadata": {},
   "outputs": [
    {
     "data": {
      "application/vnd.plotly.v1+json": {
       "config": {
        "plotlyServerURL": "https://plot.ly"
       },
       "data": [
        {
         "hovertemplate": "Time=%{x}<br>Value=%{y}<extra></extra>",
         "legendgroup": "",
         "line": {
          "color": "#636efa",
          "dash": "solid"
         },
         "marker": {
          "symbol": "circle"
         },
         "mode": "lines",
         "name": "",
         "orientation": "v",
         "showlegend": false,
         "type": "scatter",
         "x": [
          0,
          0.20202020202020202,
          0.40404040404040403,
          0.6060606060606061,
          0.8080808080808081,
          1.0101010101010102,
          1.2121212121212122,
          1.4141414141414141,
          1.6161616161616161,
          1.8181818181818181,
          2.0202020202020203,
          2.2222222222222223,
          2.4242424242424243,
          2.6262626262626263,
          2.8282828282828283,
          3.0303030303030303,
          3.2323232323232323,
          3.4343434343434343,
          3.6363636363636362,
          3.8383838383838382,
          4.040404040404041,
          4.242424242424242,
          4.444444444444445,
          4.646464646464646,
          4.848484848484849,
          5.05050505050505,
          5.252525252525253,
          5.454545454545454,
          5.656565656565657,
          5.858585858585858,
          6.0606060606060606,
          6.262626262626262,
          6.4646464646464645,
          6.666666666666667,
          6.8686868686868685,
          7.070707070707071,
          7.2727272727272725,
          7.474747474747475,
          7.6767676767676765,
          7.878787878787879,
          8.080808080808081,
          8.282828282828282,
          8.484848484848484,
          8.686868686868687,
          8.88888888888889,
          9.09090909090909,
          9.292929292929292,
          9.494949494949495,
          9.696969696969697,
          9.8989898989899,
          10.1010101010101,
          10.303030303030303,
          10.505050505050505,
          10.707070707070708,
          10.909090909090908,
          11.11111111111111,
          11.313131313131313,
          11.515151515151516,
          11.717171717171716,
          11.919191919191919,
          12.121212121212121,
          12.323232323232324,
          12.525252525252524,
          12.727272727272727,
          12.929292929292929,
          13.131313131313131,
          13.333333333333334,
          13.535353535353535,
          13.737373737373737,
          13.93939393939394,
          14.141414141414142,
          14.343434343434343,
          14.545454545454545,
          14.747474747474747,
          14.94949494949495,
          15.15151515151515,
          15.353535353535353,
          15.555555555555555,
          15.757575757575758,
          15.959595959595958,
          16.161616161616163,
          16.363636363636363,
          16.565656565656564,
          16.767676767676768,
          16.96969696969697,
          17.171717171717173,
          17.373737373737374,
          17.575757575757574,
          17.77777777777778,
          17.97979797979798,
          18.18181818181818,
          18.383838383838384,
          18.585858585858585,
          18.78787878787879,
          18.98989898989899,
          19.19191919191919,
          19.393939393939394,
          19.595959595959595,
          19.7979797979798,
          20
         ],
         "xaxis": "x",
         "y": [
          0,
          1.3092085590463247,
          0.6157038194949817,
          0.11049789893803774,
          2.22301585335969,
          1.3285915907608097,
          1.5148341205878422,
          -0.6504832469008938,
          3.9948565431595364,
          -7.144850386339989,
          -4.577282899599175,
          0.4381887839684794,
          -4.304185223997336,
          1.8091247836080493,
          1.747201136179877,
          -1.5335109668739886,
          -6.756983350388596,
          7.717042716561379,
          -2.088725548307564,
          -0.8097071506480538,
          2.4768649347749907,
          -1.840814596467809,
          1.207654324710571,
          -0.5405813672091185,
          11.591945557391222,
          -4.625329913148204,
          1.5662036308529326,
          4.075127261427058,
          2.089634484357837,
          -5.644669284797502,
          2.084541461366158,
          -6.992664367461177,
          -0.014743450057598917,
          -2.7240634052637103,
          -6.758069291871173,
          1.467782537091824,
          -2.069079594584182,
          1.1816718877910084,
          10.621529655251493,
          -1.6410880637119336,
          -0.8024111196939467,
          0.9069944423594347,
          4.544585384600522,
          3.063418112413408,
          -1.2951832019421632,
          -8.057558802286222,
          8.272945652290245,
          15.683931723654664,
          3.9852711404957635,
          4.846528117557755,
          4.448892722381664,
          3.0762714692505226,
          -6.1996755646829875,
          -11.613867834411579,
          -6.9854628871142275,
          -5.318847251240451,
          -1.4020245459127914,
          7.178151386677453,
          -20.518765581330747,
          3.797254991547147,
          -1.2632614652665488,
          1.5452482685897033,
          4.552011337724213,
          1.316960579795703,
          1.4534683790462029,
          8.880119737849435,
          0.366677164175315,
          0.8535727204773076,
          -2.596048849009698,
          3.1144447217702043,
          -6.403612790259695,
          4.240440361579652,
          8.354415580339225,
          -14.543901025335407,
          2.961558954807565,
          -3.066023306549453,
          -0.1896019995052204,
          3.629517842769733,
          -6.991272700035042,
          -5.5883132530174775,
          -0.35141204342846655,
          4.389354504774292,
          -0.28747386666264907,
          -0.09419238038828259,
          -23.535318685664727,
          -16.301763070968892,
          3.8876727635034714,
          -8.548779849304706,
          2.3868671615304002,
          4.480644338151227,
          -16.241728518904118,
          6.36344088012765,
          -3.860285524118028,
          2.135900920728937,
          4.188501874425016,
          13.189113468606799,
          0.3791669612695562,
          9.660643077478188,
          6.918254883767702,
          16.205941203610596
         ],
         "yaxis": "y"
        }
       ],
       "layout": {
        "autosize": false,
        "height": 500,
        "legend": {
         "tracegroupgap": 0
        },
        "margin": {
         "t": 60
        },
        "template": {
         "data": {
          "bar": [
           {
            "error_x": {
             "color": "#2a3f5f"
            },
            "error_y": {
             "color": "#2a3f5f"
            },
            "marker": {
             "line": {
              "color": "white",
              "width": 0.5
             },
             "pattern": {
              "fillmode": "overlay",
              "size": 10,
              "solidity": 0.2
             }
            },
            "type": "bar"
           }
          ],
          "barpolar": [
           {
            "marker": {
             "line": {
              "color": "white",
              "width": 0.5
             },
             "pattern": {
              "fillmode": "overlay",
              "size": 10,
              "solidity": 0.2
             }
            },
            "type": "barpolar"
           }
          ],
          "carpet": [
           {
            "aaxis": {
             "endlinecolor": "#2a3f5f",
             "gridcolor": "#C8D4E3",
             "linecolor": "#C8D4E3",
             "minorgridcolor": "#C8D4E3",
             "startlinecolor": "#2a3f5f"
            },
            "baxis": {
             "endlinecolor": "#2a3f5f",
             "gridcolor": "#C8D4E3",
             "linecolor": "#C8D4E3",
             "minorgridcolor": "#C8D4E3",
             "startlinecolor": "#2a3f5f"
            },
            "type": "carpet"
           }
          ],
          "choropleth": [
           {
            "colorbar": {
             "outlinewidth": 0,
             "ticks": ""
            },
            "type": "choropleth"
           }
          ],
          "contour": [
           {
            "colorbar": {
             "outlinewidth": 0,
             "ticks": ""
            },
            "colorscale": [
             [
              0,
              "#0d0887"
             ],
             [
              0.1111111111111111,
              "#46039f"
             ],
             [
              0.2222222222222222,
              "#7201a8"
             ],
             [
              0.3333333333333333,
              "#9c179e"
             ],
             [
              0.4444444444444444,
              "#bd3786"
             ],
             [
              0.5555555555555556,
              "#d8576b"
             ],
             [
              0.6666666666666666,
              "#ed7953"
             ],
             [
              0.7777777777777778,
              "#fb9f3a"
             ],
             [
              0.8888888888888888,
              "#fdca26"
             ],
             [
              1,
              "#f0f921"
             ]
            ],
            "type": "contour"
           }
          ],
          "contourcarpet": [
           {
            "colorbar": {
             "outlinewidth": 0,
             "ticks": ""
            },
            "type": "contourcarpet"
           }
          ],
          "heatmap": [
           {
            "colorbar": {
             "outlinewidth": 0,
             "ticks": ""
            },
            "colorscale": [
             [
              0,
              "#0d0887"
             ],
             [
              0.1111111111111111,
              "#46039f"
             ],
             [
              0.2222222222222222,
              "#7201a8"
             ],
             [
              0.3333333333333333,
              "#9c179e"
             ],
             [
              0.4444444444444444,
              "#bd3786"
             ],
             [
              0.5555555555555556,
              "#d8576b"
             ],
             [
              0.6666666666666666,
              "#ed7953"
             ],
             [
              0.7777777777777778,
              "#fb9f3a"
             ],
             [
              0.8888888888888888,
              "#fdca26"
             ],
             [
              1,
              "#f0f921"
             ]
            ],
            "type": "heatmap"
           }
          ],
          "heatmapgl": [
           {
            "colorbar": {
             "outlinewidth": 0,
             "ticks": ""
            },
            "colorscale": [
             [
              0,
              "#0d0887"
             ],
             [
              0.1111111111111111,
              "#46039f"
             ],
             [
              0.2222222222222222,
              "#7201a8"
             ],
             [
              0.3333333333333333,
              "#9c179e"
             ],
             [
              0.4444444444444444,
              "#bd3786"
             ],
             [
              0.5555555555555556,
              "#d8576b"
             ],
             [
              0.6666666666666666,
              "#ed7953"
             ],
             [
              0.7777777777777778,
              "#fb9f3a"
             ],
             [
              0.8888888888888888,
              "#fdca26"
             ],
             [
              1,
              "#f0f921"
             ]
            ],
            "type": "heatmapgl"
           }
          ],
          "histogram": [
           {
            "marker": {
             "pattern": {
              "fillmode": "overlay",
              "size": 10,
              "solidity": 0.2
             }
            },
            "type": "histogram"
           }
          ],
          "histogram2d": [
           {
            "colorbar": {
             "outlinewidth": 0,
             "ticks": ""
            },
            "colorscale": [
             [
              0,
              "#0d0887"
             ],
             [
              0.1111111111111111,
              "#46039f"
             ],
             [
              0.2222222222222222,
              "#7201a8"
             ],
             [
              0.3333333333333333,
              "#9c179e"
             ],
             [
              0.4444444444444444,
              "#bd3786"
             ],
             [
              0.5555555555555556,
              "#d8576b"
             ],
             [
              0.6666666666666666,
              "#ed7953"
             ],
             [
              0.7777777777777778,
              "#fb9f3a"
             ],
             [
              0.8888888888888888,
              "#fdca26"
             ],
             [
              1,
              "#f0f921"
             ]
            ],
            "type": "histogram2d"
           }
          ],
          "histogram2dcontour": [
           {
            "colorbar": {
             "outlinewidth": 0,
             "ticks": ""
            },
            "colorscale": [
             [
              0,
              "#0d0887"
             ],
             [
              0.1111111111111111,
              "#46039f"
             ],
             [
              0.2222222222222222,
              "#7201a8"
             ],
             [
              0.3333333333333333,
              "#9c179e"
             ],
             [
              0.4444444444444444,
              "#bd3786"
             ],
             [
              0.5555555555555556,
              "#d8576b"
             ],
             [
              0.6666666666666666,
              "#ed7953"
             ],
             [
              0.7777777777777778,
              "#fb9f3a"
             ],
             [
              0.8888888888888888,
              "#fdca26"
             ],
             [
              1,
              "#f0f921"
             ]
            ],
            "type": "histogram2dcontour"
           }
          ],
          "mesh3d": [
           {
            "colorbar": {
             "outlinewidth": 0,
             "ticks": ""
            },
            "type": "mesh3d"
           }
          ],
          "parcoords": [
           {
            "line": {
             "colorbar": {
              "outlinewidth": 0,
              "ticks": ""
             }
            },
            "type": "parcoords"
           }
          ],
          "pie": [
           {
            "automargin": true,
            "type": "pie"
           }
          ],
          "scatter": [
           {
            "fillpattern": {
             "fillmode": "overlay",
             "size": 10,
             "solidity": 0.2
            },
            "type": "scatter"
           }
          ],
          "scatter3d": [
           {
            "line": {
             "colorbar": {
              "outlinewidth": 0,
              "ticks": ""
             }
            },
            "marker": {
             "colorbar": {
              "outlinewidth": 0,
              "ticks": ""
             }
            },
            "type": "scatter3d"
           }
          ],
          "scattercarpet": [
           {
            "marker": {
             "colorbar": {
              "outlinewidth": 0,
              "ticks": ""
             }
            },
            "type": "scattercarpet"
           }
          ],
          "scattergeo": [
           {
            "marker": {
             "colorbar": {
              "outlinewidth": 0,
              "ticks": ""
             }
            },
            "type": "scattergeo"
           }
          ],
          "scattergl": [
           {
            "marker": {
             "colorbar": {
              "outlinewidth": 0,
              "ticks": ""
             }
            },
            "type": "scattergl"
           }
          ],
          "scattermapbox": [
           {
            "marker": {
             "colorbar": {
              "outlinewidth": 0,
              "ticks": ""
             }
            },
            "type": "scattermapbox"
           }
          ],
          "scatterpolar": [
           {
            "marker": {
             "colorbar": {
              "outlinewidth": 0,
              "ticks": ""
             }
            },
            "type": "scatterpolar"
           }
          ],
          "scatterpolargl": [
           {
            "marker": {
             "colorbar": {
              "outlinewidth": 0,
              "ticks": ""
             }
            },
            "type": "scatterpolargl"
           }
          ],
          "scatterternary": [
           {
            "marker": {
             "colorbar": {
              "outlinewidth": 0,
              "ticks": ""
             }
            },
            "type": "scatterternary"
           }
          ],
          "surface": [
           {
            "colorbar": {
             "outlinewidth": 0,
             "ticks": ""
            },
            "colorscale": [
             [
              0,
              "#0d0887"
             ],
             [
              0.1111111111111111,
              "#46039f"
             ],
             [
              0.2222222222222222,
              "#7201a8"
             ],
             [
              0.3333333333333333,
              "#9c179e"
             ],
             [
              0.4444444444444444,
              "#bd3786"
             ],
             [
              0.5555555555555556,
              "#d8576b"
             ],
             [
              0.6666666666666666,
              "#ed7953"
             ],
             [
              0.7777777777777778,
              "#fb9f3a"
             ],
             [
              0.8888888888888888,
              "#fdca26"
             ],
             [
              1,
              "#f0f921"
             ]
            ],
            "type": "surface"
           }
          ],
          "table": [
           {
            "cells": {
             "fill": {
              "color": "#EBF0F8"
             },
             "line": {
              "color": "white"
             }
            },
            "header": {
             "fill": {
              "color": "#C8D4E3"
             },
             "line": {
              "color": "white"
             }
            },
            "type": "table"
           }
          ]
         },
         "layout": {
          "annotationdefaults": {
           "arrowcolor": "#2a3f5f",
           "arrowhead": 0,
           "arrowwidth": 1
          },
          "autotypenumbers": "strict",
          "coloraxis": {
           "colorbar": {
            "outlinewidth": 0,
            "ticks": ""
           }
          },
          "colorscale": {
           "diverging": [
            [
             0,
             "#8e0152"
            ],
            [
             0.1,
             "#c51b7d"
            ],
            [
             0.2,
             "#de77ae"
            ],
            [
             0.3,
             "#f1b6da"
            ],
            [
             0.4,
             "#fde0ef"
            ],
            [
             0.5,
             "#f7f7f7"
            ],
            [
             0.6,
             "#e6f5d0"
            ],
            [
             0.7,
             "#b8e186"
            ],
            [
             0.8,
             "#7fbc41"
            ],
            [
             0.9,
             "#4d9221"
            ],
            [
             1,
             "#276419"
            ]
           ],
           "sequential": [
            [
             0,
             "#0d0887"
            ],
            [
             0.1111111111111111,
             "#46039f"
            ],
            [
             0.2222222222222222,
             "#7201a8"
            ],
            [
             0.3333333333333333,
             "#9c179e"
            ],
            [
             0.4444444444444444,
             "#bd3786"
            ],
            [
             0.5555555555555556,
             "#d8576b"
            ],
            [
             0.6666666666666666,
             "#ed7953"
            ],
            [
             0.7777777777777778,
             "#fb9f3a"
            ],
            [
             0.8888888888888888,
             "#fdca26"
            ],
            [
             1,
             "#f0f921"
            ]
           ],
           "sequentialminus": [
            [
             0,
             "#0d0887"
            ],
            [
             0.1111111111111111,
             "#46039f"
            ],
            [
             0.2222222222222222,
             "#7201a8"
            ],
            [
             0.3333333333333333,
             "#9c179e"
            ],
            [
             0.4444444444444444,
             "#bd3786"
            ],
            [
             0.5555555555555556,
             "#d8576b"
            ],
            [
             0.6666666666666666,
             "#ed7953"
            ],
            [
             0.7777777777777778,
             "#fb9f3a"
            ],
            [
             0.8888888888888888,
             "#fdca26"
            ],
            [
             1,
             "#f0f921"
            ]
           ]
          },
          "colorway": [
           "#636efa",
           "#EF553B",
           "#00cc96",
           "#ab63fa",
           "#FFA15A",
           "#19d3f3",
           "#FF6692",
           "#B6E880",
           "#FF97FF",
           "#FECB52"
          ],
          "font": {
           "color": "#2a3f5f"
          },
          "geo": {
           "bgcolor": "white",
           "lakecolor": "white",
           "landcolor": "white",
           "showlakes": true,
           "showland": true,
           "subunitcolor": "#C8D4E3"
          },
          "hoverlabel": {
           "align": "left"
          },
          "hovermode": "closest",
          "mapbox": {
           "style": "light"
          },
          "paper_bgcolor": "white",
          "plot_bgcolor": "white",
          "polar": {
           "angularaxis": {
            "gridcolor": "#EBF0F8",
            "linecolor": "#EBF0F8",
            "ticks": ""
           },
           "bgcolor": "white",
           "radialaxis": {
            "gridcolor": "#EBF0F8",
            "linecolor": "#EBF0F8",
            "ticks": ""
           }
          },
          "scene": {
           "xaxis": {
            "backgroundcolor": "white",
            "gridcolor": "#DFE8F3",
            "gridwidth": 2,
            "linecolor": "#EBF0F8",
            "showbackground": true,
            "ticks": "",
            "zerolinecolor": "#EBF0F8"
           },
           "yaxis": {
            "backgroundcolor": "white",
            "gridcolor": "#DFE8F3",
            "gridwidth": 2,
            "linecolor": "#EBF0F8",
            "showbackground": true,
            "ticks": "",
            "zerolinecolor": "#EBF0F8"
           },
           "zaxis": {
            "backgroundcolor": "white",
            "gridcolor": "#DFE8F3",
            "gridwidth": 2,
            "linecolor": "#EBF0F8",
            "showbackground": true,
            "ticks": "",
            "zerolinecolor": "#EBF0F8"
           }
          },
          "shapedefaults": {
           "line": {
            "color": "#2a3f5f"
           }
          },
          "ternary": {
           "aaxis": {
            "gridcolor": "#DFE8F3",
            "linecolor": "#A2B1C6",
            "ticks": ""
           },
           "baxis": {
            "gridcolor": "#DFE8F3",
            "linecolor": "#A2B1C6",
            "ticks": ""
           },
           "bgcolor": "white",
           "caxis": {
            "gridcolor": "#DFE8F3",
            "linecolor": "#A2B1C6",
            "ticks": ""
           }
          },
          "title": {
           "x": 0.05
          },
          "xaxis": {
           "automargin": true,
           "gridcolor": "#EBF0F8",
           "linecolor": "#EBF0F8",
           "ticks": "",
           "title": {
            "standoff": 15
           },
           "zerolinecolor": "#EBF0F8",
           "zerolinewidth": 2
          },
          "yaxis": {
           "automargin": true,
           "gridcolor": "#EBF0F8",
           "linecolor": "#EBF0F8",
           "ticks": "",
           "title": {
            "standoff": 15
           },
           "zerolinecolor": "#EBF0F8",
           "zerolinewidth": 2
          }
         }
        },
        "title": {
         "font": {
          "size": 25
         },
         "text": "",
         "x": 0.5,
         "xanchor": "center",
         "yanchor": "top"
        },
        "width": 900,
        "xaxis": {
         "anchor": "y",
         "domain": [
          0,
          1
         ],
         "title": {
          "font": {
           "size": 12
          },
          "text": "Time"
         }
        },
        "yaxis": {
         "anchor": "x",
         "domain": [
          0,
          1
         ],
         "title": {
          "font": {
           "size": 12
          },
          "text": "Value"
         }
        }
       }
      }
     },
     "metadata": {},
     "output_type": "display_data"
    }
   ],
   "source": [
    "fig = plot_time_series(regular_time_samples, \n",
    "                 sinusoidal_samples+noise, \n",
    "                 \"\")\n",
    "fig.write_image(\"imgs/chapter_1/non_stationary_sinusoidal.png\")\n",
    "fig.show()"
   ]
  }
 ],
 "metadata": {
  "kernelspec": {
   "display_name": "modern_ts",
   "language": "python",
   "name": "python3"
  },
  "language_info": {
   "codemirror_mode": {
    "name": "ipython",
    "version": 3
   },
   "file_extension": ".py",
   "mimetype": "text/x-python",
   "name": "python",
   "nbconvert_exporter": "python",
   "pygments_lexer": "ipython3",
   "version": "3.11.0"
  },
  "vscode": {
   "interpreter": {
    "hash": "30fe1d27e07bcd39a201a380e0896b1a8ddc5b4c0f1bff527b499634c2e361cc"
   }
  }
 },
 "nbformat": 4,
 "nbformat_minor": 5
}
