{
 "cells": [
  {
   "cell_type": "code",
   "execution_count": 2,
   "id": "0e617b18-2268-4615-8d08-d2093b1deb75",
   "metadata": {},
   "outputs": [
    {
     "name": "stdout",
     "output_type": "stream",
     "text": [
      "c:\\Users\\olarinoyem\\Project\\Modern-Time-Series-Forecasting-with-Python-2E\n"
     ]
    }
   ],
   "source": [
    "#Changing the working directory to the root\n",
    "%cd ../..\n"
   ]
  },
  {
   "cell_type": "code",
   "execution_count": 3,
   "id": "1d98497a",
   "metadata": {},
   "outputs": [],
   "source": [
    "# Install TimeSynth if not installed already\n",
    "# !pip install git+https://github.com/TimeSynth/TimeSynth.git"
   ]
  },
  {
   "cell_type": "code",
   "execution_count": 4,
   "id": "bce03d17-9b58-44ba-8aed-eb016815bc85",
   "metadata": {},
   "outputs": [],
   "source": [
    "import numpy as np\n",
    "import matplotlib.pyplot as plt\n",
    "import os\n",
    "import plotly.express as px\n",
    "import plotly.io as pio\n",
    "pio.templates.default = \"plotly_white\"\n",
    "import timesynth as ts\n",
    "import pandas as pd\n",
    "np.random.seed()\n",
    "\n",
    "from src.synthetic_ts.autoregressive import AutoRegressive"
   ]
  },
  {
   "cell_type": "markdown",
   "id": "653b083b-fe4b-4ae1-b1c7-07e44e6e7529",
   "metadata": {
    "tags": []
   },
   "source": [
    "# Data Generating Process and Synthetic Time Series"
   ]
  },
  {
   "cell_type": "code",
   "execution_count": 5,
   "id": "45f0e74e-2959-4e49-ae11-f58d133bd9f5",
   "metadata": {},
   "outputs": [],
   "source": [
    "def plot_time_series(time, values, label, legends=None):\n",
    "    if legends is not None:\n",
    "        assert len(legends)==len(values)\n",
    "    if isinstance(values, list):\n",
    "        series_dict = {\"Time\": time}\n",
    "        for v, l in zip(values, legends):\n",
    "            series_dict[l] = v\n",
    "        plot_df = pd.DataFrame(series_dict)\n",
    "        plot_df = pd.melt(plot_df,id_vars=\"Time\",var_name=\"ts\", value_name=\"Value\")\n",
    "    else:\n",
    "        series_dict = {\"Time\": time, \"Value\": values, \"ts\":\"\"}\n",
    "        plot_df = pd.DataFrame(series_dict)\n",
    "    \n",
    "    if isinstance(values, list):\n",
    "        fig = px.line(plot_df, x=\"Time\", y=\"Value\", line_dash=\"ts\")\n",
    "    else:\n",
    "        fig = px.line(plot_df, x=\"Time\", y=\"Value\")\n",
    "    fig.update_layout(\n",
    "        autosize=False,\n",
    "        width=900,\n",
    "        height=500,\n",
    "        title={\n",
    "        'text': label,\n",
    "#         'y':0.9,\n",
    "        'x':0.5,\n",
    "        'xanchor': 'center',\n",
    "        'yanchor': 'top'},\n",
    "        titlefont={\n",
    "            \"size\": 25\n",
    "        },\n",
    "        yaxis=dict(\n",
    "            title_text=\"Value\",\n",
    "            titlefont=dict(size=12),\n",
    "        ),\n",
    "        xaxis=dict(\n",
    "            title_text=\"Time\",\n",
    "            titlefont=dict(size=12),\n",
    "        )\n",
    "    )\n",
    "    return fig\n",
    "    \n",
    "def generate_timeseries(signal, noise=None):\n",
    "    time_sampler = ts.TimeSampler(stop_time=20)\n",
    "    regular_time_samples = time_sampler.sample_regular_time(num_points=100)\n",
    "    timeseries = ts.TimeSeries(signal_generator=signal, noise_generator=noise)\n",
    "    samples, signals, errors = timeseries.sample(regular_time_samples)\n",
    "    return samples, regular_time_samples, signals, errors\n",
    "\n",
    "os.makedirs(\"imgs/chapter_1\", exist_ok=True)"
   ]
  },
  {
   "cell_type": "markdown",
   "id": "5d062d6c-8bdd-466a-b207-18e3fc17a040",
   "metadata": {
    "tags": []
   },
   "source": [
    "## White Noise"
   ]
  },
  {
   "cell_type": "code",
   "execution_count": 6,
   "id": "fe7a0d45-6de2-4481-8330-a7471ff5c688",
   "metadata": {},
   "outputs": [
    {
     "data": {
      "application/vnd.plotly.v1+json": {
       "config": {
        "plotlyServerURL": "https://plot.ly"
       },
       "data": [
        {
         "hovertemplate": "Time=%{x}<br>Value=%{y}<extra></extra>",
         "legendgroup": "",
         "line": {
          "color": "#636efa",
          "dash": "solid"
         },
         "marker": {
          "symbol": "circle"
         },
         "mode": "lines",
         "name": "",
         "orientation": "v",
         "showlegend": false,
         "type": "scatter",
         "x": [
          0,
          1,
          2,
          3,
          4,
          5,
          6,
          7,
          8,
          9,
          10,
          11,
          12,
          13,
          14,
          15,
          16,
          17,
          18,
          19,
          20,
          21,
          22,
          23,
          24,
          25,
          26,
          27,
          28,
          29,
          30,
          31,
          32,
          33,
          34,
          35,
          36,
          37,
          38,
          39,
          40,
          41,
          42,
          43,
          44,
          45,
          46,
          47,
          48,
          49,
          50,
          51,
          52,
          53,
          54,
          55,
          56,
          57,
          58,
          59,
          60,
          61,
          62,
          63,
          64,
          65,
          66,
          67,
          68,
          69,
          70,
          71,
          72,
          73,
          74,
          75,
          76,
          77,
          78,
          79,
          80,
          81,
          82,
          83,
          84,
          85,
          86,
          87,
          88,
          89,
          90,
          91,
          92,
          93,
          94,
          95,
          96,
          97,
          98,
          99,
          100,
          101,
          102,
          103,
          104,
          105,
          106,
          107,
          108,
          109,
          110,
          111,
          112,
          113,
          114,
          115,
          116,
          117,
          118,
          119,
          120,
          121,
          122,
          123,
          124,
          125,
          126,
          127,
          128,
          129,
          130,
          131,
          132,
          133,
          134,
          135,
          136,
          137,
          138,
          139,
          140,
          141,
          142,
          143,
          144,
          145,
          146,
          147,
          148,
          149,
          150,
          151,
          152,
          153,
          154,
          155,
          156,
          157,
          158,
          159,
          160,
          161,
          162,
          163,
          164,
          165,
          166,
          167,
          168,
          169,
          170,
          171,
          172,
          173,
          174,
          175,
          176,
          177,
          178,
          179,
          180,
          181,
          182,
          183,
          184,
          185,
          186,
          187,
          188,
          189,
          190,
          191,
          192,
          193,
          194,
          195,
          196,
          197,
          198,
          199
         ],
         "xaxis": "x",
         "y": [
          40.76759933564264,
          -4.447248042621034,
          102.14238041280616,
          88.80784913486043,
          -114.546580803391,
          6.28146525729146,
          -117.250943940692,
          -87.69202215129357,
          -172.08527975085704,
          -241.30030700612534,
          90.65132520419051,
          -29.69862325667265,
          35.51077768676759,
          158.92983570375668,
          87.571681131611,
          112.55255371126522,
          -38.14301438730059,
          39.49923127968404,
          -90.16320523518664,
          34.371601738413844,
          88.26290916622574,
          99.20535561200973,
          73.37525368815814,
          -93.83501283932385,
          4.898927373602162,
          -38.198077785308826,
          7.660900250673064,
          -27.805328463692835,
          -235.2461708742687,
          -21.194687514676467,
          -50.22124143181542,
          -13.731167756811688,
          -67.91086745930586,
          -7.387171215435886,
          -55.71054173117581,
          -122.17520499684909,
          -186.04524727674672,
          118.57832201197903,
          27.21362184471304,
          139.75421908445475,
          42.05706418645682,
          68.04795282889644,
          28.807498837415444,
          133.00446279336632,
          149.35247433230202,
          141.22989622896264,
          -36.871171920336415,
          -26.539457301118635,
          78.43828262721215,
          180.91456971210894,
          8.586705448371285,
          57.52781327828108,
          131.8326673837071,
          161.85462386771968,
          85.96578683418844,
          -1.9539388470298351,
          11.436940142113446,
          -118.09368914158804,
          -19.899592916360042,
          143.61356820317474,
          56.855054197805174,
          116.21341080835793,
          -26.898446505259237,
          112.43554341403454,
          -37.041068289335485,
          -55.28347604100921,
          35.59325013914212,
          -23.949332434504647,
          123.93890931951745,
          -18.876114605093335,
          -49.33234560766589,
          13.257622207439166,
          259.276206531928,
          -88.75964941065374,
          -174.86606947182725,
          105.96079224641169,
          106.26313500916834,
          294.24065181809755,
          85.79233953442773,
          21.433327157458923,
          82.42673371712004,
          -33.3044086059651,
          -102.98025057651965,
          -59.389134950074826,
          -74.58643462554454,
          -1.4985783790264227,
          37.76285833862005,
          84.4797650036857,
          -18.469530652568366,
          45.99479369847697,
          -118.44920286849405,
          -100.45015281134202,
          -27.40272254452774,
          -5.337546248368116,
          -144.35214029639067,
          58.748480329263074,
          -27.33851486746337,
          60.236280911983386,
          229.00803495730977,
          55.60255541668619,
          -92.89269376181956,
          -115.83706912094019,
          -42.365001920829656,
          117.95909637390083,
          43.62590835774766,
          -186.0550236182716,
          -38.83280471630274,
          58.744199474845594,
          111.58478310184938,
          -68.9197871598962,
          107.27044386016189,
          -123.97533491863872,
          -99.21389391688153,
          -167.95446338484675,
          141.1310426305249,
          -130.20670996043472,
          130.4375356585726,
          -146.6459501080282,
          -113.74568631975059,
          78.08208390763154,
          -51.691143434219946,
          34.842036328286504,
          123.50728804982897,
          -199.0779490788561,
          -93.88404817197285,
          -153.6921578198688,
          139.96801212939434,
          117.72409504136175,
          -0.8013813846175244,
          42.55604107050054,
          -122.39202240396516,
          25.484697877622796,
          70.55687270334569,
          128.38653801736703,
          -40.7810270124618,
          -52.36709836373423,
          -44.269361561526395,
          56.45253984399259,
          -6.302151872718268,
          24.541405402133478,
          120.35350015693282,
          21.521026453314697,
          70.44126019273655,
          -17.53362757629476,
          -124.44174477546636,
          -47.04387931361843,
          -72.19011927180755,
          47.99881986062884,
          109.07392890178384,
          33.49825043113201,
          69.12725772579992,
          -120.64796143847498,
          101.55661781187524,
          179.36838161905024,
          191.61345236650578,
          -82.63271654495729,
          -98.96242749746892,
          -67.62261413742121,
          -12.20173113853533,
          0.5881530984962237,
          122.10186262033554,
          -274.26577674967837,
          -4.284310520557918,
          -3.563221886571269,
          75.09029411266935,
          -66.30878396287757,
          -2.332355467984066,
          -42.21765076915157,
          -18.130746046431895,
          25.372012784525577,
          59.1704209527237,
          66.42382854246716,
          68.7741300554423,
          -128.24656473593626,
          -35.584090061952736,
          62.25242932125684,
          45.56338078998001,
          32.55790636593371,
          -119.97099459142187,
          -77.26292538904043,
          151.55307680398002,
          71.1521323098439,
          79.37994054065129,
          14.663599056242013,
          -112.25518245972175,
          68.68712424329063,
          -108.9588670877632,
          123.5643711089393,
          4.595256325604689,
          10.038402217074195,
          288.15420263488795,
          -25.10355268577595,
          13.034662292830829,
          127.63639676639214,
          38.98549082732695,
          -32.12939979614924,
          75.00893106495445,
          -220.1225009200794,
          100.8053767471962,
          -56.36934220986086
         ],
         "yaxis": "y"
        }
       ],
       "layout": {
        "autosize": false,
        "height": 500,
        "legend": {
         "tracegroupgap": 0
        },
        "margin": {
         "t": 60
        },
        "template": {
         "data": {
          "bar": [
           {
            "error_x": {
             "color": "#2a3f5f"
            },
            "error_y": {
             "color": "#2a3f5f"
            },
            "marker": {
             "line": {
              "color": "white",
              "width": 0.5
             },
             "pattern": {
              "fillmode": "overlay",
              "size": 10,
              "solidity": 0.2
             }
            },
            "type": "bar"
           }
          ],
          "barpolar": [
           {
            "marker": {
             "line": {
              "color": "white",
              "width": 0.5
             },
             "pattern": {
              "fillmode": "overlay",
              "size": 10,
              "solidity": 0.2
             }
            },
            "type": "barpolar"
           }
          ],
          "carpet": [
           {
            "aaxis": {
             "endlinecolor": "#2a3f5f",
             "gridcolor": "#C8D4E3",
             "linecolor": "#C8D4E3",
             "minorgridcolor": "#C8D4E3",
             "startlinecolor": "#2a3f5f"
            },
            "baxis": {
             "endlinecolor": "#2a3f5f",
             "gridcolor": "#C8D4E3",
             "linecolor": "#C8D4E3",
             "minorgridcolor": "#C8D4E3",
             "startlinecolor": "#2a3f5f"
            },
            "type": "carpet"
           }
          ],
          "choropleth": [
           {
            "colorbar": {
             "outlinewidth": 0,
             "ticks": ""
            },
            "type": "choropleth"
           }
          ],
          "contour": [
           {
            "colorbar": {
             "outlinewidth": 0,
             "ticks": ""
            },
            "colorscale": [
             [
              0,
              "#0d0887"
             ],
             [
              0.1111111111111111,
              "#46039f"
             ],
             [
              0.2222222222222222,
              "#7201a8"
             ],
             [
              0.3333333333333333,
              "#9c179e"
             ],
             [
              0.4444444444444444,
              "#bd3786"
             ],
             [
              0.5555555555555556,
              "#d8576b"
             ],
             [
              0.6666666666666666,
              "#ed7953"
             ],
             [
              0.7777777777777778,
              "#fb9f3a"
             ],
             [
              0.8888888888888888,
              "#fdca26"
             ],
             [
              1,
              "#f0f921"
             ]
            ],
            "type": "contour"
           }
          ],
          "contourcarpet": [
           {
            "colorbar": {
             "outlinewidth": 0,
             "ticks": ""
            },
            "type": "contourcarpet"
           }
          ],
          "heatmap": [
           {
            "colorbar": {
             "outlinewidth": 0,
             "ticks": ""
            },
            "colorscale": [
             [
              0,
              "#0d0887"
             ],
             [
              0.1111111111111111,
              "#46039f"
             ],
             [
              0.2222222222222222,
              "#7201a8"
             ],
             [
              0.3333333333333333,
              "#9c179e"
             ],
             [
              0.4444444444444444,
              "#bd3786"
             ],
             [
              0.5555555555555556,
              "#d8576b"
             ],
             [
              0.6666666666666666,
              "#ed7953"
             ],
             [
              0.7777777777777778,
              "#fb9f3a"
             ],
             [
              0.8888888888888888,
              "#fdca26"
             ],
             [
              1,
              "#f0f921"
             ]
            ],
            "type": "heatmap"
           }
          ],
          "heatmapgl": [
           {
            "colorbar": {
             "outlinewidth": 0,
             "ticks": ""
            },
            "colorscale": [
             [
              0,
              "#0d0887"
             ],
             [
              0.1111111111111111,
              "#46039f"
             ],
             [
              0.2222222222222222,
              "#7201a8"
             ],
             [
              0.3333333333333333,
              "#9c179e"
             ],
             [
              0.4444444444444444,
              "#bd3786"
             ],
             [
              0.5555555555555556,
              "#d8576b"
             ],
             [
              0.6666666666666666,
              "#ed7953"
             ],
             [
              0.7777777777777778,
              "#fb9f3a"
             ],
             [
              0.8888888888888888,
              "#fdca26"
             ],
             [
              1,
              "#f0f921"
             ]
            ],
            "type": "heatmapgl"
           }
          ],
          "histogram": [
           {
            "marker": {
             "pattern": {
              "fillmode": "overlay",
              "size": 10,
              "solidity": 0.2
             }
            },
            "type": "histogram"
           }
          ],
          "histogram2d": [
           {
            "colorbar": {
             "outlinewidth": 0,
             "ticks": ""
            },
            "colorscale": [
             [
              0,
              "#0d0887"
             ],
             [
              0.1111111111111111,
              "#46039f"
             ],
             [
              0.2222222222222222,
              "#7201a8"
             ],
             [
              0.3333333333333333,
              "#9c179e"
             ],
             [
              0.4444444444444444,
              "#bd3786"
             ],
             [
              0.5555555555555556,
              "#d8576b"
             ],
             [
              0.6666666666666666,
              "#ed7953"
             ],
             [
              0.7777777777777778,
              "#fb9f3a"
             ],
             [
              0.8888888888888888,
              "#fdca26"
             ],
             [
              1,
              "#f0f921"
             ]
            ],
            "type": "histogram2d"
           }
          ],
          "histogram2dcontour": [
           {
            "colorbar": {
             "outlinewidth": 0,
             "ticks": ""
            },
            "colorscale": [
             [
              0,
              "#0d0887"
             ],
             [
              0.1111111111111111,
              "#46039f"
             ],
             [
              0.2222222222222222,
              "#7201a8"
             ],
             [
              0.3333333333333333,
              "#9c179e"
             ],
             [
              0.4444444444444444,
              "#bd3786"
             ],
             [
              0.5555555555555556,
              "#d8576b"
             ],
             [
              0.6666666666666666,
              "#ed7953"
             ],
             [
              0.7777777777777778,
              "#fb9f3a"
             ],
             [
              0.8888888888888888,
              "#fdca26"
             ],
             [
              1,
              "#f0f921"
             ]
            ],
            "type": "histogram2dcontour"
           }
          ],
          "mesh3d": [
           {
            "colorbar": {
             "outlinewidth": 0,
             "ticks": ""
            },
            "type": "mesh3d"
           }
          ],
          "parcoords": [
           {
            "line": {
             "colorbar": {
              "outlinewidth": 0,
              "ticks": ""
             }
            },
            "type": "parcoords"
           }
          ],
          "pie": [
           {
            "automargin": true,
            "type": "pie"
           }
          ],
          "scatter": [
           {
            "fillpattern": {
             "fillmode": "overlay",
             "size": 10,
             "solidity": 0.2
            },
            "type": "scatter"
           }
          ],
          "scatter3d": [
           {
            "line": {
             "colorbar": {
              "outlinewidth": 0,
              "ticks": ""
             }
            },
            "marker": {
             "colorbar": {
              "outlinewidth": 0,
              "ticks": ""
             }
            },
            "type": "scatter3d"
           }
          ],
          "scattercarpet": [
           {
            "marker": {
             "colorbar": {
              "outlinewidth": 0,
              "ticks": ""
             }
            },
            "type": "scattercarpet"
           }
          ],
          "scattergeo": [
           {
            "marker": {
             "colorbar": {
              "outlinewidth": 0,
              "ticks": ""
             }
            },
            "type": "scattergeo"
           }
          ],
          "scattergl": [
           {
            "marker": {
             "colorbar": {
              "outlinewidth": 0,
              "ticks": ""
             }
            },
            "type": "scattergl"
           }
          ],
          "scattermapbox": [
           {
            "marker": {
             "colorbar": {
              "outlinewidth": 0,
              "ticks": ""
             }
            },
            "type": "scattermapbox"
           }
          ],
          "scatterpolar": [
           {
            "marker": {
             "colorbar": {
              "outlinewidth": 0,
              "ticks": ""
             }
            },
            "type": "scatterpolar"
           }
          ],
          "scatterpolargl": [
           {
            "marker": {
             "colorbar": {
              "outlinewidth": 0,
              "ticks": ""
             }
            },
            "type": "scatterpolargl"
           }
          ],
          "scatterternary": [
           {
            "marker": {
             "colorbar": {
              "outlinewidth": 0,
              "ticks": ""
             }
            },
            "type": "scatterternary"
           }
          ],
          "surface": [
           {
            "colorbar": {
             "outlinewidth": 0,
             "ticks": ""
            },
            "colorscale": [
             [
              0,
              "#0d0887"
             ],
             [
              0.1111111111111111,
              "#46039f"
             ],
             [
              0.2222222222222222,
              "#7201a8"
             ],
             [
              0.3333333333333333,
              "#9c179e"
             ],
             [
              0.4444444444444444,
              "#bd3786"
             ],
             [
              0.5555555555555556,
              "#d8576b"
             ],
             [
              0.6666666666666666,
              "#ed7953"
             ],
             [
              0.7777777777777778,
              "#fb9f3a"
             ],
             [
              0.8888888888888888,
              "#fdca26"
             ],
             [
              1,
              "#f0f921"
             ]
            ],
            "type": "surface"
           }
          ],
          "table": [
           {
            "cells": {
             "fill": {
              "color": "#EBF0F8"
             },
             "line": {
              "color": "white"
             }
            },
            "header": {
             "fill": {
              "color": "#C8D4E3"
             },
             "line": {
              "color": "white"
             }
            },
            "type": "table"
           }
          ]
         },
         "layout": {
          "annotationdefaults": {
           "arrowcolor": "#2a3f5f",
           "arrowhead": 0,
           "arrowwidth": 1
          },
          "autotypenumbers": "strict",
          "coloraxis": {
           "colorbar": {
            "outlinewidth": 0,
            "ticks": ""
           }
          },
          "colorscale": {
           "diverging": [
            [
             0,
             "#8e0152"
            ],
            [
             0.1,
             "#c51b7d"
            ],
            [
             0.2,
             "#de77ae"
            ],
            [
             0.3,
             "#f1b6da"
            ],
            [
             0.4,
             "#fde0ef"
            ],
            [
             0.5,
             "#f7f7f7"
            ],
            [
             0.6,
             "#e6f5d0"
            ],
            [
             0.7,
             "#b8e186"
            ],
            [
             0.8,
             "#7fbc41"
            ],
            [
             0.9,
             "#4d9221"
            ],
            [
             1,
             "#276419"
            ]
           ],
           "sequential": [
            [
             0,
             "#0d0887"
            ],
            [
             0.1111111111111111,
             "#46039f"
            ],
            [
             0.2222222222222222,
             "#7201a8"
            ],
            [
             0.3333333333333333,
             "#9c179e"
            ],
            [
             0.4444444444444444,
             "#bd3786"
            ],
            [
             0.5555555555555556,
             "#d8576b"
            ],
            [
             0.6666666666666666,
             "#ed7953"
            ],
            [
             0.7777777777777778,
             "#fb9f3a"
            ],
            [
             0.8888888888888888,
             "#fdca26"
            ],
            [
             1,
             "#f0f921"
            ]
           ],
           "sequentialminus": [
            [
             0,
             "#0d0887"
            ],
            [
             0.1111111111111111,
             "#46039f"
            ],
            [
             0.2222222222222222,
             "#7201a8"
            ],
            [
             0.3333333333333333,
             "#9c179e"
            ],
            [
             0.4444444444444444,
             "#bd3786"
            ],
            [
             0.5555555555555556,
             "#d8576b"
            ],
            [
             0.6666666666666666,
             "#ed7953"
            ],
            [
             0.7777777777777778,
             "#fb9f3a"
            ],
            [
             0.8888888888888888,
             "#fdca26"
            ],
            [
             1,
             "#f0f921"
            ]
           ]
          },
          "colorway": [
           "#636efa",
           "#EF553B",
           "#00cc96",
           "#ab63fa",
           "#FFA15A",
           "#19d3f3",
           "#FF6692",
           "#B6E880",
           "#FF97FF",
           "#FECB52"
          ],
          "font": {
           "color": "#2a3f5f"
          },
          "geo": {
           "bgcolor": "white",
           "lakecolor": "white",
           "landcolor": "white",
           "showlakes": true,
           "showland": true,
           "subunitcolor": "#C8D4E3"
          },
          "hoverlabel": {
           "align": "left"
          },
          "hovermode": "closest",
          "mapbox": {
           "style": "light"
          },
          "paper_bgcolor": "white",
          "plot_bgcolor": "white",
          "polar": {
           "angularaxis": {
            "gridcolor": "#EBF0F8",
            "linecolor": "#EBF0F8",
            "ticks": ""
           },
           "bgcolor": "white",
           "radialaxis": {
            "gridcolor": "#EBF0F8",
            "linecolor": "#EBF0F8",
            "ticks": ""
           }
          },
          "scene": {
           "xaxis": {
            "backgroundcolor": "white",
            "gridcolor": "#DFE8F3",
            "gridwidth": 2,
            "linecolor": "#EBF0F8",
            "showbackground": true,
            "ticks": "",
            "zerolinecolor": "#EBF0F8"
           },
           "yaxis": {
            "backgroundcolor": "white",
            "gridcolor": "#DFE8F3",
            "gridwidth": 2,
            "linecolor": "#EBF0F8",
            "showbackground": true,
            "ticks": "",
            "zerolinecolor": "#EBF0F8"
           },
           "zaxis": {
            "backgroundcolor": "white",
            "gridcolor": "#DFE8F3",
            "gridwidth": 2,
            "linecolor": "#EBF0F8",
            "showbackground": true,
            "ticks": "",
            "zerolinecolor": "#EBF0F8"
           }
          },
          "shapedefaults": {
           "line": {
            "color": "#2a3f5f"
           }
          },
          "ternary": {
           "aaxis": {
            "gridcolor": "#DFE8F3",
            "linecolor": "#A2B1C6",
            "ticks": ""
           },
           "baxis": {
            "gridcolor": "#DFE8F3",
            "linecolor": "#A2B1C6",
            "ticks": ""
           },
           "bgcolor": "white",
           "caxis": {
            "gridcolor": "#DFE8F3",
            "linecolor": "#A2B1C6",
            "ticks": ""
           }
          },
          "title": {
           "x": 0.05
          },
          "xaxis": {
           "automargin": true,
           "gridcolor": "#EBF0F8",
           "linecolor": "#EBF0F8",
           "ticks": "",
           "title": {
            "standoff": 15
           },
           "zerolinecolor": "#EBF0F8",
           "zerolinewidth": 2
          },
          "yaxis": {
           "automargin": true,
           "gridcolor": "#EBF0F8",
           "linecolor": "#EBF0F8",
           "ticks": "",
           "title": {
            "standoff": 15
           },
           "zerolinecolor": "#EBF0F8",
           "zerolinewidth": 2
          }
         }
        },
        "title": {
         "font": {
          "size": 25
         },
         "text": "",
         "x": 0.5,
         "xanchor": "center",
         "yanchor": "top"
        },
        "width": 900,
        "xaxis": {
         "anchor": "y",
         "domain": [
          0,
          1
         ],
         "title": {
          "font": {
           "size": 12
          },
          "text": "Time"
         }
        },
        "yaxis": {
         "anchor": "x",
         "domain": [
          0,
          1
         ],
         "title": {
          "font": {
           "size": 12
          },
          "text": "Value"
         }
        }
       }
      }
     },
     "metadata": {},
     "output_type": "display_data"
    }
   ],
   "source": [
    "# Generate the time axis with sequential numbers upto 200\n",
    "time = np.arange(200)\n",
    "# Sample 200 hundred random values\n",
    "values = np.random.randn(200)*100\n",
    "fig = plot_time_series(time, values, \"\")\n",
    "fig.write_image(\"../../imgs/chapter_1/white_noise_process.png\")\n",
    "fig.show()"
   ]
  },
  {
   "cell_type": "markdown",
   "id": "c607b035-6fb3-4eea-b816-0f2cebfc9b7c",
   "metadata": {
    "tags": []
   },
   "source": [
    "## Red Noise"
   ]
  },
  {
   "cell_type": "code",
   "execution_count": 7,
   "id": "5a51fd6c-0ef9-4f73-8d7b-41420028527c",
   "metadata": {},
   "outputs": [
    {
     "data": {
      "application/vnd.plotly.v1+json": {
       "config": {
        "plotlyServerURL": "https://plot.ly"
       },
       "data": [
        {
         "hovertemplate": "Time=%{x}<br>Value=%{y}<extra></extra>",
         "legendgroup": "",
         "line": {
          "color": "#636efa",
          "dash": "solid"
         },
         "marker": {
          "symbol": "circle"
         },
         "mode": "lines",
         "name": "",
         "orientation": "v",
         "showlegend": false,
         "type": "scatter",
         "x": [
          0,
          1,
          2,
          3,
          4,
          5,
          6,
          7,
          8,
          9,
          10,
          11,
          12,
          13,
          14,
          15,
          16,
          17,
          18,
          19,
          20,
          21,
          22,
          23,
          24,
          25,
          26,
          27,
          28,
          29,
          30,
          31,
          32,
          33,
          34,
          35,
          36,
          37,
          38,
          39,
          40,
          41,
          42,
          43,
          44,
          45,
          46,
          47,
          48,
          49,
          50,
          51,
          52,
          53,
          54,
          55,
          56,
          57,
          58,
          59,
          60,
          61,
          62,
          63,
          64,
          65,
          66,
          67,
          68,
          69,
          70,
          71,
          72,
          73,
          74,
          75,
          76,
          77,
          78,
          79,
          80,
          81,
          82,
          83,
          84,
          85,
          86,
          87,
          88,
          89,
          90,
          91,
          92,
          93,
          94,
          95,
          96,
          97,
          98,
          99,
          100,
          101,
          102,
          103,
          104,
          105,
          106,
          107,
          108,
          109,
          110,
          111,
          112,
          113,
          114,
          115,
          116,
          117,
          118,
          119,
          120,
          121,
          122,
          123,
          124,
          125,
          126,
          127,
          128,
          129,
          130,
          131,
          132,
          133,
          134,
          135,
          136,
          137,
          138,
          139,
          140,
          141,
          142,
          143,
          144,
          145,
          146,
          147,
          148,
          149,
          150,
          151,
          152,
          153,
          154,
          155,
          156,
          157,
          158,
          159,
          160,
          161,
          162,
          163,
          164,
          165,
          166,
          167,
          168,
          169,
          170,
          171,
          172,
          173,
          174,
          175,
          176,
          177,
          178,
          179,
          180,
          181,
          182,
          183,
          184,
          185,
          186,
          187,
          188,
          189,
          190,
          191,
          192,
          193,
          194,
          195,
          196,
          197,
          198,
          199
         ],
         "xaxis": "x",
         "y": [
          -97.95589034497996,
          -104.49808129110428,
          -7.838713887570755,
          -40.47917263751657,
          -130.1017586982788,
          -3.7318497015482635,
          23.386343915838047,
          -5.634826024481521,
          90.21436459039091,
          74.0466295385481,
          269.0953130653757,
          101.8873570766035,
          29.66187759477078,
          -61.101726105495835,
          74.62362088046572,
          6.4089955520859405,
          74.92639235356964,
          124.00356393718091,
          -7.41536808372976,
          -89.76334220594534,
          -122.5984524120597,
          -90.35098726027924,
          145.12287952666128,
          -141.21056631724448,
          -236.66428582607207,
          -174.43049265670425,
          -41.73765435341428,
          -22.92146952367475,
          -40.15860980757725,
          118.36419080032842,
          121.63955651691194,
          11.677335831205156,
          196.54756234746927,
          154.71767963621318,
          -115.64498351971224,
          -60.859738701097925,
          -54.81761477704971,
          141.3701436170648,
          -195.31967251770658,
          -93.46404541725168,
          -4.987377852216362,
          21.26833741742395,
          -15.624470898521064,
          -151.5486725594105,
          -61.666181528683516,
          -125.39714390690112,
          -164.8313089942139,
          -204.64871878749773,
          -2.0233002532808797,
          -40.643265526492655,
          -56.83859667561556,
          -27.574089516618074,
          10.516546653572634,
          115.17329629253182,
          -67.83586237248439,
          -122.70056270960339,
          -72.38474512671391,
          -12.346884847814607,
          -166.6848337972214,
          -75.2426534438308,
          -4.0250448731727175,
          157.51458399109026,
          -82.69039578970336,
          -153.7924655862957,
          115.11964503658086,
          58.53620268377968,
          12.105870207152181,
          148.6073356197273,
          87.07042121994144,
          26.765101014626246,
          -64.26031899567529,
          -27.42090187448421,
          -20.443548414645747,
          77.64747460630002,
          26.561188142702573,
          -56.88858423829019,
          -182.2203587362944,
          -187.13023780382488,
          7.765646227412546,
          77.70000517541679,
          28.403290754877894,
          -35.16719078145042,
          -139.30512174800677,
          55.45116534205483,
          97.06769883800855,
          35.24293744059264,
          12.96644084956415,
          -33.708431029221245,
          139.72038781499725,
          26.547859510221624,
          34.02093137055951,
          66.73074651683623,
          123.44685552743444,
          -39.20387003600417,
          3.607493019321476,
          -26.13482721424642,
          11.392887259530923,
          16.167698145768277,
          131.62683397229924,
          -27.45966592798724,
          -24.756390919548075,
          -149.62266496599597,
          -264.067597785693,
          -150.41874573674727,
          -6.3040195032423725,
          27.762499680534624,
          103.43957747852392,
          -17.903966657633063,
          -19.333192759320646,
          -31.446421743257726,
          54.301297665598945,
          24.874067096826373,
          107.8604500927328,
          138.6894422659721,
          106.94691371740385,
          -9.74496889132027,
          77.4146865636154,
          18.368917728550027,
          -72.49556473665234,
          -105.23971472115755,
          -262.594417965066,
          -154.73863518436258,
          -212.1677685535417,
          -314.71765657513447,
          -65.81240486138958,
          -20.47037515735227,
          -138.65706394220527,
          -54.46408271774239,
          -87.89955649963899,
          -84.18268977239165,
          -126.11301780116077,
          -147.03046759504315,
          -5.748269018125043,
          48.044026163870384,
          -53.27654334305259,
          -40.04605618056256,
          -64.19169419627968,
          -42.06125056034642,
          139.51092595110867,
          -6.842680092662967,
          53.292920022641525,
          135.25470474427973,
          75.36030386120584,
          110.95536141408557,
          7.2781555238156415,
          -77.56957182961366,
          -140.1245273809126,
          -174.2809669398771,
          -127.2102465029955,
          -82.76635533844109,
          109.70773063465788,
          31.41297114606936,
          11.317868799385113,
          -56.20983869945279,
          0.5759811567338708,
          59.34440825100333,
          56.45779145548741,
          -20.181244256377934,
          57.43673281692591,
          -0.19829632786118623,
          36.147207960420516,
          -24.516260265366036,
          121.70368828963716,
          120.33070392033454,
          181.5844429693218,
          103.78607859969445,
          120.7614084679975,
          28.268147392073644,
          91.6764185310964,
          -130.05232578342353,
          -41.4737533571273,
          37.397865540993806,
          -63.542647693411844,
          54.134243486607545,
          2.390154589733104,
          -63.91998207394085,
          -32.41111158029655,
          -25.003395535639896,
          -42.84694940017374,
          -126.43298544100675,
          20.35296644382293,
          44.0932378789975,
          14.535210934472152,
          120.62224361602094,
          127.49489541387362,
          71.88378183028516,
          224.08764282422368,
          -8.083440773530185,
          209.8693091169755,
          95.88694752834164,
          -10.755384183863626,
          56.74076777106925,
          -5.9850931307361535,
          -47.118214663892296,
          9.925315346652791,
          122.9455705352332,
          49.516684038164605,
          -22.868750685937698,
          122.06185635844913,
          -18.721039452855337
         ],
         "yaxis": "y"
        }
       ],
       "layout": {
        "autosize": false,
        "height": 500,
        "legend": {
         "tracegroupgap": 0
        },
        "margin": {
         "t": 60
        },
        "template": {
         "data": {
          "bar": [
           {
            "error_x": {
             "color": "#2a3f5f"
            },
            "error_y": {
             "color": "#2a3f5f"
            },
            "marker": {
             "line": {
              "color": "white",
              "width": 0.5
             },
             "pattern": {
              "fillmode": "overlay",
              "size": 10,
              "solidity": 0.2
             }
            },
            "type": "bar"
           }
          ],
          "barpolar": [
           {
            "marker": {
             "line": {
              "color": "white",
              "width": 0.5
             },
             "pattern": {
              "fillmode": "overlay",
              "size": 10,
              "solidity": 0.2
             }
            },
            "type": "barpolar"
           }
          ],
          "carpet": [
           {
            "aaxis": {
             "endlinecolor": "#2a3f5f",
             "gridcolor": "#C8D4E3",
             "linecolor": "#C8D4E3",
             "minorgridcolor": "#C8D4E3",
             "startlinecolor": "#2a3f5f"
            },
            "baxis": {
             "endlinecolor": "#2a3f5f",
             "gridcolor": "#C8D4E3",
             "linecolor": "#C8D4E3",
             "minorgridcolor": "#C8D4E3",
             "startlinecolor": "#2a3f5f"
            },
            "type": "carpet"
           }
          ],
          "choropleth": [
           {
            "colorbar": {
             "outlinewidth": 0,
             "ticks": ""
            },
            "type": "choropleth"
           }
          ],
          "contour": [
           {
            "colorbar": {
             "outlinewidth": 0,
             "ticks": ""
            },
            "colorscale": [
             [
              0,
              "#0d0887"
             ],
             [
              0.1111111111111111,
              "#46039f"
             ],
             [
              0.2222222222222222,
              "#7201a8"
             ],
             [
              0.3333333333333333,
              "#9c179e"
             ],
             [
              0.4444444444444444,
              "#bd3786"
             ],
             [
              0.5555555555555556,
              "#d8576b"
             ],
             [
              0.6666666666666666,
              "#ed7953"
             ],
             [
              0.7777777777777778,
              "#fb9f3a"
             ],
             [
              0.8888888888888888,
              "#fdca26"
             ],
             [
              1,
              "#f0f921"
             ]
            ],
            "type": "contour"
           }
          ],
          "contourcarpet": [
           {
            "colorbar": {
             "outlinewidth": 0,
             "ticks": ""
            },
            "type": "contourcarpet"
           }
          ],
          "heatmap": [
           {
            "colorbar": {
             "outlinewidth": 0,
             "ticks": ""
            },
            "colorscale": [
             [
              0,
              "#0d0887"
             ],
             [
              0.1111111111111111,
              "#46039f"
             ],
             [
              0.2222222222222222,
              "#7201a8"
             ],
             [
              0.3333333333333333,
              "#9c179e"
             ],
             [
              0.4444444444444444,
              "#bd3786"
             ],
             [
              0.5555555555555556,
              "#d8576b"
             ],
             [
              0.6666666666666666,
              "#ed7953"
             ],
             [
              0.7777777777777778,
              "#fb9f3a"
             ],
             [
              0.8888888888888888,
              "#fdca26"
             ],
             [
              1,
              "#f0f921"
             ]
            ],
            "type": "heatmap"
           }
          ],
          "heatmapgl": [
           {
            "colorbar": {
             "outlinewidth": 0,
             "ticks": ""
            },
            "colorscale": [
             [
              0,
              "#0d0887"
             ],
             [
              0.1111111111111111,
              "#46039f"
             ],
             [
              0.2222222222222222,
              "#7201a8"
             ],
             [
              0.3333333333333333,
              "#9c179e"
             ],
             [
              0.4444444444444444,
              "#bd3786"
             ],
             [
              0.5555555555555556,
              "#d8576b"
             ],
             [
              0.6666666666666666,
              "#ed7953"
             ],
             [
              0.7777777777777778,
              "#fb9f3a"
             ],
             [
              0.8888888888888888,
              "#fdca26"
             ],
             [
              1,
              "#f0f921"
             ]
            ],
            "type": "heatmapgl"
           }
          ],
          "histogram": [
           {
            "marker": {
             "pattern": {
              "fillmode": "overlay",
              "size": 10,
              "solidity": 0.2
             }
            },
            "type": "histogram"
           }
          ],
          "histogram2d": [
           {
            "colorbar": {
             "outlinewidth": 0,
             "ticks": ""
            },
            "colorscale": [
             [
              0,
              "#0d0887"
             ],
             [
              0.1111111111111111,
              "#46039f"
             ],
             [
              0.2222222222222222,
              "#7201a8"
             ],
             [
              0.3333333333333333,
              "#9c179e"
             ],
             [
              0.4444444444444444,
              "#bd3786"
             ],
             [
              0.5555555555555556,
              "#d8576b"
             ],
             [
              0.6666666666666666,
              "#ed7953"
             ],
             [
              0.7777777777777778,
              "#fb9f3a"
             ],
             [
              0.8888888888888888,
              "#fdca26"
             ],
             [
              1,
              "#f0f921"
             ]
            ],
            "type": "histogram2d"
           }
          ],
          "histogram2dcontour": [
           {
            "colorbar": {
             "outlinewidth": 0,
             "ticks": ""
            },
            "colorscale": [
             [
              0,
              "#0d0887"
             ],
             [
              0.1111111111111111,
              "#46039f"
             ],
             [
              0.2222222222222222,
              "#7201a8"
             ],
             [
              0.3333333333333333,
              "#9c179e"
             ],
             [
              0.4444444444444444,
              "#bd3786"
             ],
             [
              0.5555555555555556,
              "#d8576b"
             ],
             [
              0.6666666666666666,
              "#ed7953"
             ],
             [
              0.7777777777777778,
              "#fb9f3a"
             ],
             [
              0.8888888888888888,
              "#fdca26"
             ],
             [
              1,
              "#f0f921"
             ]
            ],
            "type": "histogram2dcontour"
           }
          ],
          "mesh3d": [
           {
            "colorbar": {
             "outlinewidth": 0,
             "ticks": ""
            },
            "type": "mesh3d"
           }
          ],
          "parcoords": [
           {
            "line": {
             "colorbar": {
              "outlinewidth": 0,
              "ticks": ""
             }
            },
            "type": "parcoords"
           }
          ],
          "pie": [
           {
            "automargin": true,
            "type": "pie"
           }
          ],
          "scatter": [
           {
            "fillpattern": {
             "fillmode": "overlay",
             "size": 10,
             "solidity": 0.2
            },
            "type": "scatter"
           }
          ],
          "scatter3d": [
           {
            "line": {
             "colorbar": {
              "outlinewidth": 0,
              "ticks": ""
             }
            },
            "marker": {
             "colorbar": {
              "outlinewidth": 0,
              "ticks": ""
             }
            },
            "type": "scatter3d"
           }
          ],
          "scattercarpet": [
           {
            "marker": {
             "colorbar": {
              "outlinewidth": 0,
              "ticks": ""
             }
            },
            "type": "scattercarpet"
           }
          ],
          "scattergeo": [
           {
            "marker": {
             "colorbar": {
              "outlinewidth": 0,
              "ticks": ""
             }
            },
            "type": "scattergeo"
           }
          ],
          "scattergl": [
           {
            "marker": {
             "colorbar": {
              "outlinewidth": 0,
              "ticks": ""
             }
            },
            "type": "scattergl"
           }
          ],
          "scattermapbox": [
           {
            "marker": {
             "colorbar": {
              "outlinewidth": 0,
              "ticks": ""
             }
            },
            "type": "scattermapbox"
           }
          ],
          "scatterpolar": [
           {
            "marker": {
             "colorbar": {
              "outlinewidth": 0,
              "ticks": ""
             }
            },
            "type": "scatterpolar"
           }
          ],
          "scatterpolargl": [
           {
            "marker": {
             "colorbar": {
              "outlinewidth": 0,
              "ticks": ""
             }
            },
            "type": "scatterpolargl"
           }
          ],
          "scatterternary": [
           {
            "marker": {
             "colorbar": {
              "outlinewidth": 0,
              "ticks": ""
             }
            },
            "type": "scatterternary"
           }
          ],
          "surface": [
           {
            "colorbar": {
             "outlinewidth": 0,
             "ticks": ""
            },
            "colorscale": [
             [
              0,
              "#0d0887"
             ],
             [
              0.1111111111111111,
              "#46039f"
             ],
             [
              0.2222222222222222,
              "#7201a8"
             ],
             [
              0.3333333333333333,
              "#9c179e"
             ],
             [
              0.4444444444444444,
              "#bd3786"
             ],
             [
              0.5555555555555556,
              "#d8576b"
             ],
             [
              0.6666666666666666,
              "#ed7953"
             ],
             [
              0.7777777777777778,
              "#fb9f3a"
             ],
             [
              0.8888888888888888,
              "#fdca26"
             ],
             [
              1,
              "#f0f921"
             ]
            ],
            "type": "surface"
           }
          ],
          "table": [
           {
            "cells": {
             "fill": {
              "color": "#EBF0F8"
             },
             "line": {
              "color": "white"
             }
            },
            "header": {
             "fill": {
              "color": "#C8D4E3"
             },
             "line": {
              "color": "white"
             }
            },
            "type": "table"
           }
          ]
         },
         "layout": {
          "annotationdefaults": {
           "arrowcolor": "#2a3f5f",
           "arrowhead": 0,
           "arrowwidth": 1
          },
          "autotypenumbers": "strict",
          "coloraxis": {
           "colorbar": {
            "outlinewidth": 0,
            "ticks": ""
           }
          },
          "colorscale": {
           "diverging": [
            [
             0,
             "#8e0152"
            ],
            [
             0.1,
             "#c51b7d"
            ],
            [
             0.2,
             "#de77ae"
            ],
            [
             0.3,
             "#f1b6da"
            ],
            [
             0.4,
             "#fde0ef"
            ],
            [
             0.5,
             "#f7f7f7"
            ],
            [
             0.6,
             "#e6f5d0"
            ],
            [
             0.7,
             "#b8e186"
            ],
            [
             0.8,
             "#7fbc41"
            ],
            [
             0.9,
             "#4d9221"
            ],
            [
             1,
             "#276419"
            ]
           ],
           "sequential": [
            [
             0,
             "#0d0887"
            ],
            [
             0.1111111111111111,
             "#46039f"
            ],
            [
             0.2222222222222222,
             "#7201a8"
            ],
            [
             0.3333333333333333,
             "#9c179e"
            ],
            [
             0.4444444444444444,
             "#bd3786"
            ],
            [
             0.5555555555555556,
             "#d8576b"
            ],
            [
             0.6666666666666666,
             "#ed7953"
            ],
            [
             0.7777777777777778,
             "#fb9f3a"
            ],
            [
             0.8888888888888888,
             "#fdca26"
            ],
            [
             1,
             "#f0f921"
            ]
           ],
           "sequentialminus": [
            [
             0,
             "#0d0887"
            ],
            [
             0.1111111111111111,
             "#46039f"
            ],
            [
             0.2222222222222222,
             "#7201a8"
            ],
            [
             0.3333333333333333,
             "#9c179e"
            ],
            [
             0.4444444444444444,
             "#bd3786"
            ],
            [
             0.5555555555555556,
             "#d8576b"
            ],
            [
             0.6666666666666666,
             "#ed7953"
            ],
            [
             0.7777777777777778,
             "#fb9f3a"
            ],
            [
             0.8888888888888888,
             "#fdca26"
            ],
            [
             1,
             "#f0f921"
            ]
           ]
          },
          "colorway": [
           "#636efa",
           "#EF553B",
           "#00cc96",
           "#ab63fa",
           "#FFA15A",
           "#19d3f3",
           "#FF6692",
           "#B6E880",
           "#FF97FF",
           "#FECB52"
          ],
          "font": {
           "color": "#2a3f5f"
          },
          "geo": {
           "bgcolor": "white",
           "lakecolor": "white",
           "landcolor": "white",
           "showlakes": true,
           "showland": true,
           "subunitcolor": "#C8D4E3"
          },
          "hoverlabel": {
           "align": "left"
          },
          "hovermode": "closest",
          "mapbox": {
           "style": "light"
          },
          "paper_bgcolor": "white",
          "plot_bgcolor": "white",
          "polar": {
           "angularaxis": {
            "gridcolor": "#EBF0F8",
            "linecolor": "#EBF0F8",
            "ticks": ""
           },
           "bgcolor": "white",
           "radialaxis": {
            "gridcolor": "#EBF0F8",
            "linecolor": "#EBF0F8",
            "ticks": ""
           }
          },
          "scene": {
           "xaxis": {
            "backgroundcolor": "white",
            "gridcolor": "#DFE8F3",
            "gridwidth": 2,
            "linecolor": "#EBF0F8",
            "showbackground": true,
            "ticks": "",
            "zerolinecolor": "#EBF0F8"
           },
           "yaxis": {
            "backgroundcolor": "white",
            "gridcolor": "#DFE8F3",
            "gridwidth": 2,
            "linecolor": "#EBF0F8",
            "showbackground": true,
            "ticks": "",
            "zerolinecolor": "#EBF0F8"
           },
           "zaxis": {
            "backgroundcolor": "white",
            "gridcolor": "#DFE8F3",
            "gridwidth": 2,
            "linecolor": "#EBF0F8",
            "showbackground": true,
            "ticks": "",
            "zerolinecolor": "#EBF0F8"
           }
          },
          "shapedefaults": {
           "line": {
            "color": "#2a3f5f"
           }
          },
          "ternary": {
           "aaxis": {
            "gridcolor": "#DFE8F3",
            "linecolor": "#A2B1C6",
            "ticks": ""
           },
           "baxis": {
            "gridcolor": "#DFE8F3",
            "linecolor": "#A2B1C6",
            "ticks": ""
           },
           "bgcolor": "white",
           "caxis": {
            "gridcolor": "#DFE8F3",
            "linecolor": "#A2B1C6",
            "ticks": ""
           }
          },
          "title": {
           "x": 0.05
          },
          "xaxis": {
           "automargin": true,
           "gridcolor": "#EBF0F8",
           "linecolor": "#EBF0F8",
           "ticks": "",
           "title": {
            "standoff": 15
           },
           "zerolinecolor": "#EBF0F8",
           "zerolinewidth": 2
          },
          "yaxis": {
           "automargin": true,
           "gridcolor": "#EBF0F8",
           "linecolor": "#EBF0F8",
           "ticks": "",
           "title": {
            "standoff": 15
           },
           "zerolinecolor": "#EBF0F8",
           "zerolinewidth": 2
          }
         }
        },
        "title": {
         "font": {
          "size": 25
         },
         "text": "",
         "x": 0.5,
         "xanchor": "center",
         "yanchor": "top"
        },
        "width": 900,
        "xaxis": {
         "anchor": "y",
         "domain": [
          0,
          1
         ],
         "title": {
          "font": {
           "size": 12
          },
          "text": "Time"
         }
        },
        "yaxis": {
         "anchor": "x",
         "domain": [
          0,
          1
         ],
         "title": {
          "font": {
           "size": 12
          },
          "text": "Value"
         }
        }
       }
      }
     },
     "metadata": {},
     "output_type": "display_data"
    }
   ],
   "source": [
    "# Setting the correlation coefficient\n",
    "r = 0.4\n",
    "# Generate the time axis\n",
    "time = np.arange(200)\n",
    "# Generate white noise\n",
    "white_noise = np.random.randn(200)*100\n",
    "# Create Red Noise by introducing correlation between subsequent values in the white noise\n",
    "values = np.zeros(200)\n",
    "for i, v in enumerate(white_noise):\n",
    "    if i==0:\n",
    "        values[i] = v\n",
    "    else:\n",
    "        values[i] = r*values[i-1]+ np.sqrt((1-np.power(r,2))) *v\n",
    "        \n",
    "\n",
    "fig = plot_time_series(time, values, \"\")\n",
    "fig.write_image(\"imgs/chapter_1/red_noise_process.png\")\n",
    "fig.show()"
   ]
  },
  {
   "cell_type": "markdown",
   "id": "044a0b15-5792-4dcc-b3b0-50c004802c33",
   "metadata": {},
   "source": [
    "## Sinusoidal"
   ]
  },
  {
   "cell_type": "code",
   "execution_count": 8,
   "id": "98cb9164-0c70-4ec8-b0fc-932df1f3808e",
   "metadata": {},
   "outputs": [],
   "source": [
    "#Sinusoidal Signal with Amplitude=1.5 & Frequency=0.25\n",
    "signal_1 =ts.signals.Sinusoidal(amplitude=1.5, frequency=0.25)\n",
    "#Sinusoidal Signal with Amplitude=1 & Frequency=0. 5\n",
    "signal_2 = ts.signals.Sinusoidal(amplitude=1, frequency=0.5)\n",
    "#Generating the time series\n",
    "samples_1, regular_time_samples, signals_1, errors_1 = generate_timeseries(signal=signal_1)\n",
    "samples_2, regular_time_samples, signals_2, errors_2 = generate_timeseries(signal=signal_2)"
   ]
  },
  {
   "cell_type": "code",
   "execution_count": 9,
   "id": "67135ae7-edc5-4b20-8ab4-a5f565e15ec1",
   "metadata": {},
   "outputs": [
    {
     "data": {
      "application/vnd.plotly.v1+json": {
       "config": {
        "plotlyServerURL": "https://plot.ly"
       },
       "data": [
        {
         "hovertemplate": "ts=Amplitude = 1.5 | Frequency = 0.25<br>Time=%{x}<br>Value=%{y}<extra></extra>",
         "legendgroup": "Amplitude = 1.5 | Frequency = 0.25",
         "line": {
          "color": "#636efa",
          "dash": "solid"
         },
         "marker": {
          "symbol": "circle"
         },
         "mode": "lines",
         "name": "Amplitude = 1.5 | Frequency = 0.25",
         "orientation": "v",
         "showlegend": true,
         "type": "scatter",
         "x": [
          0,
          0.20202020202020202,
          0.40404040404040403,
          0.6060606060606061,
          0.8080808080808081,
          1.0101010101010102,
          1.2121212121212122,
          1.4141414141414141,
          1.6161616161616161,
          1.8181818181818181,
          2.0202020202020203,
          2.2222222222222223,
          2.4242424242424243,
          2.6262626262626263,
          2.8282828282828283,
          3.0303030303030303,
          3.2323232323232323,
          3.4343434343434343,
          3.6363636363636362,
          3.8383838383838382,
          4.040404040404041,
          4.242424242424242,
          4.444444444444445,
          4.646464646464646,
          4.848484848484849,
          5.05050505050505,
          5.252525252525253,
          5.454545454545454,
          5.656565656565657,
          5.858585858585858,
          6.0606060606060606,
          6.262626262626262,
          6.4646464646464645,
          6.666666666666667,
          6.8686868686868685,
          7.070707070707071,
          7.2727272727272725,
          7.474747474747475,
          7.6767676767676765,
          7.878787878787879,
          8.080808080808081,
          8.282828282828282,
          8.484848484848484,
          8.686868686868687,
          8.88888888888889,
          9.09090909090909,
          9.292929292929292,
          9.494949494949495,
          9.696969696969697,
          9.8989898989899,
          10.1010101010101,
          10.303030303030303,
          10.505050505050505,
          10.707070707070708,
          10.909090909090908,
          11.11111111111111,
          11.313131313131313,
          11.515151515151516,
          11.717171717171716,
          11.919191919191919,
          12.121212121212121,
          12.323232323232324,
          12.525252525252524,
          12.727272727272727,
          12.929292929292929,
          13.131313131313131,
          13.333333333333334,
          13.535353535353535,
          13.737373737373737,
          13.93939393939394,
          14.141414141414142,
          14.343434343434343,
          14.545454545454545,
          14.747474747474747,
          14.94949494949495,
          15.15151515151515,
          15.353535353535353,
          15.555555555555555,
          15.757575757575758,
          15.959595959595958,
          16.161616161616163,
          16.363636363636363,
          16.565656565656564,
          16.767676767676768,
          16.96969696969697,
          17.171717171717173,
          17.373737373737374,
          17.575757575757574,
          17.77777777777778,
          17.97979797979798,
          18.18181818181818,
          18.383838383838384,
          18.585858585858585,
          18.78787878787879,
          18.98989898989899,
          19.19191919191919,
          19.393939393939394,
          19.595959595959595,
          19.7979797979798,
          20
         ],
         "xaxis": "x",
         "y": [
          0,
          0.4680501685477307,
          0.8893618935819606,
          1.2218639280755035,
          1.4323533621661109,
          1.4998111915108125,
          1.4175012280720027,
          1.1936427607962485,
          0.8505897957941563,
          0.4225988352621451,
          -0.04759190024710179,
          -0.513030214988503,
          -0.9272384793309079,
          -1.248854781952157,
          -1.445763237839913,
          -1.4983010087745119,
          -1.4012217903976603,
          -1.1642196964376357,
          -0.8109612261833974,
          -0.3767219807716191,
          0.09513587948484739,
          0.5574936834904902,
          0.9641814145298089,
          1.2745881449242713,
          1.4577173524853126,
          1.4952821639279135,
          1.3835314411568724,
          1.133624361531389,
          0.7705160873601108,
          0.33046579917981156,
          -0.14258406495627424,
          -0.6013958031099191,
          -1.0001535007744369,
          -1.299038105676658,
          -1.4682036693221678,
          -1.4907576966918814,
          -1.3644479930317785,
          -1.1018875629863008,
          -0.7292951041507034,
          -0.283876866540615,
          0.18988868036062512,
          0.6446923681337545,
          1.0351185172231663,
          1.3221800451713723,
          1.477211629518312,
          1.4847321628213994,
          1.3439906614370045,
          1.0690412570682948,
          0.6873397825911153,
          0.23700209396002359,
          -0.23700209396002175,
          -0.6873397825911136,
          -1.0690412570682934,
          -1.3439906614370036,
          -1.4847321628213983,
          -1.4772116295183126,
          -1.3221800451713746,
          -1.0351185172231696,
          -0.6446923681337585,
          -0.1898886803606243,
          0.2838768665406158,
          0.7292951041507042,
          1.1018875629862979,
          1.3644479930317766,
          1.490757696691881,
          1.468203669322168,
          1.2990381056766578,
          1.0001535007744402,
          0.6013958031099232,
          0.14258406495627607,
          -0.3304657991798098,
          -0.7705160873601047,
          -1.1336243615313841,
          -1.3835314411568707,
          -1.4952821639279132,
          -1.457717352485313,
          -1.2745881449242722,
          -0.9641814145298092,
          -0.5574936834904907,
          -0.09513587948485053,
          0.37672198077162117,
          0.8109612261833947,
          1.1642196964376312,
          1.40122179039766,
          1.4983010087745119,
          1.4457632378399128,
          1.2488547819521587,
          0.9272384793309136,
          0.5130302149885041,
          0.04759190024710695,
          -0.42259883526214015,
          -0.8505897957941531,
          -1.1936427607962465,
          -1.4175012280720038,
          -1.4998111915108125,
          -1.4323533621661124,
          -1.221863928075503,
          -0.8893618935819636,
          -0.4680501685477282,
          -1.83697019872103e-15
         ],
         "yaxis": "y"
        },
        {
         "hovertemplate": "ts=Amplitude = 1 | Frequency = 0.5<br>Time=%{x}<br>Value=%{y}<extra></extra>",
         "legendgroup": "Amplitude = 1 | Frequency = 0.5",
         "line": {
          "color": "#636efa",
          "dash": "dot"
         },
         "marker": {
          "symbol": "circle"
         },
         "mode": "lines",
         "name": "Amplitude = 1 | Frequency = 0.5",
         "orientation": "v",
         "showlegend": true,
         "type": "scatter",
         "x": [
          0,
          0.20202020202020202,
          0.40404040404040403,
          0.6060606060606061,
          0.8080808080808081,
          1.0101010101010102,
          1.2121212121212122,
          1.4141414141414141,
          1.6161616161616161,
          1.8181818181818181,
          2.0202020202020203,
          2.2222222222222223,
          2.4242424242424243,
          2.6262626262626263,
          2.8282828282828283,
          3.0303030303030303,
          3.2323232323232323,
          3.4343434343434343,
          3.6363636363636362,
          3.8383838383838382,
          4.040404040404041,
          4.242424242424242,
          4.444444444444445,
          4.646464646464646,
          4.848484848484849,
          5.05050505050505,
          5.252525252525253,
          5.454545454545454,
          5.656565656565657,
          5.858585858585858,
          6.0606060606060606,
          6.262626262626262,
          6.4646464646464645,
          6.666666666666667,
          6.8686868686868685,
          7.070707070707071,
          7.2727272727272725,
          7.474747474747475,
          7.6767676767676765,
          7.878787878787879,
          8.080808080808081,
          8.282828282828282,
          8.484848484848484,
          8.686868686868687,
          8.88888888888889,
          9.09090909090909,
          9.292929292929292,
          9.494949494949495,
          9.696969696969697,
          9.8989898989899,
          10.1010101010101,
          10.303030303030303,
          10.505050505050505,
          10.707070707070708,
          10.909090909090908,
          11.11111111111111,
          11.313131313131313,
          11.515151515151516,
          11.717171717171716,
          11.919191919191919,
          12.121212121212121,
          12.323232323232324,
          12.525252525252524,
          12.727272727272727,
          12.929292929292929,
          13.131313131313131,
          13.333333333333334,
          13.535353535353535,
          13.737373737373737,
          13.93939393939394,
          14.141414141414142,
          14.343434343434343,
          14.545454545454545,
          14.747474747474747,
          14.94949494949495,
          15.15151515151515,
          15.353535353535353,
          15.555555555555555,
          15.757575757575758,
          15.959595959595958,
          16.161616161616163,
          16.363636363636363,
          16.565656565656564,
          16.767676767676768,
          16.96969696969697,
          17.171717171717173,
          17.373737373737374,
          17.575757575757574,
          17.77777777777778,
          17.97979797979798,
          18.18181818181818,
          18.383838383838384,
          18.585858585858585,
          18.78787878787879,
          18.98989898989899,
          19.19191919191919,
          19.393939393939394,
          19.595959595959595,
          19.7979797979798,
          20
         ],
         "xaxis": "x",
         "y": [
          0,
          0.5929079290546404,
          0.9549022414440739,
          0.9450008187146685,
          0.5670598638627709,
          -0.03172793349806786,
          -0.6181589862206053,
          -0.9638421585599419,
          -0.9341478602651068,
          -0.5406408174555982,
          0.06342391965656492,
          0.6427876096865393,
          0.9718115683235418,
          0.9223542941045816,
          0.5136773915734072,
          -0.09505604330418282,
          -0.6667690005162913,
          -0.9788024462147785,
          -0.909631995354519,
          -0.486196736100469,
          0.12659245357375007,
          0.6900790114821109,
          0.984807753012208,
          0.8959937742913363,
          0.4582265217274102,
          -0.15800139597334784,
          -0.7126941713788623,
          -0.9898214418809322,
          -0.881453363447583,
          -0.42979491208917237,
          0.18925124436041052,
          0.7345917086575319,
          0.993838464461254,
          0.8660254037844385,
          0.4009305354066155,
          -0.22031053278653986,
          -0.7557495743542562,
          -0.9968547759519422,
          -0.8497254299495147,
          -0.37166245566032713,
          0.2511479871810808,
          0.7761464642917542,
          0.9988673391830079,
          0.8325698546347724,
          0.3420201433256694,
          -0.2817325568414268,
          -0.795761840530831,
          -0.9998741276738751,
          -0.8145759520503354,
          -0.31203344569848546,
          0.3120334456984831,
          0.814575952050334,
          0.9998741276738751,
          0.7957618405308324,
          0.28173255684143594,
          -0.3420201433256638,
          -0.8325698546347691,
          -0.9988673391830081,
          -0.7761464642917579,
          -0.2511479871810797,
          0.37166245566032813,
          0.8497254299495154,
          0.9968547759519427,
          0.7557495743542602,
          0.22031053278654225,
          -0.4009305354066133,
          -0.866025403784439,
          -0.9938384644612547,
          -0.734591708657536,
          -0.18925124436041293,
          0.4297949120891702,
          0.8814533634475785,
          0.9898214418809337,
          0.7126941713788665,
          0.15800139597335378,
          -0.45822652172740796,
          -0.8959937742913352,
          -0.9848077530122081,
          -0.6900790114821114,
          -0.12659245357375426,
          0.48619673610047154,
          0.9096319953545172,
          0.9788024462147805,
          0.6667690005162918,
          0.0950560433041888,
          -0.5136773915734082,
          -0.9223542941045799,
          -0.971811568323544,
          -0.6427876096865404,
          -0.06342391965657179,
          0.5406408174555924,
          0.934147860265105,
          0.963842158559943,
          0.6181589862206016,
          0.031727933498068975,
          -0.5670598638627647,
          -0.9450008187146688,
          -0.9549022414440753,
          -0.5929079290546376,
          -2.4492935982947065e-15
         ],
         "yaxis": "y"
        }
       ],
       "layout": {
        "autosize": false,
        "height": 500,
        "legend": {
         "title": {
          "text": "ts"
         },
         "tracegroupgap": 0
        },
        "margin": {
         "t": 60
        },
        "template": {
         "data": {
          "bar": [
           {
            "error_x": {
             "color": "#2a3f5f"
            },
            "error_y": {
             "color": "#2a3f5f"
            },
            "marker": {
             "line": {
              "color": "white",
              "width": 0.5
             },
             "pattern": {
              "fillmode": "overlay",
              "size": 10,
              "solidity": 0.2
             }
            },
            "type": "bar"
           }
          ],
          "barpolar": [
           {
            "marker": {
             "line": {
              "color": "white",
              "width": 0.5
             },
             "pattern": {
              "fillmode": "overlay",
              "size": 10,
              "solidity": 0.2
             }
            },
            "type": "barpolar"
           }
          ],
          "carpet": [
           {
            "aaxis": {
             "endlinecolor": "#2a3f5f",
             "gridcolor": "#C8D4E3",
             "linecolor": "#C8D4E3",
             "minorgridcolor": "#C8D4E3",
             "startlinecolor": "#2a3f5f"
            },
            "baxis": {
             "endlinecolor": "#2a3f5f",
             "gridcolor": "#C8D4E3",
             "linecolor": "#C8D4E3",
             "minorgridcolor": "#C8D4E3",
             "startlinecolor": "#2a3f5f"
            },
            "type": "carpet"
           }
          ],
          "choropleth": [
           {
            "colorbar": {
             "outlinewidth": 0,
             "ticks": ""
            },
            "type": "choropleth"
           }
          ],
          "contour": [
           {
            "colorbar": {
             "outlinewidth": 0,
             "ticks": ""
            },
            "colorscale": [
             [
              0,
              "#0d0887"
             ],
             [
              0.1111111111111111,
              "#46039f"
             ],
             [
              0.2222222222222222,
              "#7201a8"
             ],
             [
              0.3333333333333333,
              "#9c179e"
             ],
             [
              0.4444444444444444,
              "#bd3786"
             ],
             [
              0.5555555555555556,
              "#d8576b"
             ],
             [
              0.6666666666666666,
              "#ed7953"
             ],
             [
              0.7777777777777778,
              "#fb9f3a"
             ],
             [
              0.8888888888888888,
              "#fdca26"
             ],
             [
              1,
              "#f0f921"
             ]
            ],
            "type": "contour"
           }
          ],
          "contourcarpet": [
           {
            "colorbar": {
             "outlinewidth": 0,
             "ticks": ""
            },
            "type": "contourcarpet"
           }
          ],
          "heatmap": [
           {
            "colorbar": {
             "outlinewidth": 0,
             "ticks": ""
            },
            "colorscale": [
             [
              0,
              "#0d0887"
             ],
             [
              0.1111111111111111,
              "#46039f"
             ],
             [
              0.2222222222222222,
              "#7201a8"
             ],
             [
              0.3333333333333333,
              "#9c179e"
             ],
             [
              0.4444444444444444,
              "#bd3786"
             ],
             [
              0.5555555555555556,
              "#d8576b"
             ],
             [
              0.6666666666666666,
              "#ed7953"
             ],
             [
              0.7777777777777778,
              "#fb9f3a"
             ],
             [
              0.8888888888888888,
              "#fdca26"
             ],
             [
              1,
              "#f0f921"
             ]
            ],
            "type": "heatmap"
           }
          ],
          "heatmapgl": [
           {
            "colorbar": {
             "outlinewidth": 0,
             "ticks": ""
            },
            "colorscale": [
             [
              0,
              "#0d0887"
             ],
             [
              0.1111111111111111,
              "#46039f"
             ],
             [
              0.2222222222222222,
              "#7201a8"
             ],
             [
              0.3333333333333333,
              "#9c179e"
             ],
             [
              0.4444444444444444,
              "#bd3786"
             ],
             [
              0.5555555555555556,
              "#d8576b"
             ],
             [
              0.6666666666666666,
              "#ed7953"
             ],
             [
              0.7777777777777778,
              "#fb9f3a"
             ],
             [
              0.8888888888888888,
              "#fdca26"
             ],
             [
              1,
              "#f0f921"
             ]
            ],
            "type": "heatmapgl"
           }
          ],
          "histogram": [
           {
            "marker": {
             "pattern": {
              "fillmode": "overlay",
              "size": 10,
              "solidity": 0.2
             }
            },
            "type": "histogram"
           }
          ],
          "histogram2d": [
           {
            "colorbar": {
             "outlinewidth": 0,
             "ticks": ""
            },
            "colorscale": [
             [
              0,
              "#0d0887"
             ],
             [
              0.1111111111111111,
              "#46039f"
             ],
             [
              0.2222222222222222,
              "#7201a8"
             ],
             [
              0.3333333333333333,
              "#9c179e"
             ],
             [
              0.4444444444444444,
              "#bd3786"
             ],
             [
              0.5555555555555556,
              "#d8576b"
             ],
             [
              0.6666666666666666,
              "#ed7953"
             ],
             [
              0.7777777777777778,
              "#fb9f3a"
             ],
             [
              0.8888888888888888,
              "#fdca26"
             ],
             [
              1,
              "#f0f921"
             ]
            ],
            "type": "histogram2d"
           }
          ],
          "histogram2dcontour": [
           {
            "colorbar": {
             "outlinewidth": 0,
             "ticks": ""
            },
            "colorscale": [
             [
              0,
              "#0d0887"
             ],
             [
              0.1111111111111111,
              "#46039f"
             ],
             [
              0.2222222222222222,
              "#7201a8"
             ],
             [
              0.3333333333333333,
              "#9c179e"
             ],
             [
              0.4444444444444444,
              "#bd3786"
             ],
             [
              0.5555555555555556,
              "#d8576b"
             ],
             [
              0.6666666666666666,
              "#ed7953"
             ],
             [
              0.7777777777777778,
              "#fb9f3a"
             ],
             [
              0.8888888888888888,
              "#fdca26"
             ],
             [
              1,
              "#f0f921"
             ]
            ],
            "type": "histogram2dcontour"
           }
          ],
          "mesh3d": [
           {
            "colorbar": {
             "outlinewidth": 0,
             "ticks": ""
            },
            "type": "mesh3d"
           }
          ],
          "parcoords": [
           {
            "line": {
             "colorbar": {
              "outlinewidth": 0,
              "ticks": ""
             }
            },
            "type": "parcoords"
           }
          ],
          "pie": [
           {
            "automargin": true,
            "type": "pie"
           }
          ],
          "scatter": [
           {
            "fillpattern": {
             "fillmode": "overlay",
             "size": 10,
             "solidity": 0.2
            },
            "type": "scatter"
           }
          ],
          "scatter3d": [
           {
            "line": {
             "colorbar": {
              "outlinewidth": 0,
              "ticks": ""
             }
            },
            "marker": {
             "colorbar": {
              "outlinewidth": 0,
              "ticks": ""
             }
            },
            "type": "scatter3d"
           }
          ],
          "scattercarpet": [
           {
            "marker": {
             "colorbar": {
              "outlinewidth": 0,
              "ticks": ""
             }
            },
            "type": "scattercarpet"
           }
          ],
          "scattergeo": [
           {
            "marker": {
             "colorbar": {
              "outlinewidth": 0,
              "ticks": ""
             }
            },
            "type": "scattergeo"
           }
          ],
          "scattergl": [
           {
            "marker": {
             "colorbar": {
              "outlinewidth": 0,
              "ticks": ""
             }
            },
            "type": "scattergl"
           }
          ],
          "scattermapbox": [
           {
            "marker": {
             "colorbar": {
              "outlinewidth": 0,
              "ticks": ""
             }
            },
            "type": "scattermapbox"
           }
          ],
          "scatterpolar": [
           {
            "marker": {
             "colorbar": {
              "outlinewidth": 0,
              "ticks": ""
             }
            },
            "type": "scatterpolar"
           }
          ],
          "scatterpolargl": [
           {
            "marker": {
             "colorbar": {
              "outlinewidth": 0,
              "ticks": ""
             }
            },
            "type": "scatterpolargl"
           }
          ],
          "scatterternary": [
           {
            "marker": {
             "colorbar": {
              "outlinewidth": 0,
              "ticks": ""
             }
            },
            "type": "scatterternary"
           }
          ],
          "surface": [
           {
            "colorbar": {
             "outlinewidth": 0,
             "ticks": ""
            },
            "colorscale": [
             [
              0,
              "#0d0887"
             ],
             [
              0.1111111111111111,
              "#46039f"
             ],
             [
              0.2222222222222222,
              "#7201a8"
             ],
             [
              0.3333333333333333,
              "#9c179e"
             ],
             [
              0.4444444444444444,
              "#bd3786"
             ],
             [
              0.5555555555555556,
              "#d8576b"
             ],
             [
              0.6666666666666666,
              "#ed7953"
             ],
             [
              0.7777777777777778,
              "#fb9f3a"
             ],
             [
              0.8888888888888888,
              "#fdca26"
             ],
             [
              1,
              "#f0f921"
             ]
            ],
            "type": "surface"
           }
          ],
          "table": [
           {
            "cells": {
             "fill": {
              "color": "#EBF0F8"
             },
             "line": {
              "color": "white"
             }
            },
            "header": {
             "fill": {
              "color": "#C8D4E3"
             },
             "line": {
              "color": "white"
             }
            },
            "type": "table"
           }
          ]
         },
         "layout": {
          "annotationdefaults": {
           "arrowcolor": "#2a3f5f",
           "arrowhead": 0,
           "arrowwidth": 1
          },
          "autotypenumbers": "strict",
          "coloraxis": {
           "colorbar": {
            "outlinewidth": 0,
            "ticks": ""
           }
          },
          "colorscale": {
           "diverging": [
            [
             0,
             "#8e0152"
            ],
            [
             0.1,
             "#c51b7d"
            ],
            [
             0.2,
             "#de77ae"
            ],
            [
             0.3,
             "#f1b6da"
            ],
            [
             0.4,
             "#fde0ef"
            ],
            [
             0.5,
             "#f7f7f7"
            ],
            [
             0.6,
             "#e6f5d0"
            ],
            [
             0.7,
             "#b8e186"
            ],
            [
             0.8,
             "#7fbc41"
            ],
            [
             0.9,
             "#4d9221"
            ],
            [
             1,
             "#276419"
            ]
           ],
           "sequential": [
            [
             0,
             "#0d0887"
            ],
            [
             0.1111111111111111,
             "#46039f"
            ],
            [
             0.2222222222222222,
             "#7201a8"
            ],
            [
             0.3333333333333333,
             "#9c179e"
            ],
            [
             0.4444444444444444,
             "#bd3786"
            ],
            [
             0.5555555555555556,
             "#d8576b"
            ],
            [
             0.6666666666666666,
             "#ed7953"
            ],
            [
             0.7777777777777778,
             "#fb9f3a"
            ],
            [
             0.8888888888888888,
             "#fdca26"
            ],
            [
             1,
             "#f0f921"
            ]
           ],
           "sequentialminus": [
            [
             0,
             "#0d0887"
            ],
            [
             0.1111111111111111,
             "#46039f"
            ],
            [
             0.2222222222222222,
             "#7201a8"
            ],
            [
             0.3333333333333333,
             "#9c179e"
            ],
            [
             0.4444444444444444,
             "#bd3786"
            ],
            [
             0.5555555555555556,
             "#d8576b"
            ],
            [
             0.6666666666666666,
             "#ed7953"
            ],
            [
             0.7777777777777778,
             "#fb9f3a"
            ],
            [
             0.8888888888888888,
             "#fdca26"
            ],
            [
             1,
             "#f0f921"
            ]
           ]
          },
          "colorway": [
           "#636efa",
           "#EF553B",
           "#00cc96",
           "#ab63fa",
           "#FFA15A",
           "#19d3f3",
           "#FF6692",
           "#B6E880",
           "#FF97FF",
           "#FECB52"
          ],
          "font": {
           "color": "#2a3f5f"
          },
          "geo": {
           "bgcolor": "white",
           "lakecolor": "white",
           "landcolor": "white",
           "showlakes": true,
           "showland": true,
           "subunitcolor": "#C8D4E3"
          },
          "hoverlabel": {
           "align": "left"
          },
          "hovermode": "closest",
          "mapbox": {
           "style": "light"
          },
          "paper_bgcolor": "white",
          "plot_bgcolor": "white",
          "polar": {
           "angularaxis": {
            "gridcolor": "#EBF0F8",
            "linecolor": "#EBF0F8",
            "ticks": ""
           },
           "bgcolor": "white",
           "radialaxis": {
            "gridcolor": "#EBF0F8",
            "linecolor": "#EBF0F8",
            "ticks": ""
           }
          },
          "scene": {
           "xaxis": {
            "backgroundcolor": "white",
            "gridcolor": "#DFE8F3",
            "gridwidth": 2,
            "linecolor": "#EBF0F8",
            "showbackground": true,
            "ticks": "",
            "zerolinecolor": "#EBF0F8"
           },
           "yaxis": {
            "backgroundcolor": "white",
            "gridcolor": "#DFE8F3",
            "gridwidth": 2,
            "linecolor": "#EBF0F8",
            "showbackground": true,
            "ticks": "",
            "zerolinecolor": "#EBF0F8"
           },
           "zaxis": {
            "backgroundcolor": "white",
            "gridcolor": "#DFE8F3",
            "gridwidth": 2,
            "linecolor": "#EBF0F8",
            "showbackground": true,
            "ticks": "",
            "zerolinecolor": "#EBF0F8"
           }
          },
          "shapedefaults": {
           "line": {
            "color": "#2a3f5f"
           }
          },
          "ternary": {
           "aaxis": {
            "gridcolor": "#DFE8F3",
            "linecolor": "#A2B1C6",
            "ticks": ""
           },
           "baxis": {
            "gridcolor": "#DFE8F3",
            "linecolor": "#A2B1C6",
            "ticks": ""
           },
           "bgcolor": "white",
           "caxis": {
            "gridcolor": "#DFE8F3",
            "linecolor": "#A2B1C6",
            "ticks": ""
           }
          },
          "title": {
           "x": 0.05
          },
          "xaxis": {
           "automargin": true,
           "gridcolor": "#EBF0F8",
           "linecolor": "#EBF0F8",
           "ticks": "",
           "title": {
            "standoff": 15
           },
           "zerolinecolor": "#EBF0F8",
           "zerolinewidth": 2
          },
          "yaxis": {
           "automargin": true,
           "gridcolor": "#EBF0F8",
           "linecolor": "#EBF0F8",
           "ticks": "",
           "title": {
            "standoff": 15
           },
           "zerolinecolor": "#EBF0F8",
           "zerolinewidth": 2
          }
         }
        },
        "title": {
         "font": {
          "size": 25
         },
         "text": "",
         "x": 0.5,
         "xanchor": "center",
         "yanchor": "top"
        },
        "width": 900,
        "xaxis": {
         "anchor": "y",
         "domain": [
          0,
          1
         ],
         "title": {
          "font": {
           "size": 12
          },
          "text": "Time"
         }
        },
        "yaxis": {
         "anchor": "x",
         "domain": [
          0,
          1
         ],
         "title": {
          "font": {
           "size": 12
          },
          "text": "Value"
         }
        }
       }
      }
     },
     "metadata": {},
     "output_type": "display_data"
    }
   ],
   "source": [
    "fig = plot_time_series(regular_time_samples, \n",
    "                 [samples_1, samples_2], \n",
    "                 \"\", \n",
    "                 legends=[\"Amplitude = 1.5 | Frequency = 0.25\", \"Amplitude = 1 | Frequency = 0.5\"])\n",
    "fig.write_image(\"imgs/chapter_1/sinusoidal_waves.png\")\n",
    "fig.show()"
   ]
  },
  {
   "cell_type": "markdown",
   "id": "84f7709e-7223-4dfb-b5fd-a17fa99e85c7",
   "metadata": {},
   "source": [
    "## Pseudo Periodic"
   ]
  },
  {
   "cell_type": "code",
   "execution_count": 10,
   "id": "849b7c4d-7a5b-4dc4-a07f-aadc220f3516",
   "metadata": {},
   "outputs": [],
   "source": [
    "# PseudoPeriodic signal with Amplitude=1 & Frequency=0.25\n",
    "signal = ts.signals.PseudoPeriodic(amplitude=1, frequency=0.25)\n",
    "#Generating Timeseries\n",
    "samples, regular_time_samples, signals, errors = generate_timeseries(signal=signal)\n",
    "\n"
   ]
  },
  {
   "cell_type": "code",
   "execution_count": 11,
   "id": "e87753a5-6ef1-4fc5-8070-5a269da43276",
   "metadata": {},
   "outputs": [
    {
     "data": {
      "application/vnd.plotly.v1+json": {
       "config": {
        "plotlyServerURL": "https://plot.ly"
       },
       "data": [
        {
         "hovertemplate": "Time=%{x}<br>Value=%{y}<extra></extra>",
         "legendgroup": "",
         "line": {
          "color": "#636efa",
          "dash": "solid"
         },
         "marker": {
          "symbol": "circle"
         },
         "mode": "lines",
         "name": "",
         "orientation": "v",
         "showlegend": false,
         "type": "scatter",
         "x": [
          0,
          0.20202020202020202,
          0.40404040404040403,
          0.6060606060606061,
          0.8080808080808081,
          1.0101010101010102,
          1.2121212121212122,
          1.4141414141414141,
          1.6161616161616161,
          1.8181818181818181,
          2.0202020202020203,
          2.2222222222222223,
          2.4242424242424243,
          2.6262626262626263,
          2.8282828282828283,
          3.0303030303030303,
          3.2323232323232323,
          3.4343434343434343,
          3.6363636363636362,
          3.8383838383838382,
          4.040404040404041,
          4.242424242424242,
          4.444444444444445,
          4.646464646464646,
          4.848484848484849,
          5.05050505050505,
          5.252525252525253,
          5.454545454545454,
          5.656565656565657,
          5.858585858585858,
          6.0606060606060606,
          6.262626262626262,
          6.4646464646464645,
          6.666666666666667,
          6.8686868686868685,
          7.070707070707071,
          7.2727272727272725,
          7.474747474747475,
          7.6767676767676765,
          7.878787878787879,
          8.080808080808081,
          8.282828282828282,
          8.484848484848484,
          8.686868686868687,
          8.88888888888889,
          9.09090909090909,
          9.292929292929292,
          9.494949494949495,
          9.696969696969697,
          9.8989898989899,
          10.1010101010101,
          10.303030303030303,
          10.505050505050505,
          10.707070707070708,
          10.909090909090908,
          11.11111111111111,
          11.313131313131313,
          11.515151515151516,
          11.717171717171716,
          11.919191919191919,
          12.121212121212121,
          12.323232323232324,
          12.525252525252524,
          12.727272727272727,
          12.929292929292929,
          13.131313131313131,
          13.333333333333334,
          13.535353535353535,
          13.737373737373737,
          13.93939393939394,
          14.141414141414142,
          14.343434343434343,
          14.545454545454545,
          14.747474747474747,
          14.94949494949495,
          15.15151515151515,
          15.353535353535353,
          15.555555555555555,
          15.757575757575758,
          15.959595959595958,
          16.161616161616163,
          16.363636363636363,
          16.565656565656564,
          16.767676767676768,
          16.96969696969697,
          17.171717171717173,
          17.373737373737374,
          17.575757575757574,
          17.77777777777778,
          17.97979797979798,
          18.18181818181818,
          18.383838383838384,
          18.585858585858585,
          18.78787878787879,
          18.98989898989899,
          19.19191919191919,
          19.393939393939394,
          19.595959595959595,
          19.7979797979798,
          20
         ],
         "xaxis": "x",
         "y": [
          0,
          0.1295704401966442,
          0.04707160862202547,
          0.2117990047863673,
          0.003343525965842205,
          -0.869681036037596,
          0.2383225693755197,
          -0.6120096857201609,
          -0.5174794911359742,
          -0.16054299722177914,
          0.5793823145914305,
          -0.14093243440616535,
          0.48403175634690077,
          0.18505897020377446,
          0.8740474255076025,
          0.7859471216815521,
          1.107021526658813,
          -0.3263855744895594,
          0.5050532974840696,
          -0.4508902675110924,
          -0.8943474122447587,
          -0.03526399918501795,
          -0.019159341447769495,
          -0.5926863649658971,
          1.055928694397696,
          -0.8408996862181318,
          0.8717842421075424,
          0.28375250650573575,
          -0.14766420723560084,
          0.8998907624921704,
          0.9090618190427556,
          -1.0106855443531457,
          0.5522501756074809,
          -0.797523463560082,
          -0.3067217868246316,
          -0.8901528346072122,
          0.9123867345528412,
          0.46281656750497546,
          -0.05256656725237634,
          0.07938017735082643,
          -0.4529304599648297,
          1.121692814179252,
          -1.1367963935467496,
          0.9750243940981692,
          0.9456790151118288,
          0.9559642450272299,
          0.4019693960521769,
          -0.9095165533142399,
          -0.13317669597127096,
          -0.48264677558422747,
          0.59215484864363,
          0.8415607104407811,
          1.0723457646234016,
          -0.6787823182269647,
          0.9489040113472589,
          0.4358305035345846,
          -0.002934688849737571,
          0.2306105165549713,
          -0.4056037973191488,
          0.6186908167817252,
          0.9861551891968333,
          -1.1592385550210607,
          0.9020884218295159,
          -0.2733220897582708,
          0.7515274373875575,
          0.6779891432108156,
          0.5978119514320667,
          -0.7105310028078881,
          -0.6613570293468102,
          -0.3030847051992359,
          0.06373617381509794,
          0.07998367562318648,
          0.2937434542432876,
          0.6061462966076128,
          0.543240993813091,
          -0.9646222654418988,
          0.9349619133073532,
          0.6831083499610245,
          -0.4313239066841828,
          -0.015199958335463292,
          0.36671365362648933,
          0.5418321617548237,
          -0.2560150083091483,
          -0.7282592876614405,
          0.8164025053517298,
          0.2529827844003678,
          -0.9463552751265895,
          -0.5420971934175048,
          -0.7802652199442273,
          0.35652528771628367,
          0.938845786937178,
          -0.36326840744195515,
          -0.4614796516279999,
          -0.22889931522782328,
          -0.6411995247412524,
          -0.06903905506529344,
          -0.9862550119770647,
          0.868428249323901,
          -0.9526810161089362,
          0.5243734130065031
         ],
         "yaxis": "y"
        }
       ],
       "layout": {
        "autosize": false,
        "height": 500,
        "legend": {
         "tracegroupgap": 0
        },
        "margin": {
         "t": 60
        },
        "template": {
         "data": {
          "bar": [
           {
            "error_x": {
             "color": "#2a3f5f"
            },
            "error_y": {
             "color": "#2a3f5f"
            },
            "marker": {
             "line": {
              "color": "white",
              "width": 0.5
             },
             "pattern": {
              "fillmode": "overlay",
              "size": 10,
              "solidity": 0.2
             }
            },
            "type": "bar"
           }
          ],
          "barpolar": [
           {
            "marker": {
             "line": {
              "color": "white",
              "width": 0.5
             },
             "pattern": {
              "fillmode": "overlay",
              "size": 10,
              "solidity": 0.2
             }
            },
            "type": "barpolar"
           }
          ],
          "carpet": [
           {
            "aaxis": {
             "endlinecolor": "#2a3f5f",
             "gridcolor": "#C8D4E3",
             "linecolor": "#C8D4E3",
             "minorgridcolor": "#C8D4E3",
             "startlinecolor": "#2a3f5f"
            },
            "baxis": {
             "endlinecolor": "#2a3f5f",
             "gridcolor": "#C8D4E3",
             "linecolor": "#C8D4E3",
             "minorgridcolor": "#C8D4E3",
             "startlinecolor": "#2a3f5f"
            },
            "type": "carpet"
           }
          ],
          "choropleth": [
           {
            "colorbar": {
             "outlinewidth": 0,
             "ticks": ""
            },
            "type": "choropleth"
           }
          ],
          "contour": [
           {
            "colorbar": {
             "outlinewidth": 0,
             "ticks": ""
            },
            "colorscale": [
             [
              0,
              "#0d0887"
             ],
             [
              0.1111111111111111,
              "#46039f"
             ],
             [
              0.2222222222222222,
              "#7201a8"
             ],
             [
              0.3333333333333333,
              "#9c179e"
             ],
             [
              0.4444444444444444,
              "#bd3786"
             ],
             [
              0.5555555555555556,
              "#d8576b"
             ],
             [
              0.6666666666666666,
              "#ed7953"
             ],
             [
              0.7777777777777778,
              "#fb9f3a"
             ],
             [
              0.8888888888888888,
              "#fdca26"
             ],
             [
              1,
              "#f0f921"
             ]
            ],
            "type": "contour"
           }
          ],
          "contourcarpet": [
           {
            "colorbar": {
             "outlinewidth": 0,
             "ticks": ""
            },
            "type": "contourcarpet"
           }
          ],
          "heatmap": [
           {
            "colorbar": {
             "outlinewidth": 0,
             "ticks": ""
            },
            "colorscale": [
             [
              0,
              "#0d0887"
             ],
             [
              0.1111111111111111,
              "#46039f"
             ],
             [
              0.2222222222222222,
              "#7201a8"
             ],
             [
              0.3333333333333333,
              "#9c179e"
             ],
             [
              0.4444444444444444,
              "#bd3786"
             ],
             [
              0.5555555555555556,
              "#d8576b"
             ],
             [
              0.6666666666666666,
              "#ed7953"
             ],
             [
              0.7777777777777778,
              "#fb9f3a"
             ],
             [
              0.8888888888888888,
              "#fdca26"
             ],
             [
              1,
              "#f0f921"
             ]
            ],
            "type": "heatmap"
           }
          ],
          "heatmapgl": [
           {
            "colorbar": {
             "outlinewidth": 0,
             "ticks": ""
            },
            "colorscale": [
             [
              0,
              "#0d0887"
             ],
             [
              0.1111111111111111,
              "#46039f"
             ],
             [
              0.2222222222222222,
              "#7201a8"
             ],
             [
              0.3333333333333333,
              "#9c179e"
             ],
             [
              0.4444444444444444,
              "#bd3786"
             ],
             [
              0.5555555555555556,
              "#d8576b"
             ],
             [
              0.6666666666666666,
              "#ed7953"
             ],
             [
              0.7777777777777778,
              "#fb9f3a"
             ],
             [
              0.8888888888888888,
              "#fdca26"
             ],
             [
              1,
              "#f0f921"
             ]
            ],
            "type": "heatmapgl"
           }
          ],
          "histogram": [
           {
            "marker": {
             "pattern": {
              "fillmode": "overlay",
              "size": 10,
              "solidity": 0.2
             }
            },
            "type": "histogram"
           }
          ],
          "histogram2d": [
           {
            "colorbar": {
             "outlinewidth": 0,
             "ticks": ""
            },
            "colorscale": [
             [
              0,
              "#0d0887"
             ],
             [
              0.1111111111111111,
              "#46039f"
             ],
             [
              0.2222222222222222,
              "#7201a8"
             ],
             [
              0.3333333333333333,
              "#9c179e"
             ],
             [
              0.4444444444444444,
              "#bd3786"
             ],
             [
              0.5555555555555556,
              "#d8576b"
             ],
             [
              0.6666666666666666,
              "#ed7953"
             ],
             [
              0.7777777777777778,
              "#fb9f3a"
             ],
             [
              0.8888888888888888,
              "#fdca26"
             ],
             [
              1,
              "#f0f921"
             ]
            ],
            "type": "histogram2d"
           }
          ],
          "histogram2dcontour": [
           {
            "colorbar": {
             "outlinewidth": 0,
             "ticks": ""
            },
            "colorscale": [
             [
              0,
              "#0d0887"
             ],
             [
              0.1111111111111111,
              "#46039f"
             ],
             [
              0.2222222222222222,
              "#7201a8"
             ],
             [
              0.3333333333333333,
              "#9c179e"
             ],
             [
              0.4444444444444444,
              "#bd3786"
             ],
             [
              0.5555555555555556,
              "#d8576b"
             ],
             [
              0.6666666666666666,
              "#ed7953"
             ],
             [
              0.7777777777777778,
              "#fb9f3a"
             ],
             [
              0.8888888888888888,
              "#fdca26"
             ],
             [
              1,
              "#f0f921"
             ]
            ],
            "type": "histogram2dcontour"
           }
          ],
          "mesh3d": [
           {
            "colorbar": {
             "outlinewidth": 0,
             "ticks": ""
            },
            "type": "mesh3d"
           }
          ],
          "parcoords": [
           {
            "line": {
             "colorbar": {
              "outlinewidth": 0,
              "ticks": ""
             }
            },
            "type": "parcoords"
           }
          ],
          "pie": [
           {
            "automargin": true,
            "type": "pie"
           }
          ],
          "scatter": [
           {
            "fillpattern": {
             "fillmode": "overlay",
             "size": 10,
             "solidity": 0.2
            },
            "type": "scatter"
           }
          ],
          "scatter3d": [
           {
            "line": {
             "colorbar": {
              "outlinewidth": 0,
              "ticks": ""
             }
            },
            "marker": {
             "colorbar": {
              "outlinewidth": 0,
              "ticks": ""
             }
            },
            "type": "scatter3d"
           }
          ],
          "scattercarpet": [
           {
            "marker": {
             "colorbar": {
              "outlinewidth": 0,
              "ticks": ""
             }
            },
            "type": "scattercarpet"
           }
          ],
          "scattergeo": [
           {
            "marker": {
             "colorbar": {
              "outlinewidth": 0,
              "ticks": ""
             }
            },
            "type": "scattergeo"
           }
          ],
          "scattergl": [
           {
            "marker": {
             "colorbar": {
              "outlinewidth": 0,
              "ticks": ""
             }
            },
            "type": "scattergl"
           }
          ],
          "scattermapbox": [
           {
            "marker": {
             "colorbar": {
              "outlinewidth": 0,
              "ticks": ""
             }
            },
            "type": "scattermapbox"
           }
          ],
          "scatterpolar": [
           {
            "marker": {
             "colorbar": {
              "outlinewidth": 0,
              "ticks": ""
             }
            },
            "type": "scatterpolar"
           }
          ],
          "scatterpolargl": [
           {
            "marker": {
             "colorbar": {
              "outlinewidth": 0,
              "ticks": ""
             }
            },
            "type": "scatterpolargl"
           }
          ],
          "scatterternary": [
           {
            "marker": {
             "colorbar": {
              "outlinewidth": 0,
              "ticks": ""
             }
            },
            "type": "scatterternary"
           }
          ],
          "surface": [
           {
            "colorbar": {
             "outlinewidth": 0,
             "ticks": ""
            },
            "colorscale": [
             [
              0,
              "#0d0887"
             ],
             [
              0.1111111111111111,
              "#46039f"
             ],
             [
              0.2222222222222222,
              "#7201a8"
             ],
             [
              0.3333333333333333,
              "#9c179e"
             ],
             [
              0.4444444444444444,
              "#bd3786"
             ],
             [
              0.5555555555555556,
              "#d8576b"
             ],
             [
              0.6666666666666666,
              "#ed7953"
             ],
             [
              0.7777777777777778,
              "#fb9f3a"
             ],
             [
              0.8888888888888888,
              "#fdca26"
             ],
             [
              1,
              "#f0f921"
             ]
            ],
            "type": "surface"
           }
          ],
          "table": [
           {
            "cells": {
             "fill": {
              "color": "#EBF0F8"
             },
             "line": {
              "color": "white"
             }
            },
            "header": {
             "fill": {
              "color": "#C8D4E3"
             },
             "line": {
              "color": "white"
             }
            },
            "type": "table"
           }
          ]
         },
         "layout": {
          "annotationdefaults": {
           "arrowcolor": "#2a3f5f",
           "arrowhead": 0,
           "arrowwidth": 1
          },
          "autotypenumbers": "strict",
          "coloraxis": {
           "colorbar": {
            "outlinewidth": 0,
            "ticks": ""
           }
          },
          "colorscale": {
           "diverging": [
            [
             0,
             "#8e0152"
            ],
            [
             0.1,
             "#c51b7d"
            ],
            [
             0.2,
             "#de77ae"
            ],
            [
             0.3,
             "#f1b6da"
            ],
            [
             0.4,
             "#fde0ef"
            ],
            [
             0.5,
             "#f7f7f7"
            ],
            [
             0.6,
             "#e6f5d0"
            ],
            [
             0.7,
             "#b8e186"
            ],
            [
             0.8,
             "#7fbc41"
            ],
            [
             0.9,
             "#4d9221"
            ],
            [
             1,
             "#276419"
            ]
           ],
           "sequential": [
            [
             0,
             "#0d0887"
            ],
            [
             0.1111111111111111,
             "#46039f"
            ],
            [
             0.2222222222222222,
             "#7201a8"
            ],
            [
             0.3333333333333333,
             "#9c179e"
            ],
            [
             0.4444444444444444,
             "#bd3786"
            ],
            [
             0.5555555555555556,
             "#d8576b"
            ],
            [
             0.6666666666666666,
             "#ed7953"
            ],
            [
             0.7777777777777778,
             "#fb9f3a"
            ],
            [
             0.8888888888888888,
             "#fdca26"
            ],
            [
             1,
             "#f0f921"
            ]
           ],
           "sequentialminus": [
            [
             0,
             "#0d0887"
            ],
            [
             0.1111111111111111,
             "#46039f"
            ],
            [
             0.2222222222222222,
             "#7201a8"
            ],
            [
             0.3333333333333333,
             "#9c179e"
            ],
            [
             0.4444444444444444,
             "#bd3786"
            ],
            [
             0.5555555555555556,
             "#d8576b"
            ],
            [
             0.6666666666666666,
             "#ed7953"
            ],
            [
             0.7777777777777778,
             "#fb9f3a"
            ],
            [
             0.8888888888888888,
             "#fdca26"
            ],
            [
             1,
             "#f0f921"
            ]
           ]
          },
          "colorway": [
           "#636efa",
           "#EF553B",
           "#00cc96",
           "#ab63fa",
           "#FFA15A",
           "#19d3f3",
           "#FF6692",
           "#B6E880",
           "#FF97FF",
           "#FECB52"
          ],
          "font": {
           "color": "#2a3f5f"
          },
          "geo": {
           "bgcolor": "white",
           "lakecolor": "white",
           "landcolor": "white",
           "showlakes": true,
           "showland": true,
           "subunitcolor": "#C8D4E3"
          },
          "hoverlabel": {
           "align": "left"
          },
          "hovermode": "closest",
          "mapbox": {
           "style": "light"
          },
          "paper_bgcolor": "white",
          "plot_bgcolor": "white",
          "polar": {
           "angularaxis": {
            "gridcolor": "#EBF0F8",
            "linecolor": "#EBF0F8",
            "ticks": ""
           },
           "bgcolor": "white",
           "radialaxis": {
            "gridcolor": "#EBF0F8",
            "linecolor": "#EBF0F8",
            "ticks": ""
           }
          },
          "scene": {
           "xaxis": {
            "backgroundcolor": "white",
            "gridcolor": "#DFE8F3",
            "gridwidth": 2,
            "linecolor": "#EBF0F8",
            "showbackground": true,
            "ticks": "",
            "zerolinecolor": "#EBF0F8"
           },
           "yaxis": {
            "backgroundcolor": "white",
            "gridcolor": "#DFE8F3",
            "gridwidth": 2,
            "linecolor": "#EBF0F8",
            "showbackground": true,
            "ticks": "",
            "zerolinecolor": "#EBF0F8"
           },
           "zaxis": {
            "backgroundcolor": "white",
            "gridcolor": "#DFE8F3",
            "gridwidth": 2,
            "linecolor": "#EBF0F8",
            "showbackground": true,
            "ticks": "",
            "zerolinecolor": "#EBF0F8"
           }
          },
          "shapedefaults": {
           "line": {
            "color": "#2a3f5f"
           }
          },
          "ternary": {
           "aaxis": {
            "gridcolor": "#DFE8F3",
            "linecolor": "#A2B1C6",
            "ticks": ""
           },
           "baxis": {
            "gridcolor": "#DFE8F3",
            "linecolor": "#A2B1C6",
            "ticks": ""
           },
           "bgcolor": "white",
           "caxis": {
            "gridcolor": "#DFE8F3",
            "linecolor": "#A2B1C6",
            "ticks": ""
           }
          },
          "title": {
           "x": 0.05
          },
          "xaxis": {
           "automargin": true,
           "gridcolor": "#EBF0F8",
           "linecolor": "#EBF0F8",
           "ticks": "",
           "title": {
            "standoff": 15
           },
           "zerolinecolor": "#EBF0F8",
           "zerolinewidth": 2
          },
          "yaxis": {
           "automargin": true,
           "gridcolor": "#EBF0F8",
           "linecolor": "#EBF0F8",
           "ticks": "",
           "title": {
            "standoff": 15
           },
           "zerolinecolor": "#EBF0F8",
           "zerolinewidth": 2
          }
         }
        },
        "title": {
         "font": {
          "size": 25
         },
         "text": "",
         "x": 0.5,
         "xanchor": "center",
         "yanchor": "top"
        },
        "width": 900,
        "xaxis": {
         "anchor": "y",
         "domain": [
          0,
          1
         ],
         "title": {
          "font": {
           "size": 12
          },
          "text": "Time"
         }
        },
        "yaxis": {
         "anchor": "x",
         "domain": [
          0,
          1
         ],
         "title": {
          "font": {
           "size": 12
          },
          "text": "Value"
         }
        }
       }
      }
     },
     "metadata": {},
     "output_type": "display_data"
    }
   ],
   "source": [
    "fig = plot_time_series(regular_time_samples, \n",
    "                 samples, \n",
    "                 \"\")\n",
    "fig.write_image(\"imgs/chapter_1/pseudo_process.png\")\n",
    "fig.show()"
   ]
  },
  {
   "cell_type": "markdown",
   "id": "0c7202dd-c007-41d4-b67d-436dd46e4a9b",
   "metadata": {},
   "source": [
    "## Auto Regressive"
   ]
  },
  {
   "cell_type": "code",
   "execution_count": 12,
   "id": "fe132539-0dd9-45c9-b450-c1293e0aa258",
   "metadata": {},
   "outputs": [],
   "source": [
    "# THIS DOESNT WORK DUE TO A BUG IN TIMESYNTH package.  As of 3/16/24 the issue is still open.\n",
    "# Autoregressive signal with parameters 1.5 and -0.75\n",
    "# Link to issue https://github.com/TimeSynth/TimeSynth/issues/23\n",
    "\n",
    "# y(t) = 1.5*y(t-1) - 0.75*y(t-2)\n",
    "signal=AutoRegressive(ar_param=[1.5, -0.75])\n",
    "#Generate Timeseries\n",
    "samples, regular_time_samples, signals, errors = generate_timeseries(signal=signal)\n",
    "\n"
   ]
  },
  {
   "cell_type": "code",
   "execution_count": 13,
   "id": "647375f6-b0d5-4d34-98ac-2e881f80d4f8",
   "metadata": {},
   "outputs": [
    {
     "data": {
      "application/vnd.plotly.v1+json": {
       "config": {
        "plotlyServerURL": "https://plot.ly"
       },
       "data": [
        {
         "hovertemplate": "Time=%{x}<br>Value=%{y}<extra></extra>",
         "legendgroup": "",
         "line": {
          "color": "#636efa",
          "dash": "solid"
         },
         "marker": {
          "symbol": "circle"
         },
         "mode": "lines",
         "name": "",
         "orientation": "v",
         "showlegend": false,
         "type": "scatter",
         "x": [
          0,
          0.20202020202020202,
          0.40404040404040403,
          0.6060606060606061,
          0.8080808080808081,
          1.0101010101010102,
          1.2121212121212122,
          1.4141414141414141,
          1.6161616161616161,
          1.8181818181818181,
          2.0202020202020203,
          2.2222222222222223,
          2.4242424242424243,
          2.6262626262626263,
          2.8282828282828283,
          3.0303030303030303,
          3.2323232323232323,
          3.4343434343434343,
          3.6363636363636362,
          3.8383838383838382,
          4.040404040404041,
          4.242424242424242,
          4.444444444444445,
          4.646464646464646,
          4.848484848484849,
          5.05050505050505,
          5.252525252525253,
          5.454545454545454,
          5.656565656565657,
          5.858585858585858,
          6.0606060606060606,
          6.262626262626262,
          6.4646464646464645,
          6.666666666666667,
          6.8686868686868685,
          7.070707070707071,
          7.2727272727272725,
          7.474747474747475,
          7.6767676767676765,
          7.878787878787879,
          8.080808080808081,
          8.282828282828282,
          8.484848484848484,
          8.686868686868687,
          8.88888888888889,
          9.09090909090909,
          9.292929292929292,
          9.494949494949495,
          9.696969696969697,
          9.8989898989899,
          10.1010101010101,
          10.303030303030303,
          10.505050505050505,
          10.707070707070708,
          10.909090909090908,
          11.11111111111111,
          11.313131313131313,
          11.515151515151516,
          11.717171717171716,
          11.919191919191919,
          12.121212121212121,
          12.323232323232324,
          12.525252525252524,
          12.727272727272727,
          12.929292929292929,
          13.131313131313131,
          13.333333333333334,
          13.535353535353535,
          13.737373737373737,
          13.93939393939394,
          14.141414141414142,
          14.343434343434343,
          14.545454545454545,
          14.747474747474747,
          14.94949494949495,
          15.15151515151515,
          15.353535353535353,
          15.555555555555555,
          15.757575757575758,
          15.959595959595958,
          16.161616161616163,
          16.363636363636363,
          16.565656565656564,
          16.767676767676768,
          16.96969696969697,
          17.171717171717173,
          17.373737373737374,
          17.575757575757574,
          17.77777777777778,
          17.97979797979798,
          18.18181818181818,
          18.383838383838384,
          18.585858585858585,
          18.78787878787879,
          18.98989898989899,
          19.19191919191919,
          19.393939393939394,
          19.595959595959595,
          19.7979797979798,
          20
         ],
         "xaxis": "x",
         "y": [
          -0.032867487164403936,
          -0.2853359677374841,
          -0.37556613895986424,
          -1.3761627297794017,
          -2.270803701544282,
          -1.4991537333154605,
          -0.06465015764571835,
          0.8826134328715115,
          1.3331679375911918,
          1.0735961801790392,
          1.2194267316047753,
          1.1707251227912026,
          0.3270590484760588,
          0.0967047072378791,
          0.06114177079005506,
          -0.2182357991581345,
          -0.28470521741020266,
          -0.34459972479922346,
          -0.2172743291708306,
          -0.3471304190274097,
          -0.7239856044675679,
          -2.603449996588332,
          -3.856695343167733,
          -3.7301321246476333,
          -2.091747956355241,
          -0.4996054950179385,
          0.8959727381063511,
          1.9510503727282924,
          1.8175869747658786,
          0.9990641216736582,
          -0.037037834054758356,
          -0.7265113287042932,
          -1.3204006193767652,
          -1.8431401489858716,
          -1.3389168665407807,
          -0.15750248458734495,
          1.6036031008611922,
          2.4608589012285083,
          3.023641378390524,
          2.7239876006809074,
          1.8643260396072463,
          0.11789465353495365,
          -0.8991750425395395,
          -1.1694318723227395,
          -0.16717773247539836,
          -0.2042293636493432,
          0.6385873786189333,
          0.9880158306057544,
          0.751350085559022,
          0.025640814795456546,
          -0.4047023537562682,
          -1.4895803748704735,
          -2.4178426374983113,
          -2.3741530716304764,
          -1.7471543705443155,
          -0.4825847925878548,
          1.0383165797236393,
          1.6238241096062014,
          2.4596206004482823,
          1.8160998979200675,
          1.7630648163776452,
          1.1483736474663935,
          0.14507790040059304,
          -1.2006539476921079,
          -2.6263264830225252,
          -3.1384607763777206,
          -3.0354188814400476,
          -1.7975744855773137,
          -1.287970637778053,
          -1.008456224975915,
          -0.929856790382108,
          -0.7143549803345917,
          -1.058869890777088,
          -0.9077168666821585,
          -0.714327589859118,
          -0.7919182605607782,
          -0.7031058641878127,
          -0.2692370995078103,
          0.9993207936719786,
          1.4392016426004401,
          1.579909429277154,
          0.07201477023238145,
          -0.8811938014214346,
          -0.5229893119420863,
          -0.2693806246557893,
          0.14238056633549018,
          0.45244820803496405,
          1.4225831684367685,
          1.3197286253837508,
          1.1575395189193158,
          1.6788415785160322,
          1.694292852996331,
          1.290538497719112,
          0.24201760395479915,
          -0.7290355588593496,
          -1.8567506246976322,
          -1.7128087627986477,
          -0.9466350098224927,
          0.8946258510616987,
          1.8428339920965664
         ],
         "yaxis": "y"
        }
       ],
       "layout": {
        "autosize": false,
        "height": 500,
        "legend": {
         "tracegroupgap": 0
        },
        "margin": {
         "t": 60
        },
        "template": {
         "data": {
          "bar": [
           {
            "error_x": {
             "color": "#2a3f5f"
            },
            "error_y": {
             "color": "#2a3f5f"
            },
            "marker": {
             "line": {
              "color": "white",
              "width": 0.5
             },
             "pattern": {
              "fillmode": "overlay",
              "size": 10,
              "solidity": 0.2
             }
            },
            "type": "bar"
           }
          ],
          "barpolar": [
           {
            "marker": {
             "line": {
              "color": "white",
              "width": 0.5
             },
             "pattern": {
              "fillmode": "overlay",
              "size": 10,
              "solidity": 0.2
             }
            },
            "type": "barpolar"
           }
          ],
          "carpet": [
           {
            "aaxis": {
             "endlinecolor": "#2a3f5f",
             "gridcolor": "#C8D4E3",
             "linecolor": "#C8D4E3",
             "minorgridcolor": "#C8D4E3",
             "startlinecolor": "#2a3f5f"
            },
            "baxis": {
             "endlinecolor": "#2a3f5f",
             "gridcolor": "#C8D4E3",
             "linecolor": "#C8D4E3",
             "minorgridcolor": "#C8D4E3",
             "startlinecolor": "#2a3f5f"
            },
            "type": "carpet"
           }
          ],
          "choropleth": [
           {
            "colorbar": {
             "outlinewidth": 0,
             "ticks": ""
            },
            "type": "choropleth"
           }
          ],
          "contour": [
           {
            "colorbar": {
             "outlinewidth": 0,
             "ticks": ""
            },
            "colorscale": [
             [
              0,
              "#0d0887"
             ],
             [
              0.1111111111111111,
              "#46039f"
             ],
             [
              0.2222222222222222,
              "#7201a8"
             ],
             [
              0.3333333333333333,
              "#9c179e"
             ],
             [
              0.4444444444444444,
              "#bd3786"
             ],
             [
              0.5555555555555556,
              "#d8576b"
             ],
             [
              0.6666666666666666,
              "#ed7953"
             ],
             [
              0.7777777777777778,
              "#fb9f3a"
             ],
             [
              0.8888888888888888,
              "#fdca26"
             ],
             [
              1,
              "#f0f921"
             ]
            ],
            "type": "contour"
           }
          ],
          "contourcarpet": [
           {
            "colorbar": {
             "outlinewidth": 0,
             "ticks": ""
            },
            "type": "contourcarpet"
           }
          ],
          "heatmap": [
           {
            "colorbar": {
             "outlinewidth": 0,
             "ticks": ""
            },
            "colorscale": [
             [
              0,
              "#0d0887"
             ],
             [
              0.1111111111111111,
              "#46039f"
             ],
             [
              0.2222222222222222,
              "#7201a8"
             ],
             [
              0.3333333333333333,
              "#9c179e"
             ],
             [
              0.4444444444444444,
              "#bd3786"
             ],
             [
              0.5555555555555556,
              "#d8576b"
             ],
             [
              0.6666666666666666,
              "#ed7953"
             ],
             [
              0.7777777777777778,
              "#fb9f3a"
             ],
             [
              0.8888888888888888,
              "#fdca26"
             ],
             [
              1,
              "#f0f921"
             ]
            ],
            "type": "heatmap"
           }
          ],
          "heatmapgl": [
           {
            "colorbar": {
             "outlinewidth": 0,
             "ticks": ""
            },
            "colorscale": [
             [
              0,
              "#0d0887"
             ],
             [
              0.1111111111111111,
              "#46039f"
             ],
             [
              0.2222222222222222,
              "#7201a8"
             ],
             [
              0.3333333333333333,
              "#9c179e"
             ],
             [
              0.4444444444444444,
              "#bd3786"
             ],
             [
              0.5555555555555556,
              "#d8576b"
             ],
             [
              0.6666666666666666,
              "#ed7953"
             ],
             [
              0.7777777777777778,
              "#fb9f3a"
             ],
             [
              0.8888888888888888,
              "#fdca26"
             ],
             [
              1,
              "#f0f921"
             ]
            ],
            "type": "heatmapgl"
           }
          ],
          "histogram": [
           {
            "marker": {
             "pattern": {
              "fillmode": "overlay",
              "size": 10,
              "solidity": 0.2
             }
            },
            "type": "histogram"
           }
          ],
          "histogram2d": [
           {
            "colorbar": {
             "outlinewidth": 0,
             "ticks": ""
            },
            "colorscale": [
             [
              0,
              "#0d0887"
             ],
             [
              0.1111111111111111,
              "#46039f"
             ],
             [
              0.2222222222222222,
              "#7201a8"
             ],
             [
              0.3333333333333333,
              "#9c179e"
             ],
             [
              0.4444444444444444,
              "#bd3786"
             ],
             [
              0.5555555555555556,
              "#d8576b"
             ],
             [
              0.6666666666666666,
              "#ed7953"
             ],
             [
              0.7777777777777778,
              "#fb9f3a"
             ],
             [
              0.8888888888888888,
              "#fdca26"
             ],
             [
              1,
              "#f0f921"
             ]
            ],
            "type": "histogram2d"
           }
          ],
          "histogram2dcontour": [
           {
            "colorbar": {
             "outlinewidth": 0,
             "ticks": ""
            },
            "colorscale": [
             [
              0,
              "#0d0887"
             ],
             [
              0.1111111111111111,
              "#46039f"
             ],
             [
              0.2222222222222222,
              "#7201a8"
             ],
             [
              0.3333333333333333,
              "#9c179e"
             ],
             [
              0.4444444444444444,
              "#bd3786"
             ],
             [
              0.5555555555555556,
              "#d8576b"
             ],
             [
              0.6666666666666666,
              "#ed7953"
             ],
             [
              0.7777777777777778,
              "#fb9f3a"
             ],
             [
              0.8888888888888888,
              "#fdca26"
             ],
             [
              1,
              "#f0f921"
             ]
            ],
            "type": "histogram2dcontour"
           }
          ],
          "mesh3d": [
           {
            "colorbar": {
             "outlinewidth": 0,
             "ticks": ""
            },
            "type": "mesh3d"
           }
          ],
          "parcoords": [
           {
            "line": {
             "colorbar": {
              "outlinewidth": 0,
              "ticks": ""
             }
            },
            "type": "parcoords"
           }
          ],
          "pie": [
           {
            "automargin": true,
            "type": "pie"
           }
          ],
          "scatter": [
           {
            "fillpattern": {
             "fillmode": "overlay",
             "size": 10,
             "solidity": 0.2
            },
            "type": "scatter"
           }
          ],
          "scatter3d": [
           {
            "line": {
             "colorbar": {
              "outlinewidth": 0,
              "ticks": ""
             }
            },
            "marker": {
             "colorbar": {
              "outlinewidth": 0,
              "ticks": ""
             }
            },
            "type": "scatter3d"
           }
          ],
          "scattercarpet": [
           {
            "marker": {
             "colorbar": {
              "outlinewidth": 0,
              "ticks": ""
             }
            },
            "type": "scattercarpet"
           }
          ],
          "scattergeo": [
           {
            "marker": {
             "colorbar": {
              "outlinewidth": 0,
              "ticks": ""
             }
            },
            "type": "scattergeo"
           }
          ],
          "scattergl": [
           {
            "marker": {
             "colorbar": {
              "outlinewidth": 0,
              "ticks": ""
             }
            },
            "type": "scattergl"
           }
          ],
          "scattermapbox": [
           {
            "marker": {
             "colorbar": {
              "outlinewidth": 0,
              "ticks": ""
             }
            },
            "type": "scattermapbox"
           }
          ],
          "scatterpolar": [
           {
            "marker": {
             "colorbar": {
              "outlinewidth": 0,
              "ticks": ""
             }
            },
            "type": "scatterpolar"
           }
          ],
          "scatterpolargl": [
           {
            "marker": {
             "colorbar": {
              "outlinewidth": 0,
              "ticks": ""
             }
            },
            "type": "scatterpolargl"
           }
          ],
          "scatterternary": [
           {
            "marker": {
             "colorbar": {
              "outlinewidth": 0,
              "ticks": ""
             }
            },
            "type": "scatterternary"
           }
          ],
          "surface": [
           {
            "colorbar": {
             "outlinewidth": 0,
             "ticks": ""
            },
            "colorscale": [
             [
              0,
              "#0d0887"
             ],
             [
              0.1111111111111111,
              "#46039f"
             ],
             [
              0.2222222222222222,
              "#7201a8"
             ],
             [
              0.3333333333333333,
              "#9c179e"
             ],
             [
              0.4444444444444444,
              "#bd3786"
             ],
             [
              0.5555555555555556,
              "#d8576b"
             ],
             [
              0.6666666666666666,
              "#ed7953"
             ],
             [
              0.7777777777777778,
              "#fb9f3a"
             ],
             [
              0.8888888888888888,
              "#fdca26"
             ],
             [
              1,
              "#f0f921"
             ]
            ],
            "type": "surface"
           }
          ],
          "table": [
           {
            "cells": {
             "fill": {
              "color": "#EBF0F8"
             },
             "line": {
              "color": "white"
             }
            },
            "header": {
             "fill": {
              "color": "#C8D4E3"
             },
             "line": {
              "color": "white"
             }
            },
            "type": "table"
           }
          ]
         },
         "layout": {
          "annotationdefaults": {
           "arrowcolor": "#2a3f5f",
           "arrowhead": 0,
           "arrowwidth": 1
          },
          "autotypenumbers": "strict",
          "coloraxis": {
           "colorbar": {
            "outlinewidth": 0,
            "ticks": ""
           }
          },
          "colorscale": {
           "diverging": [
            [
             0,
             "#8e0152"
            ],
            [
             0.1,
             "#c51b7d"
            ],
            [
             0.2,
             "#de77ae"
            ],
            [
             0.3,
             "#f1b6da"
            ],
            [
             0.4,
             "#fde0ef"
            ],
            [
             0.5,
             "#f7f7f7"
            ],
            [
             0.6,
             "#e6f5d0"
            ],
            [
             0.7,
             "#b8e186"
            ],
            [
             0.8,
             "#7fbc41"
            ],
            [
             0.9,
             "#4d9221"
            ],
            [
             1,
             "#276419"
            ]
           ],
           "sequential": [
            [
             0,
             "#0d0887"
            ],
            [
             0.1111111111111111,
             "#46039f"
            ],
            [
             0.2222222222222222,
             "#7201a8"
            ],
            [
             0.3333333333333333,
             "#9c179e"
            ],
            [
             0.4444444444444444,
             "#bd3786"
            ],
            [
             0.5555555555555556,
             "#d8576b"
            ],
            [
             0.6666666666666666,
             "#ed7953"
            ],
            [
             0.7777777777777778,
             "#fb9f3a"
            ],
            [
             0.8888888888888888,
             "#fdca26"
            ],
            [
             1,
             "#f0f921"
            ]
           ],
           "sequentialminus": [
            [
             0,
             "#0d0887"
            ],
            [
             0.1111111111111111,
             "#46039f"
            ],
            [
             0.2222222222222222,
             "#7201a8"
            ],
            [
             0.3333333333333333,
             "#9c179e"
            ],
            [
             0.4444444444444444,
             "#bd3786"
            ],
            [
             0.5555555555555556,
             "#d8576b"
            ],
            [
             0.6666666666666666,
             "#ed7953"
            ],
            [
             0.7777777777777778,
             "#fb9f3a"
            ],
            [
             0.8888888888888888,
             "#fdca26"
            ],
            [
             1,
             "#f0f921"
            ]
           ]
          },
          "colorway": [
           "#636efa",
           "#EF553B",
           "#00cc96",
           "#ab63fa",
           "#FFA15A",
           "#19d3f3",
           "#FF6692",
           "#B6E880",
           "#FF97FF",
           "#FECB52"
          ],
          "font": {
           "color": "#2a3f5f"
          },
          "geo": {
           "bgcolor": "white",
           "lakecolor": "white",
           "landcolor": "white",
           "showlakes": true,
           "showland": true,
           "subunitcolor": "#C8D4E3"
          },
          "hoverlabel": {
           "align": "left"
          },
          "hovermode": "closest",
          "mapbox": {
           "style": "light"
          },
          "paper_bgcolor": "white",
          "plot_bgcolor": "white",
          "polar": {
           "angularaxis": {
            "gridcolor": "#EBF0F8",
            "linecolor": "#EBF0F8",
            "ticks": ""
           },
           "bgcolor": "white",
           "radialaxis": {
            "gridcolor": "#EBF0F8",
            "linecolor": "#EBF0F8",
            "ticks": ""
           }
          },
          "scene": {
           "xaxis": {
            "backgroundcolor": "white",
            "gridcolor": "#DFE8F3",
            "gridwidth": 2,
            "linecolor": "#EBF0F8",
            "showbackground": true,
            "ticks": "",
            "zerolinecolor": "#EBF0F8"
           },
           "yaxis": {
            "backgroundcolor": "white",
            "gridcolor": "#DFE8F3",
            "gridwidth": 2,
            "linecolor": "#EBF0F8",
            "showbackground": true,
            "ticks": "",
            "zerolinecolor": "#EBF0F8"
           },
           "zaxis": {
            "backgroundcolor": "white",
            "gridcolor": "#DFE8F3",
            "gridwidth": 2,
            "linecolor": "#EBF0F8",
            "showbackground": true,
            "ticks": "",
            "zerolinecolor": "#EBF0F8"
           }
          },
          "shapedefaults": {
           "line": {
            "color": "#2a3f5f"
           }
          },
          "ternary": {
           "aaxis": {
            "gridcolor": "#DFE8F3",
            "linecolor": "#A2B1C6",
            "ticks": ""
           },
           "baxis": {
            "gridcolor": "#DFE8F3",
            "linecolor": "#A2B1C6",
            "ticks": ""
           },
           "bgcolor": "white",
           "caxis": {
            "gridcolor": "#DFE8F3",
            "linecolor": "#A2B1C6",
            "ticks": ""
           }
          },
          "title": {
           "x": 0.05
          },
          "xaxis": {
           "automargin": true,
           "gridcolor": "#EBF0F8",
           "linecolor": "#EBF0F8",
           "ticks": "",
           "title": {
            "standoff": 15
           },
           "zerolinecolor": "#EBF0F8",
           "zerolinewidth": 2
          },
          "yaxis": {
           "automargin": true,
           "gridcolor": "#EBF0F8",
           "linecolor": "#EBF0F8",
           "ticks": "",
           "title": {
            "standoff": 15
           },
           "zerolinecolor": "#EBF0F8",
           "zerolinewidth": 2
          }
         }
        },
        "title": {
         "font": {
          "size": 25
         },
         "text": "",
         "x": 0.5,
         "xanchor": "center",
         "yanchor": "top"
        },
        "width": 900,
        "xaxis": {
         "anchor": "y",
         "domain": [
          0,
          1
         ],
         "title": {
          "font": {
           "size": 12
          },
          "text": "Time"
         }
        },
        "yaxis": {
         "anchor": "x",
         "domain": [
          0,
          1
         ],
         "title": {
          "font": {
           "size": 12
          },
          "text": "Value"
         }
        }
       }
      }
     },
     "metadata": {},
     "output_type": "display_data"
    }
   ],
   "source": [
    "fig = plot_time_series(regular_time_samples, \n",
    "                 samples, \n",
    "                 \"\")\n",
    "fig.write_image(\"imgs/chapter_1/auto_regressive.png\")\n",
    "fig.show()"
   ]
  },
  {
   "cell_type": "markdown",
   "id": "40e03252-655a-4a9a-8e36-9fc324dfcbe5",
   "metadata": {
    "tags": []
   },
   "source": [
    "## Mix and Match"
   ]
  },
  {
   "cell_type": "code",
   "execution_count": 14,
   "id": "90ce13a1-b6e8-4e04-ae75-1c3a4ff9175d",
   "metadata": {},
   "outputs": [],
   "source": [
    "#Generating Pseudo Periodic Signal\n",
    "pseudo_samples, regular_time_samples, _, _ = generate_timeseries(signal=ts.signals.PseudoPeriodic(amplitude=1, frequency=0.25), noise=ts.noise.GaussianNoise(std=0.3))\n",
    "# Generating an Autoregressive Signal\n",
    "ar_samples, regular_time_samples, _, _ = generate_timeseries(signal=AutoRegressive(ar_param=[1.5, -0.75]))\n",
    "# Combining the two signals using a mathematical equation\n",
    "timeseries_ = pseudo_samples*2+ar_samples"
   ]
  },
  {
   "cell_type": "code",
   "execution_count": 15,
   "id": "6c802544-e418-43b0-bcbf-ca1514507998",
   "metadata": {},
   "outputs": [
    {
     "data": {
      "application/vnd.plotly.v1+json": {
       "config": {
        "plotlyServerURL": "https://plot.ly"
       },
       "data": [
        {
         "hovertemplate": "Time=%{x}<br>Value=%{y}<extra></extra>",
         "legendgroup": "",
         "line": {
          "color": "#636efa",
          "dash": "solid"
         },
         "marker": {
          "symbol": "circle"
         },
         "mode": "lines",
         "name": "",
         "orientation": "v",
         "showlegend": false,
         "type": "scatter",
         "x": [
          0,
          0.20202020202020202,
          0.40404040404040403,
          0.6060606060606061,
          0.8080808080808081,
          1.0101010101010102,
          1.2121212121212122,
          1.4141414141414141,
          1.6161616161616161,
          1.8181818181818181,
          2.0202020202020203,
          2.2222222222222223,
          2.4242424242424243,
          2.6262626262626263,
          2.8282828282828283,
          3.0303030303030303,
          3.2323232323232323,
          3.4343434343434343,
          3.6363636363636362,
          3.8383838383838382,
          4.040404040404041,
          4.242424242424242,
          4.444444444444445,
          4.646464646464646,
          4.848484848484849,
          5.05050505050505,
          5.252525252525253,
          5.454545454545454,
          5.656565656565657,
          5.858585858585858,
          6.0606060606060606,
          6.262626262626262,
          6.4646464646464645,
          6.666666666666667,
          6.8686868686868685,
          7.070707070707071,
          7.2727272727272725,
          7.474747474747475,
          7.6767676767676765,
          7.878787878787879,
          8.080808080808081,
          8.282828282828282,
          8.484848484848484,
          8.686868686868687,
          8.88888888888889,
          9.09090909090909,
          9.292929292929292,
          9.494949494949495,
          9.696969696969697,
          9.8989898989899,
          10.1010101010101,
          10.303030303030303,
          10.505050505050505,
          10.707070707070708,
          10.909090909090908,
          11.11111111111111,
          11.313131313131313,
          11.515151515151516,
          11.717171717171716,
          11.919191919191919,
          12.121212121212121,
          12.323232323232324,
          12.525252525252524,
          12.727272727272727,
          12.929292929292929,
          13.131313131313131,
          13.333333333333334,
          13.535353535353535,
          13.737373737373737,
          13.93939393939394,
          14.141414141414142,
          14.343434343434343,
          14.545454545454545,
          14.747474747474747,
          14.94949494949495,
          15.15151515151515,
          15.353535353535353,
          15.555555555555555,
          15.757575757575758,
          15.959595959595958,
          16.161616161616163,
          16.363636363636363,
          16.565656565656564,
          16.767676767676768,
          16.96969696969697,
          17.171717171717173,
          17.373737373737374,
          17.575757575757574,
          17.77777777777778,
          17.97979797979798,
          18.18181818181818,
          18.383838383838384,
          18.585858585858585,
          18.78787878787879,
          18.98989898989899,
          19.19191919191919,
          19.393939393939394,
          19.595959595959595,
          19.7979797979798,
          20
         ],
         "xaxis": "x",
         "y": [
          -0.18395270494512433,
          -0.3603927144432526,
          2.9486127183016277,
          4.393775248569141,
          0.600799687924169,
          1.3597044831503036,
          -1.1712712720820906,
          -1.382598456095966,
          -0.7054333707497047,
          0.28423365949010093,
          2.480076277858,
          3.201765133929263,
          2.874908912159981,
          4.635314145828324,
          3.7993702320832994,
          -1.2950507484586709,
          1.4098473314555655,
          0.6147538119097904,
          -0.7089016820599979,
          -2.0078777055496118,
          -1.4469308952244324,
          1.2523334004646962,
          1.1104485176475296,
          -2.5235383862105127,
          -3.7649456901570577,
          -1.7045508225944122,
          -4.785592827540924,
          -1.4082057822691199,
          -2.789949793322947,
          2.2628358418635823,
          -0.6890622042549333,
          1.7088283430583648,
          2.8666444974106478,
          3.7016415526356794,
          0.792056357225976,
          1.8836126604621914,
          -0.5894368929582323,
          -2.93970797971811,
          -2.804056668422641,
          -4.8862045011719495,
          -3.3530520477606816,
          -1.9269671699076707,
          1.481783646862179,
          1.4786327631814835,
          1.227800532563876,
          0.1366114416847226,
          -2.577878831622608,
          -5.231242859544162,
          -5.195849129420655,
          -1.8476993931996055,
          -3.8104224359676593,
          2.315832512801342,
          2.8927449930510654,
          1.851691902566699,
          3.820275142830722,
          2.9623588724906234,
          -0.30373115901294234,
          -0.8309159732330896,
          0.006512521133380966,
          -4.335293714853073,
          -0.30869359695263365,
          -3.8778464314482832,
          -2.8454968168987933,
          -1.9590458445335555,
          -3.1795615247997904,
          0.20469527789141417,
          3.3589398469315364,
          5.282404653344381,
          4.201709247124638,
          2.3126401767614,
          -0.3951051164948387,
          -0.5199862977010121,
          -0.4725885775908971,
          -4.3785158692912525,
          -3.29894927988956,
          0.16720186797713676,
          -0.8724953383599784,
          -0.7246510109200692,
          -1.025923119065287,
          -0.24061410669351946,
          2.859321747633607,
          1.6700265678668988,
          0.5781624263669471,
          -1.9452502123370117,
          0.31176950904911743,
          -2.8687514529237386,
          -0.6641597696535141,
          -2.950657458738891,
          1.8201871421437523,
          -0.6645060637982496,
          -2.2287704306962017,
          -2.9805205941318933,
          1.1511964998420179,
          -2.638337703023388,
          -1.3776110045742969,
          0.5345382395772619,
          -2.8174732228222403,
          -3.4353024125305325,
          -1.5423819794202733,
          -1.2118897606710424
         ],
         "yaxis": "y"
        }
       ],
       "layout": {
        "autosize": false,
        "height": 500,
        "legend": {
         "tracegroupgap": 0
        },
        "margin": {
         "t": 60
        },
        "template": {
         "data": {
          "bar": [
           {
            "error_x": {
             "color": "#2a3f5f"
            },
            "error_y": {
             "color": "#2a3f5f"
            },
            "marker": {
             "line": {
              "color": "white",
              "width": 0.5
             },
             "pattern": {
              "fillmode": "overlay",
              "size": 10,
              "solidity": 0.2
             }
            },
            "type": "bar"
           }
          ],
          "barpolar": [
           {
            "marker": {
             "line": {
              "color": "white",
              "width": 0.5
             },
             "pattern": {
              "fillmode": "overlay",
              "size": 10,
              "solidity": 0.2
             }
            },
            "type": "barpolar"
           }
          ],
          "carpet": [
           {
            "aaxis": {
             "endlinecolor": "#2a3f5f",
             "gridcolor": "#C8D4E3",
             "linecolor": "#C8D4E3",
             "minorgridcolor": "#C8D4E3",
             "startlinecolor": "#2a3f5f"
            },
            "baxis": {
             "endlinecolor": "#2a3f5f",
             "gridcolor": "#C8D4E3",
             "linecolor": "#C8D4E3",
             "minorgridcolor": "#C8D4E3",
             "startlinecolor": "#2a3f5f"
            },
            "type": "carpet"
           }
          ],
          "choropleth": [
           {
            "colorbar": {
             "outlinewidth": 0,
             "ticks": ""
            },
            "type": "choropleth"
           }
          ],
          "contour": [
           {
            "colorbar": {
             "outlinewidth": 0,
             "ticks": ""
            },
            "colorscale": [
             [
              0,
              "#0d0887"
             ],
             [
              0.1111111111111111,
              "#46039f"
             ],
             [
              0.2222222222222222,
              "#7201a8"
             ],
             [
              0.3333333333333333,
              "#9c179e"
             ],
             [
              0.4444444444444444,
              "#bd3786"
             ],
             [
              0.5555555555555556,
              "#d8576b"
             ],
             [
              0.6666666666666666,
              "#ed7953"
             ],
             [
              0.7777777777777778,
              "#fb9f3a"
             ],
             [
              0.8888888888888888,
              "#fdca26"
             ],
             [
              1,
              "#f0f921"
             ]
            ],
            "type": "contour"
           }
          ],
          "contourcarpet": [
           {
            "colorbar": {
             "outlinewidth": 0,
             "ticks": ""
            },
            "type": "contourcarpet"
           }
          ],
          "heatmap": [
           {
            "colorbar": {
             "outlinewidth": 0,
             "ticks": ""
            },
            "colorscale": [
             [
              0,
              "#0d0887"
             ],
             [
              0.1111111111111111,
              "#46039f"
             ],
             [
              0.2222222222222222,
              "#7201a8"
             ],
             [
              0.3333333333333333,
              "#9c179e"
             ],
             [
              0.4444444444444444,
              "#bd3786"
             ],
             [
              0.5555555555555556,
              "#d8576b"
             ],
             [
              0.6666666666666666,
              "#ed7953"
             ],
             [
              0.7777777777777778,
              "#fb9f3a"
             ],
             [
              0.8888888888888888,
              "#fdca26"
             ],
             [
              1,
              "#f0f921"
             ]
            ],
            "type": "heatmap"
           }
          ],
          "heatmapgl": [
           {
            "colorbar": {
             "outlinewidth": 0,
             "ticks": ""
            },
            "colorscale": [
             [
              0,
              "#0d0887"
             ],
             [
              0.1111111111111111,
              "#46039f"
             ],
             [
              0.2222222222222222,
              "#7201a8"
             ],
             [
              0.3333333333333333,
              "#9c179e"
             ],
             [
              0.4444444444444444,
              "#bd3786"
             ],
             [
              0.5555555555555556,
              "#d8576b"
             ],
             [
              0.6666666666666666,
              "#ed7953"
             ],
             [
              0.7777777777777778,
              "#fb9f3a"
             ],
             [
              0.8888888888888888,
              "#fdca26"
             ],
             [
              1,
              "#f0f921"
             ]
            ],
            "type": "heatmapgl"
           }
          ],
          "histogram": [
           {
            "marker": {
             "pattern": {
              "fillmode": "overlay",
              "size": 10,
              "solidity": 0.2
             }
            },
            "type": "histogram"
           }
          ],
          "histogram2d": [
           {
            "colorbar": {
             "outlinewidth": 0,
             "ticks": ""
            },
            "colorscale": [
             [
              0,
              "#0d0887"
             ],
             [
              0.1111111111111111,
              "#46039f"
             ],
             [
              0.2222222222222222,
              "#7201a8"
             ],
             [
              0.3333333333333333,
              "#9c179e"
             ],
             [
              0.4444444444444444,
              "#bd3786"
             ],
             [
              0.5555555555555556,
              "#d8576b"
             ],
             [
              0.6666666666666666,
              "#ed7953"
             ],
             [
              0.7777777777777778,
              "#fb9f3a"
             ],
             [
              0.8888888888888888,
              "#fdca26"
             ],
             [
              1,
              "#f0f921"
             ]
            ],
            "type": "histogram2d"
           }
          ],
          "histogram2dcontour": [
           {
            "colorbar": {
             "outlinewidth": 0,
             "ticks": ""
            },
            "colorscale": [
             [
              0,
              "#0d0887"
             ],
             [
              0.1111111111111111,
              "#46039f"
             ],
             [
              0.2222222222222222,
              "#7201a8"
             ],
             [
              0.3333333333333333,
              "#9c179e"
             ],
             [
              0.4444444444444444,
              "#bd3786"
             ],
             [
              0.5555555555555556,
              "#d8576b"
             ],
             [
              0.6666666666666666,
              "#ed7953"
             ],
             [
              0.7777777777777778,
              "#fb9f3a"
             ],
             [
              0.8888888888888888,
              "#fdca26"
             ],
             [
              1,
              "#f0f921"
             ]
            ],
            "type": "histogram2dcontour"
           }
          ],
          "mesh3d": [
           {
            "colorbar": {
             "outlinewidth": 0,
             "ticks": ""
            },
            "type": "mesh3d"
           }
          ],
          "parcoords": [
           {
            "line": {
             "colorbar": {
              "outlinewidth": 0,
              "ticks": ""
             }
            },
            "type": "parcoords"
           }
          ],
          "pie": [
           {
            "automargin": true,
            "type": "pie"
           }
          ],
          "scatter": [
           {
            "fillpattern": {
             "fillmode": "overlay",
             "size": 10,
             "solidity": 0.2
            },
            "type": "scatter"
           }
          ],
          "scatter3d": [
           {
            "line": {
             "colorbar": {
              "outlinewidth": 0,
              "ticks": ""
             }
            },
            "marker": {
             "colorbar": {
              "outlinewidth": 0,
              "ticks": ""
             }
            },
            "type": "scatter3d"
           }
          ],
          "scattercarpet": [
           {
            "marker": {
             "colorbar": {
              "outlinewidth": 0,
              "ticks": ""
             }
            },
            "type": "scattercarpet"
           }
          ],
          "scattergeo": [
           {
            "marker": {
             "colorbar": {
              "outlinewidth": 0,
              "ticks": ""
             }
            },
            "type": "scattergeo"
           }
          ],
          "scattergl": [
           {
            "marker": {
             "colorbar": {
              "outlinewidth": 0,
              "ticks": ""
             }
            },
            "type": "scattergl"
           }
          ],
          "scattermapbox": [
           {
            "marker": {
             "colorbar": {
              "outlinewidth": 0,
              "ticks": ""
             }
            },
            "type": "scattermapbox"
           }
          ],
          "scatterpolar": [
           {
            "marker": {
             "colorbar": {
              "outlinewidth": 0,
              "ticks": ""
             }
            },
            "type": "scatterpolar"
           }
          ],
          "scatterpolargl": [
           {
            "marker": {
             "colorbar": {
              "outlinewidth": 0,
              "ticks": ""
             }
            },
            "type": "scatterpolargl"
           }
          ],
          "scatterternary": [
           {
            "marker": {
             "colorbar": {
              "outlinewidth": 0,
              "ticks": ""
             }
            },
            "type": "scatterternary"
           }
          ],
          "surface": [
           {
            "colorbar": {
             "outlinewidth": 0,
             "ticks": ""
            },
            "colorscale": [
             [
              0,
              "#0d0887"
             ],
             [
              0.1111111111111111,
              "#46039f"
             ],
             [
              0.2222222222222222,
              "#7201a8"
             ],
             [
              0.3333333333333333,
              "#9c179e"
             ],
             [
              0.4444444444444444,
              "#bd3786"
             ],
             [
              0.5555555555555556,
              "#d8576b"
             ],
             [
              0.6666666666666666,
              "#ed7953"
             ],
             [
              0.7777777777777778,
              "#fb9f3a"
             ],
             [
              0.8888888888888888,
              "#fdca26"
             ],
             [
              1,
              "#f0f921"
             ]
            ],
            "type": "surface"
           }
          ],
          "table": [
           {
            "cells": {
             "fill": {
              "color": "#EBF0F8"
             },
             "line": {
              "color": "white"
             }
            },
            "header": {
             "fill": {
              "color": "#C8D4E3"
             },
             "line": {
              "color": "white"
             }
            },
            "type": "table"
           }
          ]
         },
         "layout": {
          "annotationdefaults": {
           "arrowcolor": "#2a3f5f",
           "arrowhead": 0,
           "arrowwidth": 1
          },
          "autotypenumbers": "strict",
          "coloraxis": {
           "colorbar": {
            "outlinewidth": 0,
            "ticks": ""
           }
          },
          "colorscale": {
           "diverging": [
            [
             0,
             "#8e0152"
            ],
            [
             0.1,
             "#c51b7d"
            ],
            [
             0.2,
             "#de77ae"
            ],
            [
             0.3,
             "#f1b6da"
            ],
            [
             0.4,
             "#fde0ef"
            ],
            [
             0.5,
             "#f7f7f7"
            ],
            [
             0.6,
             "#e6f5d0"
            ],
            [
             0.7,
             "#b8e186"
            ],
            [
             0.8,
             "#7fbc41"
            ],
            [
             0.9,
             "#4d9221"
            ],
            [
             1,
             "#276419"
            ]
           ],
           "sequential": [
            [
             0,
             "#0d0887"
            ],
            [
             0.1111111111111111,
             "#46039f"
            ],
            [
             0.2222222222222222,
             "#7201a8"
            ],
            [
             0.3333333333333333,
             "#9c179e"
            ],
            [
             0.4444444444444444,
             "#bd3786"
            ],
            [
             0.5555555555555556,
             "#d8576b"
            ],
            [
             0.6666666666666666,
             "#ed7953"
            ],
            [
             0.7777777777777778,
             "#fb9f3a"
            ],
            [
             0.8888888888888888,
             "#fdca26"
            ],
            [
             1,
             "#f0f921"
            ]
           ],
           "sequentialminus": [
            [
             0,
             "#0d0887"
            ],
            [
             0.1111111111111111,
             "#46039f"
            ],
            [
             0.2222222222222222,
             "#7201a8"
            ],
            [
             0.3333333333333333,
             "#9c179e"
            ],
            [
             0.4444444444444444,
             "#bd3786"
            ],
            [
             0.5555555555555556,
             "#d8576b"
            ],
            [
             0.6666666666666666,
             "#ed7953"
            ],
            [
             0.7777777777777778,
             "#fb9f3a"
            ],
            [
             0.8888888888888888,
             "#fdca26"
            ],
            [
             1,
             "#f0f921"
            ]
           ]
          },
          "colorway": [
           "#636efa",
           "#EF553B",
           "#00cc96",
           "#ab63fa",
           "#FFA15A",
           "#19d3f3",
           "#FF6692",
           "#B6E880",
           "#FF97FF",
           "#FECB52"
          ],
          "font": {
           "color": "#2a3f5f"
          },
          "geo": {
           "bgcolor": "white",
           "lakecolor": "white",
           "landcolor": "white",
           "showlakes": true,
           "showland": true,
           "subunitcolor": "#C8D4E3"
          },
          "hoverlabel": {
           "align": "left"
          },
          "hovermode": "closest",
          "mapbox": {
           "style": "light"
          },
          "paper_bgcolor": "white",
          "plot_bgcolor": "white",
          "polar": {
           "angularaxis": {
            "gridcolor": "#EBF0F8",
            "linecolor": "#EBF0F8",
            "ticks": ""
           },
           "bgcolor": "white",
           "radialaxis": {
            "gridcolor": "#EBF0F8",
            "linecolor": "#EBF0F8",
            "ticks": ""
           }
          },
          "scene": {
           "xaxis": {
            "backgroundcolor": "white",
            "gridcolor": "#DFE8F3",
            "gridwidth": 2,
            "linecolor": "#EBF0F8",
            "showbackground": true,
            "ticks": "",
            "zerolinecolor": "#EBF0F8"
           },
           "yaxis": {
            "backgroundcolor": "white",
            "gridcolor": "#DFE8F3",
            "gridwidth": 2,
            "linecolor": "#EBF0F8",
            "showbackground": true,
            "ticks": "",
            "zerolinecolor": "#EBF0F8"
           },
           "zaxis": {
            "backgroundcolor": "white",
            "gridcolor": "#DFE8F3",
            "gridwidth": 2,
            "linecolor": "#EBF0F8",
            "showbackground": true,
            "ticks": "",
            "zerolinecolor": "#EBF0F8"
           }
          },
          "shapedefaults": {
           "line": {
            "color": "#2a3f5f"
           }
          },
          "ternary": {
           "aaxis": {
            "gridcolor": "#DFE8F3",
            "linecolor": "#A2B1C6",
            "ticks": ""
           },
           "baxis": {
            "gridcolor": "#DFE8F3",
            "linecolor": "#A2B1C6",
            "ticks": ""
           },
           "bgcolor": "white",
           "caxis": {
            "gridcolor": "#DFE8F3",
            "linecolor": "#A2B1C6",
            "ticks": ""
           }
          },
          "title": {
           "x": 0.05
          },
          "xaxis": {
           "automargin": true,
           "gridcolor": "#EBF0F8",
           "linecolor": "#EBF0F8",
           "ticks": "",
           "title": {
            "standoff": 15
           },
           "zerolinecolor": "#EBF0F8",
           "zerolinewidth": 2
          },
          "yaxis": {
           "automargin": true,
           "gridcolor": "#EBF0F8",
           "linecolor": "#EBF0F8",
           "ticks": "",
           "title": {
            "standoff": 15
           },
           "zerolinecolor": "#EBF0F8",
           "zerolinewidth": 2
          }
         }
        },
        "title": {
         "font": {
          "size": 25
         },
         "text": "",
         "x": 0.5,
         "xanchor": "center",
         "yanchor": "top"
        },
        "width": 900,
        "xaxis": {
         "anchor": "y",
         "domain": [
          0,
          1
         ],
         "title": {
          "font": {
           "size": 12
          },
          "text": "Time"
         }
        },
        "yaxis": {
         "anchor": "x",
         "domain": [
          0,
          1
         ],
         "title": {
          "font": {
           "size": 12
          },
          "text": "Value"
         }
        }
       }
      }
     },
     "metadata": {},
     "output_type": "display_data"
    }
   ],
   "source": [
    "fig = plot_time_series(regular_time_samples, \n",
    "                 timeseries_, \n",
    "                 \"\")\n",
    "fig.write_image(\"imgs/chapter_1/mix_n_match.png\")\n",
    "fig.show()"
   ]
  },
  {
   "cell_type": "markdown",
   "id": "3befc02c-1618-46e8-b5de-8d1167c6e98a",
   "metadata": {},
   "source": [
    "## Non-Stationary: Sinusoidal with Trend and White Noise"
   ]
  },
  {
   "cell_type": "code",
   "execution_count": 16,
   "id": "d158f3cb-84ee-4590-b58d-655767e5f510",
   "metadata": {},
   "outputs": [],
   "source": [
    "# Sinusoidal Signal with Amplitude=1 & Frequency=0.25\n",
    "signal=ts.signals.Sinusoidal(amplitude=1, frequency=0.25)\n",
    "# White Noise with standar deviation = 0.3\n",
    "noise=ts.noise.GaussianNoise(std=0.3)\n",
    "# Generate the time series\n",
    "sinusoidal_samples, regular_time_samples, _, _ = generate_timeseries(signal=signal, noise=noise)\n",
    "# Regular_time_samples is a linear incteasing time axis and can be used as a trend\n",
    "trend = regular_time_samples*0.4\n",
    "# Combining the signal and trend\n",
    "timeseries_ = sinusoidal_samples+trend"
   ]
  },
  {
   "cell_type": "code",
   "execution_count": 17,
   "id": "fde1e825-a016-4287-af61-0bd5c756a1d5",
   "metadata": {},
   "outputs": [
    {
     "data": {
      "application/vnd.plotly.v1+json": {
       "config": {
        "plotlyServerURL": "https://plot.ly"
       },
       "data": [
        {
         "hovertemplate": "Time=%{x}<br>Value=%{y}<extra></extra>",
         "legendgroup": "",
         "line": {
          "color": "#636efa",
          "dash": "solid"
         },
         "marker": {
          "symbol": "circle"
         },
         "mode": "lines",
         "name": "",
         "orientation": "v",
         "showlegend": false,
         "type": "scatter",
         "x": [
          0,
          0.20202020202020202,
          0.40404040404040403,
          0.6060606060606061,
          0.8080808080808081,
          1.0101010101010102,
          1.2121212121212122,
          1.4141414141414141,
          1.6161616161616161,
          1.8181818181818181,
          2.0202020202020203,
          2.2222222222222223,
          2.4242424242424243,
          2.6262626262626263,
          2.8282828282828283,
          3.0303030303030303,
          3.2323232323232323,
          3.4343434343434343,
          3.6363636363636362,
          3.8383838383838382,
          4.040404040404041,
          4.242424242424242,
          4.444444444444445,
          4.646464646464646,
          4.848484848484849,
          5.05050505050505,
          5.252525252525253,
          5.454545454545454,
          5.656565656565657,
          5.858585858585858,
          6.0606060606060606,
          6.262626262626262,
          6.4646464646464645,
          6.666666666666667,
          6.8686868686868685,
          7.070707070707071,
          7.2727272727272725,
          7.474747474747475,
          7.6767676767676765,
          7.878787878787879,
          8.080808080808081,
          8.282828282828282,
          8.484848484848484,
          8.686868686868687,
          8.88888888888889,
          9.09090909090909,
          9.292929292929292,
          9.494949494949495,
          9.696969696969697,
          9.8989898989899,
          10.1010101010101,
          10.303030303030303,
          10.505050505050505,
          10.707070707070708,
          10.909090909090908,
          11.11111111111111,
          11.313131313131313,
          11.515151515151516,
          11.717171717171716,
          11.919191919191919,
          12.121212121212121,
          12.323232323232324,
          12.525252525252524,
          12.727272727272727,
          12.929292929292929,
          13.131313131313131,
          13.333333333333334,
          13.535353535353535,
          13.737373737373737,
          13.93939393939394,
          14.141414141414142,
          14.343434343434343,
          14.545454545454545,
          14.747474747474747,
          14.94949494949495,
          15.15151515151515,
          15.353535353535353,
          15.555555555555555,
          15.757575757575758,
          15.959595959595958,
          16.161616161616163,
          16.363636363636363,
          16.565656565656564,
          16.767676767676768,
          16.96969696969697,
          17.171717171717173,
          17.373737373737374,
          17.575757575757574,
          17.77777777777778,
          17.97979797979798,
          18.18181818181818,
          18.383838383838384,
          18.585858585858585,
          18.78787878787879,
          18.98989898989899,
          19.19191919191919,
          19.393939393939394,
          19.595959595959595,
          19.7979797979798,
          20
         ],
         "xaxis": "x",
         "y": [
          -0.15014555959648906,
          0.6280218413479379,
          0.17272531040932446,
          1.2666631900220882,
          1.185753403255137,
          1.119108833501516,
          1.300875355910882,
          1.997047115596514,
          1.190021727917021,
          1.0259052893910205,
          0.4176275846975132,
          0.08301176860289583,
          0.6144709941949508,
          0.16764684609160352,
          0.3087574465927898,
          0.2332144490617427,
          0.29316650131006705,
          0.18137464466211006,
          0.5989888275513493,
          1.358323339759994,
          1.8216988011702964,
          1.4685536601137645,
          2.4478436026413535,
          2.6043498412720747,
          2.6616253941914163,
          2.9355075414454412,
          2.992134756386965,
          2.6640772955769156,
          2.697925173620649,
          2.913508595217641,
          2.789707175601477,
          1.9549128616020195,
          1.7322264228905133,
          1.6443676272007184,
          1.8288654458173235,
          2.001948592403026,
          2.0897200976737063,
          1.8534110192962618,
          2.6982900199935225,
          3.2299205382815948,
          3.8764814799773117,
          3.658544740726195,
          3.4363115650017964,
          4.66167316357283,
          4.30862507845745,
          4.622288051287959,
          4.528058582517382,
          4.106730201342608,
          4.534611039928475,
          3.980776767937529,
          3.7560680236564,
          4.218481233498064,
          3.190964856842481,
          3.365875447288875,
          3.408729721667553,
          3.2941757844481163,
          3.4189363013450054,
          4.501861384349569,
          3.9078307925456377,
          4.837394041367946,
          5.1086386732004625,
          5.461324829824944,
          6.426846771614267,
          6.3237911627735786,
          5.3840901235354925,
          6.116026567060018,
          6.1328188911089825,
          6.030257469092274,
          5.8487773429432455,
          5.140123496928652,
          5.466365045493139,
          5.071457159835301,
          5.036652938905274,
          5.448871491849231,
          5.094617404158033,
          4.388722510257879,
          5.226248225562554,
          5.30725776323899,
          5.547918106060564,
          6.664227790072655,
          6.716230815682266,
          7.49505186694547,
          7.164732334243075,
          7.601650297002716,
          8.020519351884284,
          7.695910935591008,
          7.8623257397994,
          7.853724534581887,
          7.620608010182563,
          7.33494764877711,
          7.2568690535293445,
          6.654541612599353,
          6.6415700165089255,
          6.661230708856333,
          6.53914672390576,
          7.059363177392626,
          6.8150181428640915,
          7.3563611367019,
          7.491153235334968,
          8.10046179626313
         ],
         "yaxis": "y"
        }
       ],
       "layout": {
        "autosize": false,
        "height": 500,
        "legend": {
         "tracegroupgap": 0
        },
        "margin": {
         "t": 60
        },
        "template": {
         "data": {
          "bar": [
           {
            "error_x": {
             "color": "#2a3f5f"
            },
            "error_y": {
             "color": "#2a3f5f"
            },
            "marker": {
             "line": {
              "color": "white",
              "width": 0.5
             },
             "pattern": {
              "fillmode": "overlay",
              "size": 10,
              "solidity": 0.2
             }
            },
            "type": "bar"
           }
          ],
          "barpolar": [
           {
            "marker": {
             "line": {
              "color": "white",
              "width": 0.5
             },
             "pattern": {
              "fillmode": "overlay",
              "size": 10,
              "solidity": 0.2
             }
            },
            "type": "barpolar"
           }
          ],
          "carpet": [
           {
            "aaxis": {
             "endlinecolor": "#2a3f5f",
             "gridcolor": "#C8D4E3",
             "linecolor": "#C8D4E3",
             "minorgridcolor": "#C8D4E3",
             "startlinecolor": "#2a3f5f"
            },
            "baxis": {
             "endlinecolor": "#2a3f5f",
             "gridcolor": "#C8D4E3",
             "linecolor": "#C8D4E3",
             "minorgridcolor": "#C8D4E3",
             "startlinecolor": "#2a3f5f"
            },
            "type": "carpet"
           }
          ],
          "choropleth": [
           {
            "colorbar": {
             "outlinewidth": 0,
             "ticks": ""
            },
            "type": "choropleth"
           }
          ],
          "contour": [
           {
            "colorbar": {
             "outlinewidth": 0,
             "ticks": ""
            },
            "colorscale": [
             [
              0,
              "#0d0887"
             ],
             [
              0.1111111111111111,
              "#46039f"
             ],
             [
              0.2222222222222222,
              "#7201a8"
             ],
             [
              0.3333333333333333,
              "#9c179e"
             ],
             [
              0.4444444444444444,
              "#bd3786"
             ],
             [
              0.5555555555555556,
              "#d8576b"
             ],
             [
              0.6666666666666666,
              "#ed7953"
             ],
             [
              0.7777777777777778,
              "#fb9f3a"
             ],
             [
              0.8888888888888888,
              "#fdca26"
             ],
             [
              1,
              "#f0f921"
             ]
            ],
            "type": "contour"
           }
          ],
          "contourcarpet": [
           {
            "colorbar": {
             "outlinewidth": 0,
             "ticks": ""
            },
            "type": "contourcarpet"
           }
          ],
          "heatmap": [
           {
            "colorbar": {
             "outlinewidth": 0,
             "ticks": ""
            },
            "colorscale": [
             [
              0,
              "#0d0887"
             ],
             [
              0.1111111111111111,
              "#46039f"
             ],
             [
              0.2222222222222222,
              "#7201a8"
             ],
             [
              0.3333333333333333,
              "#9c179e"
             ],
             [
              0.4444444444444444,
              "#bd3786"
             ],
             [
              0.5555555555555556,
              "#d8576b"
             ],
             [
              0.6666666666666666,
              "#ed7953"
             ],
             [
              0.7777777777777778,
              "#fb9f3a"
             ],
             [
              0.8888888888888888,
              "#fdca26"
             ],
             [
              1,
              "#f0f921"
             ]
            ],
            "type": "heatmap"
           }
          ],
          "heatmapgl": [
           {
            "colorbar": {
             "outlinewidth": 0,
             "ticks": ""
            },
            "colorscale": [
             [
              0,
              "#0d0887"
             ],
             [
              0.1111111111111111,
              "#46039f"
             ],
             [
              0.2222222222222222,
              "#7201a8"
             ],
             [
              0.3333333333333333,
              "#9c179e"
             ],
             [
              0.4444444444444444,
              "#bd3786"
             ],
             [
              0.5555555555555556,
              "#d8576b"
             ],
             [
              0.6666666666666666,
              "#ed7953"
             ],
             [
              0.7777777777777778,
              "#fb9f3a"
             ],
             [
              0.8888888888888888,
              "#fdca26"
             ],
             [
              1,
              "#f0f921"
             ]
            ],
            "type": "heatmapgl"
           }
          ],
          "histogram": [
           {
            "marker": {
             "pattern": {
              "fillmode": "overlay",
              "size": 10,
              "solidity": 0.2
             }
            },
            "type": "histogram"
           }
          ],
          "histogram2d": [
           {
            "colorbar": {
             "outlinewidth": 0,
             "ticks": ""
            },
            "colorscale": [
             [
              0,
              "#0d0887"
             ],
             [
              0.1111111111111111,
              "#46039f"
             ],
             [
              0.2222222222222222,
              "#7201a8"
             ],
             [
              0.3333333333333333,
              "#9c179e"
             ],
             [
              0.4444444444444444,
              "#bd3786"
             ],
             [
              0.5555555555555556,
              "#d8576b"
             ],
             [
              0.6666666666666666,
              "#ed7953"
             ],
             [
              0.7777777777777778,
              "#fb9f3a"
             ],
             [
              0.8888888888888888,
              "#fdca26"
             ],
             [
              1,
              "#f0f921"
             ]
            ],
            "type": "histogram2d"
           }
          ],
          "histogram2dcontour": [
           {
            "colorbar": {
             "outlinewidth": 0,
             "ticks": ""
            },
            "colorscale": [
             [
              0,
              "#0d0887"
             ],
             [
              0.1111111111111111,
              "#46039f"
             ],
             [
              0.2222222222222222,
              "#7201a8"
             ],
             [
              0.3333333333333333,
              "#9c179e"
             ],
             [
              0.4444444444444444,
              "#bd3786"
             ],
             [
              0.5555555555555556,
              "#d8576b"
             ],
             [
              0.6666666666666666,
              "#ed7953"
             ],
             [
              0.7777777777777778,
              "#fb9f3a"
             ],
             [
              0.8888888888888888,
              "#fdca26"
             ],
             [
              1,
              "#f0f921"
             ]
            ],
            "type": "histogram2dcontour"
           }
          ],
          "mesh3d": [
           {
            "colorbar": {
             "outlinewidth": 0,
             "ticks": ""
            },
            "type": "mesh3d"
           }
          ],
          "parcoords": [
           {
            "line": {
             "colorbar": {
              "outlinewidth": 0,
              "ticks": ""
             }
            },
            "type": "parcoords"
           }
          ],
          "pie": [
           {
            "automargin": true,
            "type": "pie"
           }
          ],
          "scatter": [
           {
            "fillpattern": {
             "fillmode": "overlay",
             "size": 10,
             "solidity": 0.2
            },
            "type": "scatter"
           }
          ],
          "scatter3d": [
           {
            "line": {
             "colorbar": {
              "outlinewidth": 0,
              "ticks": ""
             }
            },
            "marker": {
             "colorbar": {
              "outlinewidth": 0,
              "ticks": ""
             }
            },
            "type": "scatter3d"
           }
          ],
          "scattercarpet": [
           {
            "marker": {
             "colorbar": {
              "outlinewidth": 0,
              "ticks": ""
             }
            },
            "type": "scattercarpet"
           }
          ],
          "scattergeo": [
           {
            "marker": {
             "colorbar": {
              "outlinewidth": 0,
              "ticks": ""
             }
            },
            "type": "scattergeo"
           }
          ],
          "scattergl": [
           {
            "marker": {
             "colorbar": {
              "outlinewidth": 0,
              "ticks": ""
             }
            },
            "type": "scattergl"
           }
          ],
          "scattermapbox": [
           {
            "marker": {
             "colorbar": {
              "outlinewidth": 0,
              "ticks": ""
             }
            },
            "type": "scattermapbox"
           }
          ],
          "scatterpolar": [
           {
            "marker": {
             "colorbar": {
              "outlinewidth": 0,
              "ticks": ""
             }
            },
            "type": "scatterpolar"
           }
          ],
          "scatterpolargl": [
           {
            "marker": {
             "colorbar": {
              "outlinewidth": 0,
              "ticks": ""
             }
            },
            "type": "scatterpolargl"
           }
          ],
          "scatterternary": [
           {
            "marker": {
             "colorbar": {
              "outlinewidth": 0,
              "ticks": ""
             }
            },
            "type": "scatterternary"
           }
          ],
          "surface": [
           {
            "colorbar": {
             "outlinewidth": 0,
             "ticks": ""
            },
            "colorscale": [
             [
              0,
              "#0d0887"
             ],
             [
              0.1111111111111111,
              "#46039f"
             ],
             [
              0.2222222222222222,
              "#7201a8"
             ],
             [
              0.3333333333333333,
              "#9c179e"
             ],
             [
              0.4444444444444444,
              "#bd3786"
             ],
             [
              0.5555555555555556,
              "#d8576b"
             ],
             [
              0.6666666666666666,
              "#ed7953"
             ],
             [
              0.7777777777777778,
              "#fb9f3a"
             ],
             [
              0.8888888888888888,
              "#fdca26"
             ],
             [
              1,
              "#f0f921"
             ]
            ],
            "type": "surface"
           }
          ],
          "table": [
           {
            "cells": {
             "fill": {
              "color": "#EBF0F8"
             },
             "line": {
              "color": "white"
             }
            },
            "header": {
             "fill": {
              "color": "#C8D4E3"
             },
             "line": {
              "color": "white"
             }
            },
            "type": "table"
           }
          ]
         },
         "layout": {
          "annotationdefaults": {
           "arrowcolor": "#2a3f5f",
           "arrowhead": 0,
           "arrowwidth": 1
          },
          "autotypenumbers": "strict",
          "coloraxis": {
           "colorbar": {
            "outlinewidth": 0,
            "ticks": ""
           }
          },
          "colorscale": {
           "diverging": [
            [
             0,
             "#8e0152"
            ],
            [
             0.1,
             "#c51b7d"
            ],
            [
             0.2,
             "#de77ae"
            ],
            [
             0.3,
             "#f1b6da"
            ],
            [
             0.4,
             "#fde0ef"
            ],
            [
             0.5,
             "#f7f7f7"
            ],
            [
             0.6,
             "#e6f5d0"
            ],
            [
             0.7,
             "#b8e186"
            ],
            [
             0.8,
             "#7fbc41"
            ],
            [
             0.9,
             "#4d9221"
            ],
            [
             1,
             "#276419"
            ]
           ],
           "sequential": [
            [
             0,
             "#0d0887"
            ],
            [
             0.1111111111111111,
             "#46039f"
            ],
            [
             0.2222222222222222,
             "#7201a8"
            ],
            [
             0.3333333333333333,
             "#9c179e"
            ],
            [
             0.4444444444444444,
             "#bd3786"
            ],
            [
             0.5555555555555556,
             "#d8576b"
            ],
            [
             0.6666666666666666,
             "#ed7953"
            ],
            [
             0.7777777777777778,
             "#fb9f3a"
            ],
            [
             0.8888888888888888,
             "#fdca26"
            ],
            [
             1,
             "#f0f921"
            ]
           ],
           "sequentialminus": [
            [
             0,
             "#0d0887"
            ],
            [
             0.1111111111111111,
             "#46039f"
            ],
            [
             0.2222222222222222,
             "#7201a8"
            ],
            [
             0.3333333333333333,
             "#9c179e"
            ],
            [
             0.4444444444444444,
             "#bd3786"
            ],
            [
             0.5555555555555556,
             "#d8576b"
            ],
            [
             0.6666666666666666,
             "#ed7953"
            ],
            [
             0.7777777777777778,
             "#fb9f3a"
            ],
            [
             0.8888888888888888,
             "#fdca26"
            ],
            [
             1,
             "#f0f921"
            ]
           ]
          },
          "colorway": [
           "#636efa",
           "#EF553B",
           "#00cc96",
           "#ab63fa",
           "#FFA15A",
           "#19d3f3",
           "#FF6692",
           "#B6E880",
           "#FF97FF",
           "#FECB52"
          ],
          "font": {
           "color": "#2a3f5f"
          },
          "geo": {
           "bgcolor": "white",
           "lakecolor": "white",
           "landcolor": "white",
           "showlakes": true,
           "showland": true,
           "subunitcolor": "#C8D4E3"
          },
          "hoverlabel": {
           "align": "left"
          },
          "hovermode": "closest",
          "mapbox": {
           "style": "light"
          },
          "paper_bgcolor": "white",
          "plot_bgcolor": "white",
          "polar": {
           "angularaxis": {
            "gridcolor": "#EBF0F8",
            "linecolor": "#EBF0F8",
            "ticks": ""
           },
           "bgcolor": "white",
           "radialaxis": {
            "gridcolor": "#EBF0F8",
            "linecolor": "#EBF0F8",
            "ticks": ""
           }
          },
          "scene": {
           "xaxis": {
            "backgroundcolor": "white",
            "gridcolor": "#DFE8F3",
            "gridwidth": 2,
            "linecolor": "#EBF0F8",
            "showbackground": true,
            "ticks": "",
            "zerolinecolor": "#EBF0F8"
           },
           "yaxis": {
            "backgroundcolor": "white",
            "gridcolor": "#DFE8F3",
            "gridwidth": 2,
            "linecolor": "#EBF0F8",
            "showbackground": true,
            "ticks": "",
            "zerolinecolor": "#EBF0F8"
           },
           "zaxis": {
            "backgroundcolor": "white",
            "gridcolor": "#DFE8F3",
            "gridwidth": 2,
            "linecolor": "#EBF0F8",
            "showbackground": true,
            "ticks": "",
            "zerolinecolor": "#EBF0F8"
           }
          },
          "shapedefaults": {
           "line": {
            "color": "#2a3f5f"
           }
          },
          "ternary": {
           "aaxis": {
            "gridcolor": "#DFE8F3",
            "linecolor": "#A2B1C6",
            "ticks": ""
           },
           "baxis": {
            "gridcolor": "#DFE8F3",
            "linecolor": "#A2B1C6",
            "ticks": ""
           },
           "bgcolor": "white",
           "caxis": {
            "gridcolor": "#DFE8F3",
            "linecolor": "#A2B1C6",
            "ticks": ""
           }
          },
          "title": {
           "x": 0.05
          },
          "xaxis": {
           "automargin": true,
           "gridcolor": "#EBF0F8",
           "linecolor": "#EBF0F8",
           "ticks": "",
           "title": {
            "standoff": 15
           },
           "zerolinecolor": "#EBF0F8",
           "zerolinewidth": 2
          },
          "yaxis": {
           "automargin": true,
           "gridcolor": "#EBF0F8",
           "linecolor": "#EBF0F8",
           "ticks": "",
           "title": {
            "standoff": 15
           },
           "zerolinecolor": "#EBF0F8",
           "zerolinewidth": 2
          }
         }
        },
        "title": {
         "font": {
          "size": 25
         },
         "text": "",
         "x": 0.5,
         "xanchor": "center",
         "yanchor": "top"
        },
        "width": 900,
        "xaxis": {
         "anchor": "y",
         "domain": [
          0,
          1
         ],
         "title": {
          "font": {
           "size": 12
          },
          "text": "Time"
         }
        },
        "yaxis": {
         "anchor": "x",
         "domain": [
          0,
          1
         ],
         "title": {
          "font": {
           "size": 12
          },
          "text": "Value"
         }
        }
       }
      }
     },
     "metadata": {},
     "output_type": "display_data"
    }
   ],
   "source": [
    "fig = plot_time_series(regular_time_samples, \n",
    "                 timeseries_, \n",
    "                 \"\")\n",
    "fig.write_image(\"imgs/chapter_1/non_stationary.png\")\n",
    "fig.show()"
   ]
  },
  {
   "cell_type": "markdown",
   "id": "fa01d432-29f6-4fb1-87e9-23d6f048df10",
   "metadata": {},
   "source": [
    "## Non-Stationary: Sinusoidal and Time Varying Noise"
   ]
  },
  {
   "cell_type": "code",
   "execution_count": 18,
   "id": "3239ce16-7cda-4262-badd-fd2f45d6619d",
   "metadata": {},
   "outputs": [],
   "source": [
    "sinusoidal_samples, regular_time_samples, _, _ = generate_timeseries(signal=ts.signals.Sinusoidal(amplitude=1, frequency=0.25))"
   ]
  },
  {
   "cell_type": "code",
   "execution_count": 19,
   "id": "31d3597f-1dfc-451e-a46d-fdabccb68439",
   "metadata": {},
   "outputs": [],
   "source": [
    "noise = [np.random.randn()*np.sqrt(i) for i, v in enumerate(regular_time_samples)]"
   ]
  },
  {
   "cell_type": "code",
   "execution_count": 20,
   "id": "54d6fe38-f3fb-4afb-b3ae-b8e7b3569de1",
   "metadata": {},
   "outputs": [
    {
     "data": {
      "application/vnd.plotly.v1+json": {
       "config": {
        "plotlyServerURL": "https://plot.ly"
       },
       "data": [
        {
         "hovertemplate": "Time=%{x}<br>Value=%{y}<extra></extra>",
         "legendgroup": "",
         "line": {
          "color": "#636efa",
          "dash": "solid"
         },
         "marker": {
          "symbol": "circle"
         },
         "mode": "lines",
         "name": "",
         "orientation": "v",
         "showlegend": false,
         "type": "scatter",
         "x": [
          0,
          0.20202020202020202,
          0.40404040404040403,
          0.6060606060606061,
          0.8080808080808081,
          1.0101010101010102,
          1.2121212121212122,
          1.4141414141414141,
          1.6161616161616161,
          1.8181818181818181,
          2.0202020202020203,
          2.2222222222222223,
          2.4242424242424243,
          2.6262626262626263,
          2.8282828282828283,
          3.0303030303030303,
          3.2323232323232323,
          3.4343434343434343,
          3.6363636363636362,
          3.8383838383838382,
          4.040404040404041,
          4.242424242424242,
          4.444444444444445,
          4.646464646464646,
          4.848484848484849,
          5.05050505050505,
          5.252525252525253,
          5.454545454545454,
          5.656565656565657,
          5.858585858585858,
          6.0606060606060606,
          6.262626262626262,
          6.4646464646464645,
          6.666666666666667,
          6.8686868686868685,
          7.070707070707071,
          7.2727272727272725,
          7.474747474747475,
          7.6767676767676765,
          7.878787878787879,
          8.080808080808081,
          8.282828282828282,
          8.484848484848484,
          8.686868686868687,
          8.88888888888889,
          9.09090909090909,
          9.292929292929292,
          9.494949494949495,
          9.696969696969697,
          9.8989898989899,
          10.1010101010101,
          10.303030303030303,
          10.505050505050505,
          10.707070707070708,
          10.909090909090908,
          11.11111111111111,
          11.313131313131313,
          11.515151515151516,
          11.717171717171716,
          11.919191919191919,
          12.121212121212121,
          12.323232323232324,
          12.525252525252524,
          12.727272727272727,
          12.929292929292929,
          13.131313131313131,
          13.333333333333334,
          13.535353535353535,
          13.737373737373737,
          13.93939393939394,
          14.141414141414142,
          14.343434343434343,
          14.545454545454545,
          14.747474747474747,
          14.94949494949495,
          15.15151515151515,
          15.353535353535353,
          15.555555555555555,
          15.757575757575758,
          15.959595959595958,
          16.161616161616163,
          16.363636363636363,
          16.565656565656564,
          16.767676767676768,
          16.96969696969697,
          17.171717171717173,
          17.373737373737374,
          17.575757575757574,
          17.77777777777778,
          17.97979797979798,
          18.18181818181818,
          18.383838383838384,
          18.585858585858585,
          18.78787878787879,
          18.98989898989899,
          19.19191919191919,
          19.393939393939394,
          19.595959595959595,
          19.7979797979798,
          20
         ],
         "xaxis": "x",
         "y": [
          0,
          -0.8934525000867531,
          0.0953274102113954,
          -0.4589683280965009,
          0.530763490373991,
          -1.051054247086507,
          -3.40783064231429,
          1.6626528678255101,
          -4.220599112418158,
          1.8974861773014635,
          4.756058922518988,
          3.0724343748654714,
          4.944087679247648,
          -7.110571936560359,
          -0.2657264943031816,
          -2.1585710258603945,
          5.735493287075273,
          0.07571369015394325,
          5.117052891629346,
          -1.8913187584549165,
          -4.650889115518128,
          5.495038921156137,
          -3.6385145076182197,
          1.9771549090424254,
          8.533782662469438,
          2.0195459929090633,
          -2.980665954198877,
          -13.310729723069924,
          2.720997316333852,
          -3.016647500817042,
          2.3834150192040466,
          -2.937145582639411,
          -1.249782991175742,
          7.328490279933585,
          2.7515460320016194,
          1.1475102604791254,
          -4.541458007196224,
          2.4186462143075174,
          -9.175941737380908,
          3.3158324470238965,
          6.856305042961199,
          11.5214909846928,
          15.025167871710694,
          7.199614844373459,
          0.6627237484148025,
          -3.735893979136086,
          9.353124994944007,
          -0.4609721041427154,
          1.1258915935805125,
          -1.7959335238291747,
          7.797545171166791,
          0.7124113913975123,
          -1.7726986141863144,
          0.27705688294033926,
          2.8611214593827645,
          5.395377290750621,
          2.766460985667064,
          -1.1139452632086322,
          -1.871538143636314,
          6.152908171705577,
          -2.136551441596397,
          2.3109955089174514,
          1.761743074739886,
          -4.34373073431229,
          -6.451316618371144,
          11.66856137239711,
          -5.751814044229708,
          -5.896491306123021,
          0.4403506785933389,
          -13.250567278403535,
          -0.569929068041818,
          -2.9891686893630385,
          8.233335621349038,
          -11.417083710044308,
          -7.96147490192717,
          -0.7226367964029563,
          0.2003479086917377,
          -9.224422719789837,
          -20.910452944875125,
          2.8891229143167605,
          -6.315019529723107,
          -12.031635892149568,
          -5.854760129529116,
          -5.832334924402609,
          1.6539335978506675,
          -10.186022497518623,
          0.9145570803954725,
          -4.081049357049236,
          0.948678857108197,
          -3.9588990811237084,
          2.1306801506497064,
          4.230791651171643,
          4.796941827551135,
          -8.745493414041341,
          -4.691130364959494,
          0.28525214444474634,
          -7.551478510276717,
          6.194111198030397,
          21.373811692129824,
          5.928788716743581
         ],
         "yaxis": "y"
        }
       ],
       "layout": {
        "autosize": false,
        "height": 500,
        "legend": {
         "tracegroupgap": 0
        },
        "margin": {
         "t": 60
        },
        "template": {
         "data": {
          "bar": [
           {
            "error_x": {
             "color": "#2a3f5f"
            },
            "error_y": {
             "color": "#2a3f5f"
            },
            "marker": {
             "line": {
              "color": "white",
              "width": 0.5
             },
             "pattern": {
              "fillmode": "overlay",
              "size": 10,
              "solidity": 0.2
             }
            },
            "type": "bar"
           }
          ],
          "barpolar": [
           {
            "marker": {
             "line": {
              "color": "white",
              "width": 0.5
             },
             "pattern": {
              "fillmode": "overlay",
              "size": 10,
              "solidity": 0.2
             }
            },
            "type": "barpolar"
           }
          ],
          "carpet": [
           {
            "aaxis": {
             "endlinecolor": "#2a3f5f",
             "gridcolor": "#C8D4E3",
             "linecolor": "#C8D4E3",
             "minorgridcolor": "#C8D4E3",
             "startlinecolor": "#2a3f5f"
            },
            "baxis": {
             "endlinecolor": "#2a3f5f",
             "gridcolor": "#C8D4E3",
             "linecolor": "#C8D4E3",
             "minorgridcolor": "#C8D4E3",
             "startlinecolor": "#2a3f5f"
            },
            "type": "carpet"
           }
          ],
          "choropleth": [
           {
            "colorbar": {
             "outlinewidth": 0,
             "ticks": ""
            },
            "type": "choropleth"
           }
          ],
          "contour": [
           {
            "colorbar": {
             "outlinewidth": 0,
             "ticks": ""
            },
            "colorscale": [
             [
              0,
              "#0d0887"
             ],
             [
              0.1111111111111111,
              "#46039f"
             ],
             [
              0.2222222222222222,
              "#7201a8"
             ],
             [
              0.3333333333333333,
              "#9c179e"
             ],
             [
              0.4444444444444444,
              "#bd3786"
             ],
             [
              0.5555555555555556,
              "#d8576b"
             ],
             [
              0.6666666666666666,
              "#ed7953"
             ],
             [
              0.7777777777777778,
              "#fb9f3a"
             ],
             [
              0.8888888888888888,
              "#fdca26"
             ],
             [
              1,
              "#f0f921"
             ]
            ],
            "type": "contour"
           }
          ],
          "contourcarpet": [
           {
            "colorbar": {
             "outlinewidth": 0,
             "ticks": ""
            },
            "type": "contourcarpet"
           }
          ],
          "heatmap": [
           {
            "colorbar": {
             "outlinewidth": 0,
             "ticks": ""
            },
            "colorscale": [
             [
              0,
              "#0d0887"
             ],
             [
              0.1111111111111111,
              "#46039f"
             ],
             [
              0.2222222222222222,
              "#7201a8"
             ],
             [
              0.3333333333333333,
              "#9c179e"
             ],
             [
              0.4444444444444444,
              "#bd3786"
             ],
             [
              0.5555555555555556,
              "#d8576b"
             ],
             [
              0.6666666666666666,
              "#ed7953"
             ],
             [
              0.7777777777777778,
              "#fb9f3a"
             ],
             [
              0.8888888888888888,
              "#fdca26"
             ],
             [
              1,
              "#f0f921"
             ]
            ],
            "type": "heatmap"
           }
          ],
          "heatmapgl": [
           {
            "colorbar": {
             "outlinewidth": 0,
             "ticks": ""
            },
            "colorscale": [
             [
              0,
              "#0d0887"
             ],
             [
              0.1111111111111111,
              "#46039f"
             ],
             [
              0.2222222222222222,
              "#7201a8"
             ],
             [
              0.3333333333333333,
              "#9c179e"
             ],
             [
              0.4444444444444444,
              "#bd3786"
             ],
             [
              0.5555555555555556,
              "#d8576b"
             ],
             [
              0.6666666666666666,
              "#ed7953"
             ],
             [
              0.7777777777777778,
              "#fb9f3a"
             ],
             [
              0.8888888888888888,
              "#fdca26"
             ],
             [
              1,
              "#f0f921"
             ]
            ],
            "type": "heatmapgl"
           }
          ],
          "histogram": [
           {
            "marker": {
             "pattern": {
              "fillmode": "overlay",
              "size": 10,
              "solidity": 0.2
             }
            },
            "type": "histogram"
           }
          ],
          "histogram2d": [
           {
            "colorbar": {
             "outlinewidth": 0,
             "ticks": ""
            },
            "colorscale": [
             [
              0,
              "#0d0887"
             ],
             [
              0.1111111111111111,
              "#46039f"
             ],
             [
              0.2222222222222222,
              "#7201a8"
             ],
             [
              0.3333333333333333,
              "#9c179e"
             ],
             [
              0.4444444444444444,
              "#bd3786"
             ],
             [
              0.5555555555555556,
              "#d8576b"
             ],
             [
              0.6666666666666666,
              "#ed7953"
             ],
             [
              0.7777777777777778,
              "#fb9f3a"
             ],
             [
              0.8888888888888888,
              "#fdca26"
             ],
             [
              1,
              "#f0f921"
             ]
            ],
            "type": "histogram2d"
           }
          ],
          "histogram2dcontour": [
           {
            "colorbar": {
             "outlinewidth": 0,
             "ticks": ""
            },
            "colorscale": [
             [
              0,
              "#0d0887"
             ],
             [
              0.1111111111111111,
              "#46039f"
             ],
             [
              0.2222222222222222,
              "#7201a8"
             ],
             [
              0.3333333333333333,
              "#9c179e"
             ],
             [
              0.4444444444444444,
              "#bd3786"
             ],
             [
              0.5555555555555556,
              "#d8576b"
             ],
             [
              0.6666666666666666,
              "#ed7953"
             ],
             [
              0.7777777777777778,
              "#fb9f3a"
             ],
             [
              0.8888888888888888,
              "#fdca26"
             ],
             [
              1,
              "#f0f921"
             ]
            ],
            "type": "histogram2dcontour"
           }
          ],
          "mesh3d": [
           {
            "colorbar": {
             "outlinewidth": 0,
             "ticks": ""
            },
            "type": "mesh3d"
           }
          ],
          "parcoords": [
           {
            "line": {
             "colorbar": {
              "outlinewidth": 0,
              "ticks": ""
             }
            },
            "type": "parcoords"
           }
          ],
          "pie": [
           {
            "automargin": true,
            "type": "pie"
           }
          ],
          "scatter": [
           {
            "fillpattern": {
             "fillmode": "overlay",
             "size": 10,
             "solidity": 0.2
            },
            "type": "scatter"
           }
          ],
          "scatter3d": [
           {
            "line": {
             "colorbar": {
              "outlinewidth": 0,
              "ticks": ""
             }
            },
            "marker": {
             "colorbar": {
              "outlinewidth": 0,
              "ticks": ""
             }
            },
            "type": "scatter3d"
           }
          ],
          "scattercarpet": [
           {
            "marker": {
             "colorbar": {
              "outlinewidth": 0,
              "ticks": ""
             }
            },
            "type": "scattercarpet"
           }
          ],
          "scattergeo": [
           {
            "marker": {
             "colorbar": {
              "outlinewidth": 0,
              "ticks": ""
             }
            },
            "type": "scattergeo"
           }
          ],
          "scattergl": [
           {
            "marker": {
             "colorbar": {
              "outlinewidth": 0,
              "ticks": ""
             }
            },
            "type": "scattergl"
           }
          ],
          "scattermapbox": [
           {
            "marker": {
             "colorbar": {
              "outlinewidth": 0,
              "ticks": ""
             }
            },
            "type": "scattermapbox"
           }
          ],
          "scatterpolar": [
           {
            "marker": {
             "colorbar": {
              "outlinewidth": 0,
              "ticks": ""
             }
            },
            "type": "scatterpolar"
           }
          ],
          "scatterpolargl": [
           {
            "marker": {
             "colorbar": {
              "outlinewidth": 0,
              "ticks": ""
             }
            },
            "type": "scatterpolargl"
           }
          ],
          "scatterternary": [
           {
            "marker": {
             "colorbar": {
              "outlinewidth": 0,
              "ticks": ""
             }
            },
            "type": "scatterternary"
           }
          ],
          "surface": [
           {
            "colorbar": {
             "outlinewidth": 0,
             "ticks": ""
            },
            "colorscale": [
             [
              0,
              "#0d0887"
             ],
             [
              0.1111111111111111,
              "#46039f"
             ],
             [
              0.2222222222222222,
              "#7201a8"
             ],
             [
              0.3333333333333333,
              "#9c179e"
             ],
             [
              0.4444444444444444,
              "#bd3786"
             ],
             [
              0.5555555555555556,
              "#d8576b"
             ],
             [
              0.6666666666666666,
              "#ed7953"
             ],
             [
              0.7777777777777778,
              "#fb9f3a"
             ],
             [
              0.8888888888888888,
              "#fdca26"
             ],
             [
              1,
              "#f0f921"
             ]
            ],
            "type": "surface"
           }
          ],
          "table": [
           {
            "cells": {
             "fill": {
              "color": "#EBF0F8"
             },
             "line": {
              "color": "white"
             }
            },
            "header": {
             "fill": {
              "color": "#C8D4E3"
             },
             "line": {
              "color": "white"
             }
            },
            "type": "table"
           }
          ]
         },
         "layout": {
          "annotationdefaults": {
           "arrowcolor": "#2a3f5f",
           "arrowhead": 0,
           "arrowwidth": 1
          },
          "autotypenumbers": "strict",
          "coloraxis": {
           "colorbar": {
            "outlinewidth": 0,
            "ticks": ""
           }
          },
          "colorscale": {
           "diverging": [
            [
             0,
             "#8e0152"
            ],
            [
             0.1,
             "#c51b7d"
            ],
            [
             0.2,
             "#de77ae"
            ],
            [
             0.3,
             "#f1b6da"
            ],
            [
             0.4,
             "#fde0ef"
            ],
            [
             0.5,
             "#f7f7f7"
            ],
            [
             0.6,
             "#e6f5d0"
            ],
            [
             0.7,
             "#b8e186"
            ],
            [
             0.8,
             "#7fbc41"
            ],
            [
             0.9,
             "#4d9221"
            ],
            [
             1,
             "#276419"
            ]
           ],
           "sequential": [
            [
             0,
             "#0d0887"
            ],
            [
             0.1111111111111111,
             "#46039f"
            ],
            [
             0.2222222222222222,
             "#7201a8"
            ],
            [
             0.3333333333333333,
             "#9c179e"
            ],
            [
             0.4444444444444444,
             "#bd3786"
            ],
            [
             0.5555555555555556,
             "#d8576b"
            ],
            [
             0.6666666666666666,
             "#ed7953"
            ],
            [
             0.7777777777777778,
             "#fb9f3a"
            ],
            [
             0.8888888888888888,
             "#fdca26"
            ],
            [
             1,
             "#f0f921"
            ]
           ],
           "sequentialminus": [
            [
             0,
             "#0d0887"
            ],
            [
             0.1111111111111111,
             "#46039f"
            ],
            [
             0.2222222222222222,
             "#7201a8"
            ],
            [
             0.3333333333333333,
             "#9c179e"
            ],
            [
             0.4444444444444444,
             "#bd3786"
            ],
            [
             0.5555555555555556,
             "#d8576b"
            ],
            [
             0.6666666666666666,
             "#ed7953"
            ],
            [
             0.7777777777777778,
             "#fb9f3a"
            ],
            [
             0.8888888888888888,
             "#fdca26"
            ],
            [
             1,
             "#f0f921"
            ]
           ]
          },
          "colorway": [
           "#636efa",
           "#EF553B",
           "#00cc96",
           "#ab63fa",
           "#FFA15A",
           "#19d3f3",
           "#FF6692",
           "#B6E880",
           "#FF97FF",
           "#FECB52"
          ],
          "font": {
           "color": "#2a3f5f"
          },
          "geo": {
           "bgcolor": "white",
           "lakecolor": "white",
           "landcolor": "white",
           "showlakes": true,
           "showland": true,
           "subunitcolor": "#C8D4E3"
          },
          "hoverlabel": {
           "align": "left"
          },
          "hovermode": "closest",
          "mapbox": {
           "style": "light"
          },
          "paper_bgcolor": "white",
          "plot_bgcolor": "white",
          "polar": {
           "angularaxis": {
            "gridcolor": "#EBF0F8",
            "linecolor": "#EBF0F8",
            "ticks": ""
           },
           "bgcolor": "white",
           "radialaxis": {
            "gridcolor": "#EBF0F8",
            "linecolor": "#EBF0F8",
            "ticks": ""
           }
          },
          "scene": {
           "xaxis": {
            "backgroundcolor": "white",
            "gridcolor": "#DFE8F3",
            "gridwidth": 2,
            "linecolor": "#EBF0F8",
            "showbackground": true,
            "ticks": "",
            "zerolinecolor": "#EBF0F8"
           },
           "yaxis": {
            "backgroundcolor": "white",
            "gridcolor": "#DFE8F3",
            "gridwidth": 2,
            "linecolor": "#EBF0F8",
            "showbackground": true,
            "ticks": "",
            "zerolinecolor": "#EBF0F8"
           },
           "zaxis": {
            "backgroundcolor": "white",
            "gridcolor": "#DFE8F3",
            "gridwidth": 2,
            "linecolor": "#EBF0F8",
            "showbackground": true,
            "ticks": "",
            "zerolinecolor": "#EBF0F8"
           }
          },
          "shapedefaults": {
           "line": {
            "color": "#2a3f5f"
           }
          },
          "ternary": {
           "aaxis": {
            "gridcolor": "#DFE8F3",
            "linecolor": "#A2B1C6",
            "ticks": ""
           },
           "baxis": {
            "gridcolor": "#DFE8F3",
            "linecolor": "#A2B1C6",
            "ticks": ""
           },
           "bgcolor": "white",
           "caxis": {
            "gridcolor": "#DFE8F3",
            "linecolor": "#A2B1C6",
            "ticks": ""
           }
          },
          "title": {
           "x": 0.05
          },
          "xaxis": {
           "automargin": true,
           "gridcolor": "#EBF0F8",
           "linecolor": "#EBF0F8",
           "ticks": "",
           "title": {
            "standoff": 15
           },
           "zerolinecolor": "#EBF0F8",
           "zerolinewidth": 2
          },
          "yaxis": {
           "automargin": true,
           "gridcolor": "#EBF0F8",
           "linecolor": "#EBF0F8",
           "ticks": "",
           "title": {
            "standoff": 15
           },
           "zerolinecolor": "#EBF0F8",
           "zerolinewidth": 2
          }
         }
        },
        "title": {
         "font": {
          "size": 25
         },
         "text": "",
         "x": 0.5,
         "xanchor": "center",
         "yanchor": "top"
        },
        "width": 900,
        "xaxis": {
         "anchor": "y",
         "domain": [
          0,
          1
         ],
         "title": {
          "font": {
           "size": 12
          },
          "text": "Time"
         }
        },
        "yaxis": {
         "anchor": "x",
         "domain": [
          0,
          1
         ],
         "title": {
          "font": {
           "size": 12
          },
          "text": "Value"
         }
        }
       }
      }
     },
     "metadata": {},
     "output_type": "display_data"
    }
   ],
   "source": [
    "fig = plot_time_series(regular_time_samples, \n",
    "                 sinusoidal_samples+noise, \n",
    "                 \"\")\n",
    "fig.write_image(\"imgs/chapter_1/non_stationary_sinusoidal.png\")\n",
    "fig.show()"
   ]
  },
  {
   "cell_type": "code",
   "execution_count": null,
   "id": "8be42c5e",
   "metadata": {},
   "outputs": [],
   "source": []
  },
  {
   "cell_type": "code",
   "execution_count": null,
   "id": "0a8d9776",
   "metadata": {},
   "outputs": [],
   "source": []
  },
  {
   "cell_type": "code",
   "execution_count": null,
   "id": "31bcb4f7",
   "metadata": {},
   "outputs": [],
   "source": []
  },
  {
   "cell_type": "code",
   "execution_count": null,
   "id": "36a6d3e8",
   "metadata": {},
   "outputs": [],
   "source": []
  }
 ],
 "metadata": {
  "kernelspec": {
   "display_name": "modern_ts",
   "language": "python",
   "name": "python3"
  },
  "language_info": {
   "codemirror_mode": {
    "name": "ipython",
    "version": 3
   },
   "file_extension": ".py",
   "mimetype": "text/x-python",
   "name": "python",
   "nbconvert_exporter": "python",
   "pygments_lexer": "ipython3",
   "version": "3.11.0"
  },
  "vscode": {
   "interpreter": {
    "hash": "30fe1d27e07bcd39a201a380e0896b1a8ddc5b4c0f1bff527b499634c2e361cc"
   }
  }
 },
 "nbformat": 4,
 "nbformat_minor": 5
}
